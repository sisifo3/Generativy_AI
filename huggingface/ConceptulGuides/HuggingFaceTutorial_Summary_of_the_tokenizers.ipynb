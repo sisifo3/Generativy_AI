{
  "nbformat": 4,
  "nbformat_minor": 0,
  "metadata": {
    "colab": {
      "provenance": []
    },
    "kernelspec": {
      "name": "python3",
      "display_name": "Python 3"
    },
    "language_info": {
      "name": "python"
    },
    "widgets": {
      "application/vnd.jupyter.widget-state+json": {
        "e9c2a00df8a6496983a531588a806ee8": {
          "model_module": "@jupyter-widgets/controls",
          "model_name": "HBoxModel",
          "model_module_version": "1.5.0",
          "state": {
            "_dom_classes": [],
            "_model_module": "@jupyter-widgets/controls",
            "_model_module_version": "1.5.0",
            "_model_name": "HBoxModel",
            "_view_count": null,
            "_view_module": "@jupyter-widgets/controls",
            "_view_module_version": "1.5.0",
            "_view_name": "HBoxView",
            "box_style": "",
            "children": [
              "IPY_MODEL_0e3a0442d9a6408389c5c5f949de838b",
              "IPY_MODEL_919d1bd34d4c4c739c29e97487ee3f6c",
              "IPY_MODEL_e8425472f41843f684ee5b9e811af490"
            ],
            "layout": "IPY_MODEL_4ab5db102d564e14852f4c9e8b908d27"
          }
        },
        "0e3a0442d9a6408389c5c5f949de838b": {
          "model_module": "@jupyter-widgets/controls",
          "model_name": "HTMLModel",
          "model_module_version": "1.5.0",
          "state": {
            "_dom_classes": [],
            "_model_module": "@jupyter-widgets/controls",
            "_model_module_version": "1.5.0",
            "_model_name": "HTMLModel",
            "_view_count": null,
            "_view_module": "@jupyter-widgets/controls",
            "_view_module_version": "1.5.0",
            "_view_name": "HTMLView",
            "description": "",
            "description_tooltip": null,
            "layout": "IPY_MODEL_18816a14a5bd4bed9b623fdc78e15eb6",
            "placeholder": "​",
            "style": "IPY_MODEL_8425aed7ec89423fb2a0658530009114",
            "value": "tokenizer_config.json: 100%"
          }
        },
        "919d1bd34d4c4c739c29e97487ee3f6c": {
          "model_module": "@jupyter-widgets/controls",
          "model_name": "FloatProgressModel",
          "model_module_version": "1.5.0",
          "state": {
            "_dom_classes": [],
            "_model_module": "@jupyter-widgets/controls",
            "_model_module_version": "1.5.0",
            "_model_name": "FloatProgressModel",
            "_view_count": null,
            "_view_module": "@jupyter-widgets/controls",
            "_view_module_version": "1.5.0",
            "_view_name": "ProgressView",
            "bar_style": "success",
            "description": "",
            "description_tooltip": null,
            "layout": "IPY_MODEL_c685e7a2ed994d0dbb236dc51272169b",
            "max": 48,
            "min": 0,
            "orientation": "horizontal",
            "style": "IPY_MODEL_344903e5958b4c94acc27d237ab0a74a",
            "value": 48
          }
        },
        "e8425472f41843f684ee5b9e811af490": {
          "model_module": "@jupyter-widgets/controls",
          "model_name": "HTMLModel",
          "model_module_version": "1.5.0",
          "state": {
            "_dom_classes": [],
            "_model_module": "@jupyter-widgets/controls",
            "_model_module_version": "1.5.0",
            "_model_name": "HTMLModel",
            "_view_count": null,
            "_view_module": "@jupyter-widgets/controls",
            "_view_module_version": "1.5.0",
            "_view_name": "HTMLView",
            "description": "",
            "description_tooltip": null,
            "layout": "IPY_MODEL_8328d0e9214445389b1f1c7f145ed06c",
            "placeholder": "​",
            "style": "IPY_MODEL_860cac57afd848058364c5278a4c5ef2",
            "value": " 48.0/48.0 [00:00&lt;00:00, 597B/s]"
          }
        },
        "4ab5db102d564e14852f4c9e8b908d27": {
          "model_module": "@jupyter-widgets/base",
          "model_name": "LayoutModel",
          "model_module_version": "1.2.0",
          "state": {
            "_model_module": "@jupyter-widgets/base",
            "_model_module_version": "1.2.0",
            "_model_name": "LayoutModel",
            "_view_count": null,
            "_view_module": "@jupyter-widgets/base",
            "_view_module_version": "1.2.0",
            "_view_name": "LayoutView",
            "align_content": null,
            "align_items": null,
            "align_self": null,
            "border": null,
            "bottom": null,
            "display": null,
            "flex": null,
            "flex_flow": null,
            "grid_area": null,
            "grid_auto_columns": null,
            "grid_auto_flow": null,
            "grid_auto_rows": null,
            "grid_column": null,
            "grid_gap": null,
            "grid_row": null,
            "grid_template_areas": null,
            "grid_template_columns": null,
            "grid_template_rows": null,
            "height": null,
            "justify_content": null,
            "justify_items": null,
            "left": null,
            "margin": null,
            "max_height": null,
            "max_width": null,
            "min_height": null,
            "min_width": null,
            "object_fit": null,
            "object_position": null,
            "order": null,
            "overflow": null,
            "overflow_x": null,
            "overflow_y": null,
            "padding": null,
            "right": null,
            "top": null,
            "visibility": null,
            "width": null
          }
        },
        "18816a14a5bd4bed9b623fdc78e15eb6": {
          "model_module": "@jupyter-widgets/base",
          "model_name": "LayoutModel",
          "model_module_version": "1.2.0",
          "state": {
            "_model_module": "@jupyter-widgets/base",
            "_model_module_version": "1.2.0",
            "_model_name": "LayoutModel",
            "_view_count": null,
            "_view_module": "@jupyter-widgets/base",
            "_view_module_version": "1.2.0",
            "_view_name": "LayoutView",
            "align_content": null,
            "align_items": null,
            "align_self": null,
            "border": null,
            "bottom": null,
            "display": null,
            "flex": null,
            "flex_flow": null,
            "grid_area": null,
            "grid_auto_columns": null,
            "grid_auto_flow": null,
            "grid_auto_rows": null,
            "grid_column": null,
            "grid_gap": null,
            "grid_row": null,
            "grid_template_areas": null,
            "grid_template_columns": null,
            "grid_template_rows": null,
            "height": null,
            "justify_content": null,
            "justify_items": null,
            "left": null,
            "margin": null,
            "max_height": null,
            "max_width": null,
            "min_height": null,
            "min_width": null,
            "object_fit": null,
            "object_position": null,
            "order": null,
            "overflow": null,
            "overflow_x": null,
            "overflow_y": null,
            "padding": null,
            "right": null,
            "top": null,
            "visibility": null,
            "width": null
          }
        },
        "8425aed7ec89423fb2a0658530009114": {
          "model_module": "@jupyter-widgets/controls",
          "model_name": "DescriptionStyleModel",
          "model_module_version": "1.5.0",
          "state": {
            "_model_module": "@jupyter-widgets/controls",
            "_model_module_version": "1.5.0",
            "_model_name": "DescriptionStyleModel",
            "_view_count": null,
            "_view_module": "@jupyter-widgets/base",
            "_view_module_version": "1.2.0",
            "_view_name": "StyleView",
            "description_width": ""
          }
        },
        "c685e7a2ed994d0dbb236dc51272169b": {
          "model_module": "@jupyter-widgets/base",
          "model_name": "LayoutModel",
          "model_module_version": "1.2.0",
          "state": {
            "_model_module": "@jupyter-widgets/base",
            "_model_module_version": "1.2.0",
            "_model_name": "LayoutModel",
            "_view_count": null,
            "_view_module": "@jupyter-widgets/base",
            "_view_module_version": "1.2.0",
            "_view_name": "LayoutView",
            "align_content": null,
            "align_items": null,
            "align_self": null,
            "border": null,
            "bottom": null,
            "display": null,
            "flex": null,
            "flex_flow": null,
            "grid_area": null,
            "grid_auto_columns": null,
            "grid_auto_flow": null,
            "grid_auto_rows": null,
            "grid_column": null,
            "grid_gap": null,
            "grid_row": null,
            "grid_template_areas": null,
            "grid_template_columns": null,
            "grid_template_rows": null,
            "height": null,
            "justify_content": null,
            "justify_items": null,
            "left": null,
            "margin": null,
            "max_height": null,
            "max_width": null,
            "min_height": null,
            "min_width": null,
            "object_fit": null,
            "object_position": null,
            "order": null,
            "overflow": null,
            "overflow_x": null,
            "overflow_y": null,
            "padding": null,
            "right": null,
            "top": null,
            "visibility": null,
            "width": null
          }
        },
        "344903e5958b4c94acc27d237ab0a74a": {
          "model_module": "@jupyter-widgets/controls",
          "model_name": "ProgressStyleModel",
          "model_module_version": "1.5.0",
          "state": {
            "_model_module": "@jupyter-widgets/controls",
            "_model_module_version": "1.5.0",
            "_model_name": "ProgressStyleModel",
            "_view_count": null,
            "_view_module": "@jupyter-widgets/base",
            "_view_module_version": "1.2.0",
            "_view_name": "StyleView",
            "bar_color": null,
            "description_width": ""
          }
        },
        "8328d0e9214445389b1f1c7f145ed06c": {
          "model_module": "@jupyter-widgets/base",
          "model_name": "LayoutModel",
          "model_module_version": "1.2.0",
          "state": {
            "_model_module": "@jupyter-widgets/base",
            "_model_module_version": "1.2.0",
            "_model_name": "LayoutModel",
            "_view_count": null,
            "_view_module": "@jupyter-widgets/base",
            "_view_module_version": "1.2.0",
            "_view_name": "LayoutView",
            "align_content": null,
            "align_items": null,
            "align_self": null,
            "border": null,
            "bottom": null,
            "display": null,
            "flex": null,
            "flex_flow": null,
            "grid_area": null,
            "grid_auto_columns": null,
            "grid_auto_flow": null,
            "grid_auto_rows": null,
            "grid_column": null,
            "grid_gap": null,
            "grid_row": null,
            "grid_template_areas": null,
            "grid_template_columns": null,
            "grid_template_rows": null,
            "height": null,
            "justify_content": null,
            "justify_items": null,
            "left": null,
            "margin": null,
            "max_height": null,
            "max_width": null,
            "min_height": null,
            "min_width": null,
            "object_fit": null,
            "object_position": null,
            "order": null,
            "overflow": null,
            "overflow_x": null,
            "overflow_y": null,
            "padding": null,
            "right": null,
            "top": null,
            "visibility": null,
            "width": null
          }
        },
        "860cac57afd848058364c5278a4c5ef2": {
          "model_module": "@jupyter-widgets/controls",
          "model_name": "DescriptionStyleModel",
          "model_module_version": "1.5.0",
          "state": {
            "_model_module": "@jupyter-widgets/controls",
            "_model_module_version": "1.5.0",
            "_model_name": "DescriptionStyleModel",
            "_view_count": null,
            "_view_module": "@jupyter-widgets/base",
            "_view_module_version": "1.2.0",
            "_view_name": "StyleView",
            "description_width": ""
          }
        },
        "db2c640957c441098a10beab211a002c": {
          "model_module": "@jupyter-widgets/controls",
          "model_name": "HBoxModel",
          "model_module_version": "1.5.0",
          "state": {
            "_dom_classes": [],
            "_model_module": "@jupyter-widgets/controls",
            "_model_module_version": "1.5.0",
            "_model_name": "HBoxModel",
            "_view_count": null,
            "_view_module": "@jupyter-widgets/controls",
            "_view_module_version": "1.5.0",
            "_view_name": "HBoxView",
            "box_style": "",
            "children": [
              "IPY_MODEL_8201a8bc18734e27a4d67d8118a7eed8",
              "IPY_MODEL_1c42021fce9c4347b08539be1498f4ed",
              "IPY_MODEL_eca179a8a1c643c097fd714752d2c6e5"
            ],
            "layout": "IPY_MODEL_6a371f3a1c3641618503f8c17e9d26ee"
          }
        },
        "8201a8bc18734e27a4d67d8118a7eed8": {
          "model_module": "@jupyter-widgets/controls",
          "model_name": "HTMLModel",
          "model_module_version": "1.5.0",
          "state": {
            "_dom_classes": [],
            "_model_module": "@jupyter-widgets/controls",
            "_model_module_version": "1.5.0",
            "_model_name": "HTMLModel",
            "_view_count": null,
            "_view_module": "@jupyter-widgets/controls",
            "_view_module_version": "1.5.0",
            "_view_name": "HTMLView",
            "description": "",
            "description_tooltip": null,
            "layout": "IPY_MODEL_b90f1b3dc54844e7a21ea117f6bdfd28",
            "placeholder": "​",
            "style": "IPY_MODEL_0a76775734e24324b9435d63a013d44c",
            "value": "vocab.txt: 100%"
          }
        },
        "1c42021fce9c4347b08539be1498f4ed": {
          "model_module": "@jupyter-widgets/controls",
          "model_name": "FloatProgressModel",
          "model_module_version": "1.5.0",
          "state": {
            "_dom_classes": [],
            "_model_module": "@jupyter-widgets/controls",
            "_model_module_version": "1.5.0",
            "_model_name": "FloatProgressModel",
            "_view_count": null,
            "_view_module": "@jupyter-widgets/controls",
            "_view_module_version": "1.5.0",
            "_view_name": "ProgressView",
            "bar_style": "success",
            "description": "",
            "description_tooltip": null,
            "layout": "IPY_MODEL_410b9579ce4a4d92804f8a11c62e9d31",
            "max": 231508,
            "min": 0,
            "orientation": "horizontal",
            "style": "IPY_MODEL_e5c21478202c4b24864a865e2f164f93",
            "value": 231508
          }
        },
        "eca179a8a1c643c097fd714752d2c6e5": {
          "model_module": "@jupyter-widgets/controls",
          "model_name": "HTMLModel",
          "model_module_version": "1.5.0",
          "state": {
            "_dom_classes": [],
            "_model_module": "@jupyter-widgets/controls",
            "_model_module_version": "1.5.0",
            "_model_name": "HTMLModel",
            "_view_count": null,
            "_view_module": "@jupyter-widgets/controls",
            "_view_module_version": "1.5.0",
            "_view_name": "HTMLView",
            "description": "",
            "description_tooltip": null,
            "layout": "IPY_MODEL_3d27602bfbe4409b9131c735d0b5cf7d",
            "placeholder": "​",
            "style": "IPY_MODEL_32d259e2ca224a96962da28f50a326eb",
            "value": " 232k/232k [00:00&lt;00:00, 717kB/s]"
          }
        },
        "6a371f3a1c3641618503f8c17e9d26ee": {
          "model_module": "@jupyter-widgets/base",
          "model_name": "LayoutModel",
          "model_module_version": "1.2.0",
          "state": {
            "_model_module": "@jupyter-widgets/base",
            "_model_module_version": "1.2.0",
            "_model_name": "LayoutModel",
            "_view_count": null,
            "_view_module": "@jupyter-widgets/base",
            "_view_module_version": "1.2.0",
            "_view_name": "LayoutView",
            "align_content": null,
            "align_items": null,
            "align_self": null,
            "border": null,
            "bottom": null,
            "display": null,
            "flex": null,
            "flex_flow": null,
            "grid_area": null,
            "grid_auto_columns": null,
            "grid_auto_flow": null,
            "grid_auto_rows": null,
            "grid_column": null,
            "grid_gap": null,
            "grid_row": null,
            "grid_template_areas": null,
            "grid_template_columns": null,
            "grid_template_rows": null,
            "height": null,
            "justify_content": null,
            "justify_items": null,
            "left": null,
            "margin": null,
            "max_height": null,
            "max_width": null,
            "min_height": null,
            "min_width": null,
            "object_fit": null,
            "object_position": null,
            "order": null,
            "overflow": null,
            "overflow_x": null,
            "overflow_y": null,
            "padding": null,
            "right": null,
            "top": null,
            "visibility": null,
            "width": null
          }
        },
        "b90f1b3dc54844e7a21ea117f6bdfd28": {
          "model_module": "@jupyter-widgets/base",
          "model_name": "LayoutModel",
          "model_module_version": "1.2.0",
          "state": {
            "_model_module": "@jupyter-widgets/base",
            "_model_module_version": "1.2.0",
            "_model_name": "LayoutModel",
            "_view_count": null,
            "_view_module": "@jupyter-widgets/base",
            "_view_module_version": "1.2.0",
            "_view_name": "LayoutView",
            "align_content": null,
            "align_items": null,
            "align_self": null,
            "border": null,
            "bottom": null,
            "display": null,
            "flex": null,
            "flex_flow": null,
            "grid_area": null,
            "grid_auto_columns": null,
            "grid_auto_flow": null,
            "grid_auto_rows": null,
            "grid_column": null,
            "grid_gap": null,
            "grid_row": null,
            "grid_template_areas": null,
            "grid_template_columns": null,
            "grid_template_rows": null,
            "height": null,
            "justify_content": null,
            "justify_items": null,
            "left": null,
            "margin": null,
            "max_height": null,
            "max_width": null,
            "min_height": null,
            "min_width": null,
            "object_fit": null,
            "object_position": null,
            "order": null,
            "overflow": null,
            "overflow_x": null,
            "overflow_y": null,
            "padding": null,
            "right": null,
            "top": null,
            "visibility": null,
            "width": null
          }
        },
        "0a76775734e24324b9435d63a013d44c": {
          "model_module": "@jupyter-widgets/controls",
          "model_name": "DescriptionStyleModel",
          "model_module_version": "1.5.0",
          "state": {
            "_model_module": "@jupyter-widgets/controls",
            "_model_module_version": "1.5.0",
            "_model_name": "DescriptionStyleModel",
            "_view_count": null,
            "_view_module": "@jupyter-widgets/base",
            "_view_module_version": "1.2.0",
            "_view_name": "StyleView",
            "description_width": ""
          }
        },
        "410b9579ce4a4d92804f8a11c62e9d31": {
          "model_module": "@jupyter-widgets/base",
          "model_name": "LayoutModel",
          "model_module_version": "1.2.0",
          "state": {
            "_model_module": "@jupyter-widgets/base",
            "_model_module_version": "1.2.0",
            "_model_name": "LayoutModel",
            "_view_count": null,
            "_view_module": "@jupyter-widgets/base",
            "_view_module_version": "1.2.0",
            "_view_name": "LayoutView",
            "align_content": null,
            "align_items": null,
            "align_self": null,
            "border": null,
            "bottom": null,
            "display": null,
            "flex": null,
            "flex_flow": null,
            "grid_area": null,
            "grid_auto_columns": null,
            "grid_auto_flow": null,
            "grid_auto_rows": null,
            "grid_column": null,
            "grid_gap": null,
            "grid_row": null,
            "grid_template_areas": null,
            "grid_template_columns": null,
            "grid_template_rows": null,
            "height": null,
            "justify_content": null,
            "justify_items": null,
            "left": null,
            "margin": null,
            "max_height": null,
            "max_width": null,
            "min_height": null,
            "min_width": null,
            "object_fit": null,
            "object_position": null,
            "order": null,
            "overflow": null,
            "overflow_x": null,
            "overflow_y": null,
            "padding": null,
            "right": null,
            "top": null,
            "visibility": null,
            "width": null
          }
        },
        "e5c21478202c4b24864a865e2f164f93": {
          "model_module": "@jupyter-widgets/controls",
          "model_name": "ProgressStyleModel",
          "model_module_version": "1.5.0",
          "state": {
            "_model_module": "@jupyter-widgets/controls",
            "_model_module_version": "1.5.0",
            "_model_name": "ProgressStyleModel",
            "_view_count": null,
            "_view_module": "@jupyter-widgets/base",
            "_view_module_version": "1.2.0",
            "_view_name": "StyleView",
            "bar_color": null,
            "description_width": ""
          }
        },
        "3d27602bfbe4409b9131c735d0b5cf7d": {
          "model_module": "@jupyter-widgets/base",
          "model_name": "LayoutModel",
          "model_module_version": "1.2.0",
          "state": {
            "_model_module": "@jupyter-widgets/base",
            "_model_module_version": "1.2.0",
            "_model_name": "LayoutModel",
            "_view_count": null,
            "_view_module": "@jupyter-widgets/base",
            "_view_module_version": "1.2.0",
            "_view_name": "LayoutView",
            "align_content": null,
            "align_items": null,
            "align_self": null,
            "border": null,
            "bottom": null,
            "display": null,
            "flex": null,
            "flex_flow": null,
            "grid_area": null,
            "grid_auto_columns": null,
            "grid_auto_flow": null,
            "grid_auto_rows": null,
            "grid_column": null,
            "grid_gap": null,
            "grid_row": null,
            "grid_template_areas": null,
            "grid_template_columns": null,
            "grid_template_rows": null,
            "height": null,
            "justify_content": null,
            "justify_items": null,
            "left": null,
            "margin": null,
            "max_height": null,
            "max_width": null,
            "min_height": null,
            "min_width": null,
            "object_fit": null,
            "object_position": null,
            "order": null,
            "overflow": null,
            "overflow_x": null,
            "overflow_y": null,
            "padding": null,
            "right": null,
            "top": null,
            "visibility": null,
            "width": null
          }
        },
        "32d259e2ca224a96962da28f50a326eb": {
          "model_module": "@jupyter-widgets/controls",
          "model_name": "DescriptionStyleModel",
          "model_module_version": "1.5.0",
          "state": {
            "_model_module": "@jupyter-widgets/controls",
            "_model_module_version": "1.5.0",
            "_model_name": "DescriptionStyleModel",
            "_view_count": null,
            "_view_module": "@jupyter-widgets/base",
            "_view_module_version": "1.2.0",
            "_view_name": "StyleView",
            "description_width": ""
          }
        },
        "3e33aacf9f1549abb4c186e9b154f3ba": {
          "model_module": "@jupyter-widgets/controls",
          "model_name": "HBoxModel",
          "model_module_version": "1.5.0",
          "state": {
            "_dom_classes": [],
            "_model_module": "@jupyter-widgets/controls",
            "_model_module_version": "1.5.0",
            "_model_name": "HBoxModel",
            "_view_count": null,
            "_view_module": "@jupyter-widgets/controls",
            "_view_module_version": "1.5.0",
            "_view_name": "HBoxView",
            "box_style": "",
            "children": [
              "IPY_MODEL_8c7c12e576cb48038ca373826541c516",
              "IPY_MODEL_ca61def808b748b6911d8151599255f4",
              "IPY_MODEL_455c5dff7481447abe934ade3ace4dd9"
            ],
            "layout": "IPY_MODEL_a3f64765a3ad46c396a9c3667bc0d76d"
          }
        },
        "8c7c12e576cb48038ca373826541c516": {
          "model_module": "@jupyter-widgets/controls",
          "model_name": "HTMLModel",
          "model_module_version": "1.5.0",
          "state": {
            "_dom_classes": [],
            "_model_module": "@jupyter-widgets/controls",
            "_model_module_version": "1.5.0",
            "_model_name": "HTMLModel",
            "_view_count": null,
            "_view_module": "@jupyter-widgets/controls",
            "_view_module_version": "1.5.0",
            "_view_name": "HTMLView",
            "description": "",
            "description_tooltip": null,
            "layout": "IPY_MODEL_6457668b93fc4494aa7ba0fc48b41917",
            "placeholder": "​",
            "style": "IPY_MODEL_04344d3a46b04f6dacd167333c8849d1",
            "value": "tokenizer.json: 100%"
          }
        },
        "ca61def808b748b6911d8151599255f4": {
          "model_module": "@jupyter-widgets/controls",
          "model_name": "FloatProgressModel",
          "model_module_version": "1.5.0",
          "state": {
            "_dom_classes": [],
            "_model_module": "@jupyter-widgets/controls",
            "_model_module_version": "1.5.0",
            "_model_name": "FloatProgressModel",
            "_view_count": null,
            "_view_module": "@jupyter-widgets/controls",
            "_view_module_version": "1.5.0",
            "_view_name": "ProgressView",
            "bar_style": "success",
            "description": "",
            "description_tooltip": null,
            "layout": "IPY_MODEL_b144a0e90f4f422db07c5d76c051bb85",
            "max": 466062,
            "min": 0,
            "orientation": "horizontal",
            "style": "IPY_MODEL_9cd09fd842d2422499fac0d931067cb5",
            "value": 466062
          }
        },
        "455c5dff7481447abe934ade3ace4dd9": {
          "model_module": "@jupyter-widgets/controls",
          "model_name": "HTMLModel",
          "model_module_version": "1.5.0",
          "state": {
            "_dom_classes": [],
            "_model_module": "@jupyter-widgets/controls",
            "_model_module_version": "1.5.0",
            "_model_name": "HTMLModel",
            "_view_count": null,
            "_view_module": "@jupyter-widgets/controls",
            "_view_module_version": "1.5.0",
            "_view_name": "HTMLView",
            "description": "",
            "description_tooltip": null,
            "layout": "IPY_MODEL_06e32bddad8b4ccba80bc8b95cea43e1",
            "placeholder": "​",
            "style": "IPY_MODEL_1be5568729af421cb12c494bff217614",
            "value": " 466k/466k [00:00&lt;00:00, 6.84MB/s]"
          }
        },
        "a3f64765a3ad46c396a9c3667bc0d76d": {
          "model_module": "@jupyter-widgets/base",
          "model_name": "LayoutModel",
          "model_module_version": "1.2.0",
          "state": {
            "_model_module": "@jupyter-widgets/base",
            "_model_module_version": "1.2.0",
            "_model_name": "LayoutModel",
            "_view_count": null,
            "_view_module": "@jupyter-widgets/base",
            "_view_module_version": "1.2.0",
            "_view_name": "LayoutView",
            "align_content": null,
            "align_items": null,
            "align_self": null,
            "border": null,
            "bottom": null,
            "display": null,
            "flex": null,
            "flex_flow": null,
            "grid_area": null,
            "grid_auto_columns": null,
            "grid_auto_flow": null,
            "grid_auto_rows": null,
            "grid_column": null,
            "grid_gap": null,
            "grid_row": null,
            "grid_template_areas": null,
            "grid_template_columns": null,
            "grid_template_rows": null,
            "height": null,
            "justify_content": null,
            "justify_items": null,
            "left": null,
            "margin": null,
            "max_height": null,
            "max_width": null,
            "min_height": null,
            "min_width": null,
            "object_fit": null,
            "object_position": null,
            "order": null,
            "overflow": null,
            "overflow_x": null,
            "overflow_y": null,
            "padding": null,
            "right": null,
            "top": null,
            "visibility": null,
            "width": null
          }
        },
        "6457668b93fc4494aa7ba0fc48b41917": {
          "model_module": "@jupyter-widgets/base",
          "model_name": "LayoutModel",
          "model_module_version": "1.2.0",
          "state": {
            "_model_module": "@jupyter-widgets/base",
            "_model_module_version": "1.2.0",
            "_model_name": "LayoutModel",
            "_view_count": null,
            "_view_module": "@jupyter-widgets/base",
            "_view_module_version": "1.2.0",
            "_view_name": "LayoutView",
            "align_content": null,
            "align_items": null,
            "align_self": null,
            "border": null,
            "bottom": null,
            "display": null,
            "flex": null,
            "flex_flow": null,
            "grid_area": null,
            "grid_auto_columns": null,
            "grid_auto_flow": null,
            "grid_auto_rows": null,
            "grid_column": null,
            "grid_gap": null,
            "grid_row": null,
            "grid_template_areas": null,
            "grid_template_columns": null,
            "grid_template_rows": null,
            "height": null,
            "justify_content": null,
            "justify_items": null,
            "left": null,
            "margin": null,
            "max_height": null,
            "max_width": null,
            "min_height": null,
            "min_width": null,
            "object_fit": null,
            "object_position": null,
            "order": null,
            "overflow": null,
            "overflow_x": null,
            "overflow_y": null,
            "padding": null,
            "right": null,
            "top": null,
            "visibility": null,
            "width": null
          }
        },
        "04344d3a46b04f6dacd167333c8849d1": {
          "model_module": "@jupyter-widgets/controls",
          "model_name": "DescriptionStyleModel",
          "model_module_version": "1.5.0",
          "state": {
            "_model_module": "@jupyter-widgets/controls",
            "_model_module_version": "1.5.0",
            "_model_name": "DescriptionStyleModel",
            "_view_count": null,
            "_view_module": "@jupyter-widgets/base",
            "_view_module_version": "1.2.0",
            "_view_name": "StyleView",
            "description_width": ""
          }
        },
        "b144a0e90f4f422db07c5d76c051bb85": {
          "model_module": "@jupyter-widgets/base",
          "model_name": "LayoutModel",
          "model_module_version": "1.2.0",
          "state": {
            "_model_module": "@jupyter-widgets/base",
            "_model_module_version": "1.2.0",
            "_model_name": "LayoutModel",
            "_view_count": null,
            "_view_module": "@jupyter-widgets/base",
            "_view_module_version": "1.2.0",
            "_view_name": "LayoutView",
            "align_content": null,
            "align_items": null,
            "align_self": null,
            "border": null,
            "bottom": null,
            "display": null,
            "flex": null,
            "flex_flow": null,
            "grid_area": null,
            "grid_auto_columns": null,
            "grid_auto_flow": null,
            "grid_auto_rows": null,
            "grid_column": null,
            "grid_gap": null,
            "grid_row": null,
            "grid_template_areas": null,
            "grid_template_columns": null,
            "grid_template_rows": null,
            "height": null,
            "justify_content": null,
            "justify_items": null,
            "left": null,
            "margin": null,
            "max_height": null,
            "max_width": null,
            "min_height": null,
            "min_width": null,
            "object_fit": null,
            "object_position": null,
            "order": null,
            "overflow": null,
            "overflow_x": null,
            "overflow_y": null,
            "padding": null,
            "right": null,
            "top": null,
            "visibility": null,
            "width": null
          }
        },
        "9cd09fd842d2422499fac0d931067cb5": {
          "model_module": "@jupyter-widgets/controls",
          "model_name": "ProgressStyleModel",
          "model_module_version": "1.5.0",
          "state": {
            "_model_module": "@jupyter-widgets/controls",
            "_model_module_version": "1.5.0",
            "_model_name": "ProgressStyleModel",
            "_view_count": null,
            "_view_module": "@jupyter-widgets/base",
            "_view_module_version": "1.2.0",
            "_view_name": "StyleView",
            "bar_color": null,
            "description_width": ""
          }
        },
        "06e32bddad8b4ccba80bc8b95cea43e1": {
          "model_module": "@jupyter-widgets/base",
          "model_name": "LayoutModel",
          "model_module_version": "1.2.0",
          "state": {
            "_model_module": "@jupyter-widgets/base",
            "_model_module_version": "1.2.0",
            "_model_name": "LayoutModel",
            "_view_count": null,
            "_view_module": "@jupyter-widgets/base",
            "_view_module_version": "1.2.0",
            "_view_name": "LayoutView",
            "align_content": null,
            "align_items": null,
            "align_self": null,
            "border": null,
            "bottom": null,
            "display": null,
            "flex": null,
            "flex_flow": null,
            "grid_area": null,
            "grid_auto_columns": null,
            "grid_auto_flow": null,
            "grid_auto_rows": null,
            "grid_column": null,
            "grid_gap": null,
            "grid_row": null,
            "grid_template_areas": null,
            "grid_template_columns": null,
            "grid_template_rows": null,
            "height": null,
            "justify_content": null,
            "justify_items": null,
            "left": null,
            "margin": null,
            "max_height": null,
            "max_width": null,
            "min_height": null,
            "min_width": null,
            "object_fit": null,
            "object_position": null,
            "order": null,
            "overflow": null,
            "overflow_x": null,
            "overflow_y": null,
            "padding": null,
            "right": null,
            "top": null,
            "visibility": null,
            "width": null
          }
        },
        "1be5568729af421cb12c494bff217614": {
          "model_module": "@jupyter-widgets/controls",
          "model_name": "DescriptionStyleModel",
          "model_module_version": "1.5.0",
          "state": {
            "_model_module": "@jupyter-widgets/controls",
            "_model_module_version": "1.5.0",
            "_model_name": "DescriptionStyleModel",
            "_view_count": null,
            "_view_module": "@jupyter-widgets/base",
            "_view_module_version": "1.2.0",
            "_view_name": "StyleView",
            "description_width": ""
          }
        },
        "733f9805baf842adbfe12fa8b7cf1530": {
          "model_module": "@jupyter-widgets/controls",
          "model_name": "HBoxModel",
          "model_module_version": "1.5.0",
          "state": {
            "_dom_classes": [],
            "_model_module": "@jupyter-widgets/controls",
            "_model_module_version": "1.5.0",
            "_model_name": "HBoxModel",
            "_view_count": null,
            "_view_module": "@jupyter-widgets/controls",
            "_view_module_version": "1.5.0",
            "_view_name": "HBoxView",
            "box_style": "",
            "children": [
              "IPY_MODEL_b19d79d04bec466cb81fcc7debf96dd0",
              "IPY_MODEL_acd173c1518145b3b3681eb407ca7463",
              "IPY_MODEL_e79fe7ab70da4788bfeca21aa5fd00ec"
            ],
            "layout": "IPY_MODEL_c031561ddc264535a5e4cb5e58a969af"
          }
        },
        "b19d79d04bec466cb81fcc7debf96dd0": {
          "model_module": "@jupyter-widgets/controls",
          "model_name": "HTMLModel",
          "model_module_version": "1.5.0",
          "state": {
            "_dom_classes": [],
            "_model_module": "@jupyter-widgets/controls",
            "_model_module_version": "1.5.0",
            "_model_name": "HTMLModel",
            "_view_count": null,
            "_view_module": "@jupyter-widgets/controls",
            "_view_module_version": "1.5.0",
            "_view_name": "HTMLView",
            "description": "",
            "description_tooltip": null,
            "layout": "IPY_MODEL_deae1df499d645e68b0d7d77ffc65e34",
            "placeholder": "​",
            "style": "IPY_MODEL_3e9988d3cff843fe854750723381c782",
            "value": "config.json: 100%"
          }
        },
        "acd173c1518145b3b3681eb407ca7463": {
          "model_module": "@jupyter-widgets/controls",
          "model_name": "FloatProgressModel",
          "model_module_version": "1.5.0",
          "state": {
            "_dom_classes": [],
            "_model_module": "@jupyter-widgets/controls",
            "_model_module_version": "1.5.0",
            "_model_name": "FloatProgressModel",
            "_view_count": null,
            "_view_module": "@jupyter-widgets/controls",
            "_view_module_version": "1.5.0",
            "_view_name": "ProgressView",
            "bar_style": "success",
            "description": "",
            "description_tooltip": null,
            "layout": "IPY_MODEL_f403cd30d2f44c01885d2154d8452baa",
            "max": 570,
            "min": 0,
            "orientation": "horizontal",
            "style": "IPY_MODEL_bf8d708b41564562a1877fedd73ab9db",
            "value": 570
          }
        },
        "e79fe7ab70da4788bfeca21aa5fd00ec": {
          "model_module": "@jupyter-widgets/controls",
          "model_name": "HTMLModel",
          "model_module_version": "1.5.0",
          "state": {
            "_dom_classes": [],
            "_model_module": "@jupyter-widgets/controls",
            "_model_module_version": "1.5.0",
            "_model_name": "HTMLModel",
            "_view_count": null,
            "_view_module": "@jupyter-widgets/controls",
            "_view_module_version": "1.5.0",
            "_view_name": "HTMLView",
            "description": "",
            "description_tooltip": null,
            "layout": "IPY_MODEL_b44c045083a04b01b323e4bf57ccce25",
            "placeholder": "​",
            "style": "IPY_MODEL_34881dc8b83943749faf3dc89f789897",
            "value": " 570/570 [00:00&lt;00:00, 9.63kB/s]"
          }
        },
        "c031561ddc264535a5e4cb5e58a969af": {
          "model_module": "@jupyter-widgets/base",
          "model_name": "LayoutModel",
          "model_module_version": "1.2.0",
          "state": {
            "_model_module": "@jupyter-widgets/base",
            "_model_module_version": "1.2.0",
            "_model_name": "LayoutModel",
            "_view_count": null,
            "_view_module": "@jupyter-widgets/base",
            "_view_module_version": "1.2.0",
            "_view_name": "LayoutView",
            "align_content": null,
            "align_items": null,
            "align_self": null,
            "border": null,
            "bottom": null,
            "display": null,
            "flex": null,
            "flex_flow": null,
            "grid_area": null,
            "grid_auto_columns": null,
            "grid_auto_flow": null,
            "grid_auto_rows": null,
            "grid_column": null,
            "grid_gap": null,
            "grid_row": null,
            "grid_template_areas": null,
            "grid_template_columns": null,
            "grid_template_rows": null,
            "height": null,
            "justify_content": null,
            "justify_items": null,
            "left": null,
            "margin": null,
            "max_height": null,
            "max_width": null,
            "min_height": null,
            "min_width": null,
            "object_fit": null,
            "object_position": null,
            "order": null,
            "overflow": null,
            "overflow_x": null,
            "overflow_y": null,
            "padding": null,
            "right": null,
            "top": null,
            "visibility": null,
            "width": null
          }
        },
        "deae1df499d645e68b0d7d77ffc65e34": {
          "model_module": "@jupyter-widgets/base",
          "model_name": "LayoutModel",
          "model_module_version": "1.2.0",
          "state": {
            "_model_module": "@jupyter-widgets/base",
            "_model_module_version": "1.2.0",
            "_model_name": "LayoutModel",
            "_view_count": null,
            "_view_module": "@jupyter-widgets/base",
            "_view_module_version": "1.2.0",
            "_view_name": "LayoutView",
            "align_content": null,
            "align_items": null,
            "align_self": null,
            "border": null,
            "bottom": null,
            "display": null,
            "flex": null,
            "flex_flow": null,
            "grid_area": null,
            "grid_auto_columns": null,
            "grid_auto_flow": null,
            "grid_auto_rows": null,
            "grid_column": null,
            "grid_gap": null,
            "grid_row": null,
            "grid_template_areas": null,
            "grid_template_columns": null,
            "grid_template_rows": null,
            "height": null,
            "justify_content": null,
            "justify_items": null,
            "left": null,
            "margin": null,
            "max_height": null,
            "max_width": null,
            "min_height": null,
            "min_width": null,
            "object_fit": null,
            "object_position": null,
            "order": null,
            "overflow": null,
            "overflow_x": null,
            "overflow_y": null,
            "padding": null,
            "right": null,
            "top": null,
            "visibility": null,
            "width": null
          }
        },
        "3e9988d3cff843fe854750723381c782": {
          "model_module": "@jupyter-widgets/controls",
          "model_name": "DescriptionStyleModel",
          "model_module_version": "1.5.0",
          "state": {
            "_model_module": "@jupyter-widgets/controls",
            "_model_module_version": "1.5.0",
            "_model_name": "DescriptionStyleModel",
            "_view_count": null,
            "_view_module": "@jupyter-widgets/base",
            "_view_module_version": "1.2.0",
            "_view_name": "StyleView",
            "description_width": ""
          }
        },
        "f403cd30d2f44c01885d2154d8452baa": {
          "model_module": "@jupyter-widgets/base",
          "model_name": "LayoutModel",
          "model_module_version": "1.2.0",
          "state": {
            "_model_module": "@jupyter-widgets/base",
            "_model_module_version": "1.2.0",
            "_model_name": "LayoutModel",
            "_view_count": null,
            "_view_module": "@jupyter-widgets/base",
            "_view_module_version": "1.2.0",
            "_view_name": "LayoutView",
            "align_content": null,
            "align_items": null,
            "align_self": null,
            "border": null,
            "bottom": null,
            "display": null,
            "flex": null,
            "flex_flow": null,
            "grid_area": null,
            "grid_auto_columns": null,
            "grid_auto_flow": null,
            "grid_auto_rows": null,
            "grid_column": null,
            "grid_gap": null,
            "grid_row": null,
            "grid_template_areas": null,
            "grid_template_columns": null,
            "grid_template_rows": null,
            "height": null,
            "justify_content": null,
            "justify_items": null,
            "left": null,
            "margin": null,
            "max_height": null,
            "max_width": null,
            "min_height": null,
            "min_width": null,
            "object_fit": null,
            "object_position": null,
            "order": null,
            "overflow": null,
            "overflow_x": null,
            "overflow_y": null,
            "padding": null,
            "right": null,
            "top": null,
            "visibility": null,
            "width": null
          }
        },
        "bf8d708b41564562a1877fedd73ab9db": {
          "model_module": "@jupyter-widgets/controls",
          "model_name": "ProgressStyleModel",
          "model_module_version": "1.5.0",
          "state": {
            "_model_module": "@jupyter-widgets/controls",
            "_model_module_version": "1.5.0",
            "_model_name": "ProgressStyleModel",
            "_view_count": null,
            "_view_module": "@jupyter-widgets/base",
            "_view_module_version": "1.2.0",
            "_view_name": "StyleView",
            "bar_color": null,
            "description_width": ""
          }
        },
        "b44c045083a04b01b323e4bf57ccce25": {
          "model_module": "@jupyter-widgets/base",
          "model_name": "LayoutModel",
          "model_module_version": "1.2.0",
          "state": {
            "_model_module": "@jupyter-widgets/base",
            "_model_module_version": "1.2.0",
            "_model_name": "LayoutModel",
            "_view_count": null,
            "_view_module": "@jupyter-widgets/base",
            "_view_module_version": "1.2.0",
            "_view_name": "LayoutView",
            "align_content": null,
            "align_items": null,
            "align_self": null,
            "border": null,
            "bottom": null,
            "display": null,
            "flex": null,
            "flex_flow": null,
            "grid_area": null,
            "grid_auto_columns": null,
            "grid_auto_flow": null,
            "grid_auto_rows": null,
            "grid_column": null,
            "grid_gap": null,
            "grid_row": null,
            "grid_template_areas": null,
            "grid_template_columns": null,
            "grid_template_rows": null,
            "height": null,
            "justify_content": null,
            "justify_items": null,
            "left": null,
            "margin": null,
            "max_height": null,
            "max_width": null,
            "min_height": null,
            "min_width": null,
            "object_fit": null,
            "object_position": null,
            "order": null,
            "overflow": null,
            "overflow_x": null,
            "overflow_y": null,
            "padding": null,
            "right": null,
            "top": null,
            "visibility": null,
            "width": null
          }
        },
        "34881dc8b83943749faf3dc89f789897": {
          "model_module": "@jupyter-widgets/controls",
          "model_name": "DescriptionStyleModel",
          "model_module_version": "1.5.0",
          "state": {
            "_model_module": "@jupyter-widgets/controls",
            "_model_module_version": "1.5.0",
            "_model_name": "DescriptionStyleModel",
            "_view_count": null,
            "_view_module": "@jupyter-widgets/base",
            "_view_module_version": "1.2.0",
            "_view_name": "StyleView",
            "description_width": ""
          }
        },
        "2ad0f9e560504bbc8582a1c999f54279": {
          "model_module": "@jupyter-widgets/controls",
          "model_name": "HBoxModel",
          "model_module_version": "1.5.0",
          "state": {
            "_dom_classes": [],
            "_model_module": "@jupyter-widgets/controls",
            "_model_module_version": "1.5.0",
            "_model_name": "HBoxModel",
            "_view_count": null,
            "_view_module": "@jupyter-widgets/controls",
            "_view_module_version": "1.5.0",
            "_view_name": "HBoxView",
            "box_style": "",
            "children": [
              "IPY_MODEL_b5d9fe9039e74aff8c206f0d2f1c777d",
              "IPY_MODEL_5c56fffa1aed497681b518eee7df3274",
              "IPY_MODEL_b423645ab34140d08eeca2f7a731f732"
            ],
            "layout": "IPY_MODEL_a8c14a7197c742f281234060cde3afdf"
          }
        },
        "b5d9fe9039e74aff8c206f0d2f1c777d": {
          "model_module": "@jupyter-widgets/controls",
          "model_name": "HTMLModel",
          "model_module_version": "1.5.0",
          "state": {
            "_dom_classes": [],
            "_model_module": "@jupyter-widgets/controls",
            "_model_module_version": "1.5.0",
            "_model_name": "HTMLModel",
            "_view_count": null,
            "_view_module": "@jupyter-widgets/controls",
            "_view_module_version": "1.5.0",
            "_view_name": "HTMLView",
            "description": "",
            "description_tooltip": null,
            "layout": "IPY_MODEL_e5d086381dbf4c7b9a07999360cd247f",
            "placeholder": "​",
            "style": "IPY_MODEL_c05e32c4420b4bb8810884b8ba4a57ec",
            "value": "spiece.model: 100%"
          }
        },
        "5c56fffa1aed497681b518eee7df3274": {
          "model_module": "@jupyter-widgets/controls",
          "model_name": "FloatProgressModel",
          "model_module_version": "1.5.0",
          "state": {
            "_dom_classes": [],
            "_model_module": "@jupyter-widgets/controls",
            "_model_module_version": "1.5.0",
            "_model_name": "FloatProgressModel",
            "_view_count": null,
            "_view_module": "@jupyter-widgets/controls",
            "_view_module_version": "1.5.0",
            "_view_name": "ProgressView",
            "bar_style": "success",
            "description": "",
            "description_tooltip": null,
            "layout": "IPY_MODEL_816e83fa39b34d25aa4c949d141624de",
            "max": 798011,
            "min": 0,
            "orientation": "horizontal",
            "style": "IPY_MODEL_91c03366b72a40819219f94aa7774dc4",
            "value": 798011
          }
        },
        "b423645ab34140d08eeca2f7a731f732": {
          "model_module": "@jupyter-widgets/controls",
          "model_name": "HTMLModel",
          "model_module_version": "1.5.0",
          "state": {
            "_dom_classes": [],
            "_model_module": "@jupyter-widgets/controls",
            "_model_module_version": "1.5.0",
            "_model_name": "HTMLModel",
            "_view_count": null,
            "_view_module": "@jupyter-widgets/controls",
            "_view_module_version": "1.5.0",
            "_view_name": "HTMLView",
            "description": "",
            "description_tooltip": null,
            "layout": "IPY_MODEL_41b42664320d4a4bacb964fbdc98bb7b",
            "placeholder": "​",
            "style": "IPY_MODEL_1bedf9a40e674367b2594d92bbee9443",
            "value": " 798k/798k [00:00&lt;00:00, 4.07MB/s]"
          }
        },
        "a8c14a7197c742f281234060cde3afdf": {
          "model_module": "@jupyter-widgets/base",
          "model_name": "LayoutModel",
          "model_module_version": "1.2.0",
          "state": {
            "_model_module": "@jupyter-widgets/base",
            "_model_module_version": "1.2.0",
            "_model_name": "LayoutModel",
            "_view_count": null,
            "_view_module": "@jupyter-widgets/base",
            "_view_module_version": "1.2.0",
            "_view_name": "LayoutView",
            "align_content": null,
            "align_items": null,
            "align_self": null,
            "border": null,
            "bottom": null,
            "display": null,
            "flex": null,
            "flex_flow": null,
            "grid_area": null,
            "grid_auto_columns": null,
            "grid_auto_flow": null,
            "grid_auto_rows": null,
            "grid_column": null,
            "grid_gap": null,
            "grid_row": null,
            "grid_template_areas": null,
            "grid_template_columns": null,
            "grid_template_rows": null,
            "height": null,
            "justify_content": null,
            "justify_items": null,
            "left": null,
            "margin": null,
            "max_height": null,
            "max_width": null,
            "min_height": null,
            "min_width": null,
            "object_fit": null,
            "object_position": null,
            "order": null,
            "overflow": null,
            "overflow_x": null,
            "overflow_y": null,
            "padding": null,
            "right": null,
            "top": null,
            "visibility": null,
            "width": null
          }
        },
        "e5d086381dbf4c7b9a07999360cd247f": {
          "model_module": "@jupyter-widgets/base",
          "model_name": "LayoutModel",
          "model_module_version": "1.2.0",
          "state": {
            "_model_module": "@jupyter-widgets/base",
            "_model_module_version": "1.2.0",
            "_model_name": "LayoutModel",
            "_view_count": null,
            "_view_module": "@jupyter-widgets/base",
            "_view_module_version": "1.2.0",
            "_view_name": "LayoutView",
            "align_content": null,
            "align_items": null,
            "align_self": null,
            "border": null,
            "bottom": null,
            "display": null,
            "flex": null,
            "flex_flow": null,
            "grid_area": null,
            "grid_auto_columns": null,
            "grid_auto_flow": null,
            "grid_auto_rows": null,
            "grid_column": null,
            "grid_gap": null,
            "grid_row": null,
            "grid_template_areas": null,
            "grid_template_columns": null,
            "grid_template_rows": null,
            "height": null,
            "justify_content": null,
            "justify_items": null,
            "left": null,
            "margin": null,
            "max_height": null,
            "max_width": null,
            "min_height": null,
            "min_width": null,
            "object_fit": null,
            "object_position": null,
            "order": null,
            "overflow": null,
            "overflow_x": null,
            "overflow_y": null,
            "padding": null,
            "right": null,
            "top": null,
            "visibility": null,
            "width": null
          }
        },
        "c05e32c4420b4bb8810884b8ba4a57ec": {
          "model_module": "@jupyter-widgets/controls",
          "model_name": "DescriptionStyleModel",
          "model_module_version": "1.5.0",
          "state": {
            "_model_module": "@jupyter-widgets/controls",
            "_model_module_version": "1.5.0",
            "_model_name": "DescriptionStyleModel",
            "_view_count": null,
            "_view_module": "@jupyter-widgets/base",
            "_view_module_version": "1.2.0",
            "_view_name": "StyleView",
            "description_width": ""
          }
        },
        "816e83fa39b34d25aa4c949d141624de": {
          "model_module": "@jupyter-widgets/base",
          "model_name": "LayoutModel",
          "model_module_version": "1.2.0",
          "state": {
            "_model_module": "@jupyter-widgets/base",
            "_model_module_version": "1.2.0",
            "_model_name": "LayoutModel",
            "_view_count": null,
            "_view_module": "@jupyter-widgets/base",
            "_view_module_version": "1.2.0",
            "_view_name": "LayoutView",
            "align_content": null,
            "align_items": null,
            "align_self": null,
            "border": null,
            "bottom": null,
            "display": null,
            "flex": null,
            "flex_flow": null,
            "grid_area": null,
            "grid_auto_columns": null,
            "grid_auto_flow": null,
            "grid_auto_rows": null,
            "grid_column": null,
            "grid_gap": null,
            "grid_row": null,
            "grid_template_areas": null,
            "grid_template_columns": null,
            "grid_template_rows": null,
            "height": null,
            "justify_content": null,
            "justify_items": null,
            "left": null,
            "margin": null,
            "max_height": null,
            "max_width": null,
            "min_height": null,
            "min_width": null,
            "object_fit": null,
            "object_position": null,
            "order": null,
            "overflow": null,
            "overflow_x": null,
            "overflow_y": null,
            "padding": null,
            "right": null,
            "top": null,
            "visibility": null,
            "width": null
          }
        },
        "91c03366b72a40819219f94aa7774dc4": {
          "model_module": "@jupyter-widgets/controls",
          "model_name": "ProgressStyleModel",
          "model_module_version": "1.5.0",
          "state": {
            "_model_module": "@jupyter-widgets/controls",
            "_model_module_version": "1.5.0",
            "_model_name": "ProgressStyleModel",
            "_view_count": null,
            "_view_module": "@jupyter-widgets/base",
            "_view_module_version": "1.2.0",
            "_view_name": "StyleView",
            "bar_color": null,
            "description_width": ""
          }
        },
        "41b42664320d4a4bacb964fbdc98bb7b": {
          "model_module": "@jupyter-widgets/base",
          "model_name": "LayoutModel",
          "model_module_version": "1.2.0",
          "state": {
            "_model_module": "@jupyter-widgets/base",
            "_model_module_version": "1.2.0",
            "_model_name": "LayoutModel",
            "_view_count": null,
            "_view_module": "@jupyter-widgets/base",
            "_view_module_version": "1.2.0",
            "_view_name": "LayoutView",
            "align_content": null,
            "align_items": null,
            "align_self": null,
            "border": null,
            "bottom": null,
            "display": null,
            "flex": null,
            "flex_flow": null,
            "grid_area": null,
            "grid_auto_columns": null,
            "grid_auto_flow": null,
            "grid_auto_rows": null,
            "grid_column": null,
            "grid_gap": null,
            "grid_row": null,
            "grid_template_areas": null,
            "grid_template_columns": null,
            "grid_template_rows": null,
            "height": null,
            "justify_content": null,
            "justify_items": null,
            "left": null,
            "margin": null,
            "max_height": null,
            "max_width": null,
            "min_height": null,
            "min_width": null,
            "object_fit": null,
            "object_position": null,
            "order": null,
            "overflow": null,
            "overflow_x": null,
            "overflow_y": null,
            "padding": null,
            "right": null,
            "top": null,
            "visibility": null,
            "width": null
          }
        },
        "1bedf9a40e674367b2594d92bbee9443": {
          "model_module": "@jupyter-widgets/controls",
          "model_name": "DescriptionStyleModel",
          "model_module_version": "1.5.0",
          "state": {
            "_model_module": "@jupyter-widgets/controls",
            "_model_module_version": "1.5.0",
            "_model_name": "DescriptionStyleModel",
            "_view_count": null,
            "_view_module": "@jupyter-widgets/base",
            "_view_module_version": "1.2.0",
            "_view_name": "StyleView",
            "description_width": ""
          }
        },
        "b8182c78020540fe8345e3ffa8aa0a9a": {
          "model_module": "@jupyter-widgets/controls",
          "model_name": "HBoxModel",
          "model_module_version": "1.5.0",
          "state": {
            "_dom_classes": [],
            "_model_module": "@jupyter-widgets/controls",
            "_model_module_version": "1.5.0",
            "_model_name": "HBoxModel",
            "_view_count": null,
            "_view_module": "@jupyter-widgets/controls",
            "_view_module_version": "1.5.0",
            "_view_name": "HBoxView",
            "box_style": "",
            "children": [
              "IPY_MODEL_8c9235e29ebb475f9c28eef3542395b5",
              "IPY_MODEL_c11e21411a94457bbbac7776ad4d36ce",
              "IPY_MODEL_e71ed59ed13644d7b55ccde5eeeaffe5"
            ],
            "layout": "IPY_MODEL_f1b195b226874993a4e0e9a43ae3b352"
          }
        },
        "8c9235e29ebb475f9c28eef3542395b5": {
          "model_module": "@jupyter-widgets/controls",
          "model_name": "HTMLModel",
          "model_module_version": "1.5.0",
          "state": {
            "_dom_classes": [],
            "_model_module": "@jupyter-widgets/controls",
            "_model_module_version": "1.5.0",
            "_model_name": "HTMLModel",
            "_view_count": null,
            "_view_module": "@jupyter-widgets/controls",
            "_view_module_version": "1.5.0",
            "_view_name": "HTMLView",
            "description": "",
            "description_tooltip": null,
            "layout": "IPY_MODEL_69967a7960894c6cada0adfdb0ab28f4",
            "placeholder": "​",
            "style": "IPY_MODEL_4d927bd40f124b1dbe006c5c527fca39",
            "value": "tokenizer.json: 100%"
          }
        },
        "c11e21411a94457bbbac7776ad4d36ce": {
          "model_module": "@jupyter-widgets/controls",
          "model_name": "FloatProgressModel",
          "model_module_version": "1.5.0",
          "state": {
            "_dom_classes": [],
            "_model_module": "@jupyter-widgets/controls",
            "_model_module_version": "1.5.0",
            "_model_name": "FloatProgressModel",
            "_view_count": null,
            "_view_module": "@jupyter-widgets/controls",
            "_view_module_version": "1.5.0",
            "_view_name": "ProgressView",
            "bar_style": "success",
            "description": "",
            "description_tooltip": null,
            "layout": "IPY_MODEL_2a895a52744b4030b4465bf97bf1b59d",
            "max": 1382015,
            "min": 0,
            "orientation": "horizontal",
            "style": "IPY_MODEL_3a77c20d2223416595ff26fe72f8e45c",
            "value": 1382015
          }
        },
        "e71ed59ed13644d7b55ccde5eeeaffe5": {
          "model_module": "@jupyter-widgets/controls",
          "model_name": "HTMLModel",
          "model_module_version": "1.5.0",
          "state": {
            "_dom_classes": [],
            "_model_module": "@jupyter-widgets/controls",
            "_model_module_version": "1.5.0",
            "_model_name": "HTMLModel",
            "_view_count": null,
            "_view_module": "@jupyter-widgets/controls",
            "_view_module_version": "1.5.0",
            "_view_name": "HTMLView",
            "description": "",
            "description_tooltip": null,
            "layout": "IPY_MODEL_2055a7ee33a04ec0b319a234502978de",
            "placeholder": "​",
            "style": "IPY_MODEL_8007461e5f6049a88b46ac15689464f3",
            "value": " 1.38M/1.38M [00:00&lt;00:00, 7.10MB/s]"
          }
        },
        "f1b195b226874993a4e0e9a43ae3b352": {
          "model_module": "@jupyter-widgets/base",
          "model_name": "LayoutModel",
          "model_module_version": "1.2.0",
          "state": {
            "_model_module": "@jupyter-widgets/base",
            "_model_module_version": "1.2.0",
            "_model_name": "LayoutModel",
            "_view_count": null,
            "_view_module": "@jupyter-widgets/base",
            "_view_module_version": "1.2.0",
            "_view_name": "LayoutView",
            "align_content": null,
            "align_items": null,
            "align_self": null,
            "border": null,
            "bottom": null,
            "display": null,
            "flex": null,
            "flex_flow": null,
            "grid_area": null,
            "grid_auto_columns": null,
            "grid_auto_flow": null,
            "grid_auto_rows": null,
            "grid_column": null,
            "grid_gap": null,
            "grid_row": null,
            "grid_template_areas": null,
            "grid_template_columns": null,
            "grid_template_rows": null,
            "height": null,
            "justify_content": null,
            "justify_items": null,
            "left": null,
            "margin": null,
            "max_height": null,
            "max_width": null,
            "min_height": null,
            "min_width": null,
            "object_fit": null,
            "object_position": null,
            "order": null,
            "overflow": null,
            "overflow_x": null,
            "overflow_y": null,
            "padding": null,
            "right": null,
            "top": null,
            "visibility": null,
            "width": null
          }
        },
        "69967a7960894c6cada0adfdb0ab28f4": {
          "model_module": "@jupyter-widgets/base",
          "model_name": "LayoutModel",
          "model_module_version": "1.2.0",
          "state": {
            "_model_module": "@jupyter-widgets/base",
            "_model_module_version": "1.2.0",
            "_model_name": "LayoutModel",
            "_view_count": null,
            "_view_module": "@jupyter-widgets/base",
            "_view_module_version": "1.2.0",
            "_view_name": "LayoutView",
            "align_content": null,
            "align_items": null,
            "align_self": null,
            "border": null,
            "bottom": null,
            "display": null,
            "flex": null,
            "flex_flow": null,
            "grid_area": null,
            "grid_auto_columns": null,
            "grid_auto_flow": null,
            "grid_auto_rows": null,
            "grid_column": null,
            "grid_gap": null,
            "grid_row": null,
            "grid_template_areas": null,
            "grid_template_columns": null,
            "grid_template_rows": null,
            "height": null,
            "justify_content": null,
            "justify_items": null,
            "left": null,
            "margin": null,
            "max_height": null,
            "max_width": null,
            "min_height": null,
            "min_width": null,
            "object_fit": null,
            "object_position": null,
            "order": null,
            "overflow": null,
            "overflow_x": null,
            "overflow_y": null,
            "padding": null,
            "right": null,
            "top": null,
            "visibility": null,
            "width": null
          }
        },
        "4d927bd40f124b1dbe006c5c527fca39": {
          "model_module": "@jupyter-widgets/controls",
          "model_name": "DescriptionStyleModel",
          "model_module_version": "1.5.0",
          "state": {
            "_model_module": "@jupyter-widgets/controls",
            "_model_module_version": "1.5.0",
            "_model_name": "DescriptionStyleModel",
            "_view_count": null,
            "_view_module": "@jupyter-widgets/base",
            "_view_module_version": "1.2.0",
            "_view_name": "StyleView",
            "description_width": ""
          }
        },
        "2a895a52744b4030b4465bf97bf1b59d": {
          "model_module": "@jupyter-widgets/base",
          "model_name": "LayoutModel",
          "model_module_version": "1.2.0",
          "state": {
            "_model_module": "@jupyter-widgets/base",
            "_model_module_version": "1.2.0",
            "_model_name": "LayoutModel",
            "_view_count": null,
            "_view_module": "@jupyter-widgets/base",
            "_view_module_version": "1.2.0",
            "_view_name": "LayoutView",
            "align_content": null,
            "align_items": null,
            "align_self": null,
            "border": null,
            "bottom": null,
            "display": null,
            "flex": null,
            "flex_flow": null,
            "grid_area": null,
            "grid_auto_columns": null,
            "grid_auto_flow": null,
            "grid_auto_rows": null,
            "grid_column": null,
            "grid_gap": null,
            "grid_row": null,
            "grid_template_areas": null,
            "grid_template_columns": null,
            "grid_template_rows": null,
            "height": null,
            "justify_content": null,
            "justify_items": null,
            "left": null,
            "margin": null,
            "max_height": null,
            "max_width": null,
            "min_height": null,
            "min_width": null,
            "object_fit": null,
            "object_position": null,
            "order": null,
            "overflow": null,
            "overflow_x": null,
            "overflow_y": null,
            "padding": null,
            "right": null,
            "top": null,
            "visibility": null,
            "width": null
          }
        },
        "3a77c20d2223416595ff26fe72f8e45c": {
          "model_module": "@jupyter-widgets/controls",
          "model_name": "ProgressStyleModel",
          "model_module_version": "1.5.0",
          "state": {
            "_model_module": "@jupyter-widgets/controls",
            "_model_module_version": "1.5.0",
            "_model_name": "ProgressStyleModel",
            "_view_count": null,
            "_view_module": "@jupyter-widgets/base",
            "_view_module_version": "1.2.0",
            "_view_name": "StyleView",
            "bar_color": null,
            "description_width": ""
          }
        },
        "2055a7ee33a04ec0b319a234502978de": {
          "model_module": "@jupyter-widgets/base",
          "model_name": "LayoutModel",
          "model_module_version": "1.2.0",
          "state": {
            "_model_module": "@jupyter-widgets/base",
            "_model_module_version": "1.2.0",
            "_model_name": "LayoutModel",
            "_view_count": null,
            "_view_module": "@jupyter-widgets/base",
            "_view_module_version": "1.2.0",
            "_view_name": "LayoutView",
            "align_content": null,
            "align_items": null,
            "align_self": null,
            "border": null,
            "bottom": null,
            "display": null,
            "flex": null,
            "flex_flow": null,
            "grid_area": null,
            "grid_auto_columns": null,
            "grid_auto_flow": null,
            "grid_auto_rows": null,
            "grid_column": null,
            "grid_gap": null,
            "grid_row": null,
            "grid_template_areas": null,
            "grid_template_columns": null,
            "grid_template_rows": null,
            "height": null,
            "justify_content": null,
            "justify_items": null,
            "left": null,
            "margin": null,
            "max_height": null,
            "max_width": null,
            "min_height": null,
            "min_width": null,
            "object_fit": null,
            "object_position": null,
            "order": null,
            "overflow": null,
            "overflow_x": null,
            "overflow_y": null,
            "padding": null,
            "right": null,
            "top": null,
            "visibility": null,
            "width": null
          }
        },
        "8007461e5f6049a88b46ac15689464f3": {
          "model_module": "@jupyter-widgets/controls",
          "model_name": "DescriptionStyleModel",
          "model_module_version": "1.5.0",
          "state": {
            "_model_module": "@jupyter-widgets/controls",
            "_model_module_version": "1.5.0",
            "_model_name": "DescriptionStyleModel",
            "_view_count": null,
            "_view_module": "@jupyter-widgets/base",
            "_view_module_version": "1.2.0",
            "_view_name": "StyleView",
            "description_width": ""
          }
        },
        "fa2add9ec8774c31a2c504cecb12fe61": {
          "model_module": "@jupyter-widgets/controls",
          "model_name": "HBoxModel",
          "model_module_version": "1.5.0",
          "state": {
            "_dom_classes": [],
            "_model_module": "@jupyter-widgets/controls",
            "_model_module_version": "1.5.0",
            "_model_name": "HBoxModel",
            "_view_count": null,
            "_view_module": "@jupyter-widgets/controls",
            "_view_module_version": "1.5.0",
            "_view_name": "HBoxView",
            "box_style": "",
            "children": [
              "IPY_MODEL_ac3560c581d34efe95a14b08d70fc76a",
              "IPY_MODEL_f5ff082d83b040a8a7308c833e4420a6",
              "IPY_MODEL_5937ac75507f4f878915b792bfc99125"
            ],
            "layout": "IPY_MODEL_a7ed18c8cb724a2fa5350126a72d9b03"
          }
        },
        "ac3560c581d34efe95a14b08d70fc76a": {
          "model_module": "@jupyter-widgets/controls",
          "model_name": "HTMLModel",
          "model_module_version": "1.5.0",
          "state": {
            "_dom_classes": [],
            "_model_module": "@jupyter-widgets/controls",
            "_model_module_version": "1.5.0",
            "_model_name": "HTMLModel",
            "_view_count": null,
            "_view_module": "@jupyter-widgets/controls",
            "_view_module_version": "1.5.0",
            "_view_name": "HTMLView",
            "description": "",
            "description_tooltip": null,
            "layout": "IPY_MODEL_cfcc8c70f156403282230ac8f4a022c3",
            "placeholder": "​",
            "style": "IPY_MODEL_25ad7bf37feb48c5823c572bc534b644",
            "value": "config.json: 100%"
          }
        },
        "f5ff082d83b040a8a7308c833e4420a6": {
          "model_module": "@jupyter-widgets/controls",
          "model_name": "FloatProgressModel",
          "model_module_version": "1.5.0",
          "state": {
            "_dom_classes": [],
            "_model_module": "@jupyter-widgets/controls",
            "_model_module_version": "1.5.0",
            "_model_name": "FloatProgressModel",
            "_view_count": null,
            "_view_module": "@jupyter-widgets/controls",
            "_view_module_version": "1.5.0",
            "_view_name": "ProgressView",
            "bar_style": "success",
            "description": "",
            "description_tooltip": null,
            "layout": "IPY_MODEL_d72c141b168249dfa2373310f57586fb",
            "max": 760,
            "min": 0,
            "orientation": "horizontal",
            "style": "IPY_MODEL_e826fb8f6ab0446a84bc89aaf5f370bc",
            "value": 760
          }
        },
        "5937ac75507f4f878915b792bfc99125": {
          "model_module": "@jupyter-widgets/controls",
          "model_name": "HTMLModel",
          "model_module_version": "1.5.0",
          "state": {
            "_dom_classes": [],
            "_model_module": "@jupyter-widgets/controls",
            "_model_module_version": "1.5.0",
            "_model_name": "HTMLModel",
            "_view_count": null,
            "_view_module": "@jupyter-widgets/controls",
            "_view_module_version": "1.5.0",
            "_view_name": "HTMLView",
            "description": "",
            "description_tooltip": null,
            "layout": "IPY_MODEL_382bd7cf69b24ee9aed4ba6f22123efd",
            "placeholder": "​",
            "style": "IPY_MODEL_c5ce78084efd4cf8a6eee1b3a7bdb20a",
            "value": " 760/760 [00:00&lt;00:00, 11.7kB/s]"
          }
        },
        "a7ed18c8cb724a2fa5350126a72d9b03": {
          "model_module": "@jupyter-widgets/base",
          "model_name": "LayoutModel",
          "model_module_version": "1.2.0",
          "state": {
            "_model_module": "@jupyter-widgets/base",
            "_model_module_version": "1.2.0",
            "_model_name": "LayoutModel",
            "_view_count": null,
            "_view_module": "@jupyter-widgets/base",
            "_view_module_version": "1.2.0",
            "_view_name": "LayoutView",
            "align_content": null,
            "align_items": null,
            "align_self": null,
            "border": null,
            "bottom": null,
            "display": null,
            "flex": null,
            "flex_flow": null,
            "grid_area": null,
            "grid_auto_columns": null,
            "grid_auto_flow": null,
            "grid_auto_rows": null,
            "grid_column": null,
            "grid_gap": null,
            "grid_row": null,
            "grid_template_areas": null,
            "grid_template_columns": null,
            "grid_template_rows": null,
            "height": null,
            "justify_content": null,
            "justify_items": null,
            "left": null,
            "margin": null,
            "max_height": null,
            "max_width": null,
            "min_height": null,
            "min_width": null,
            "object_fit": null,
            "object_position": null,
            "order": null,
            "overflow": null,
            "overflow_x": null,
            "overflow_y": null,
            "padding": null,
            "right": null,
            "top": null,
            "visibility": null,
            "width": null
          }
        },
        "cfcc8c70f156403282230ac8f4a022c3": {
          "model_module": "@jupyter-widgets/base",
          "model_name": "LayoutModel",
          "model_module_version": "1.2.0",
          "state": {
            "_model_module": "@jupyter-widgets/base",
            "_model_module_version": "1.2.0",
            "_model_name": "LayoutModel",
            "_view_count": null,
            "_view_module": "@jupyter-widgets/base",
            "_view_module_version": "1.2.0",
            "_view_name": "LayoutView",
            "align_content": null,
            "align_items": null,
            "align_self": null,
            "border": null,
            "bottom": null,
            "display": null,
            "flex": null,
            "flex_flow": null,
            "grid_area": null,
            "grid_auto_columns": null,
            "grid_auto_flow": null,
            "grid_auto_rows": null,
            "grid_column": null,
            "grid_gap": null,
            "grid_row": null,
            "grid_template_areas": null,
            "grid_template_columns": null,
            "grid_template_rows": null,
            "height": null,
            "justify_content": null,
            "justify_items": null,
            "left": null,
            "margin": null,
            "max_height": null,
            "max_width": null,
            "min_height": null,
            "min_width": null,
            "object_fit": null,
            "object_position": null,
            "order": null,
            "overflow": null,
            "overflow_x": null,
            "overflow_y": null,
            "padding": null,
            "right": null,
            "top": null,
            "visibility": null,
            "width": null
          }
        },
        "25ad7bf37feb48c5823c572bc534b644": {
          "model_module": "@jupyter-widgets/controls",
          "model_name": "DescriptionStyleModel",
          "model_module_version": "1.5.0",
          "state": {
            "_model_module": "@jupyter-widgets/controls",
            "_model_module_version": "1.5.0",
            "_model_name": "DescriptionStyleModel",
            "_view_count": null,
            "_view_module": "@jupyter-widgets/base",
            "_view_module_version": "1.2.0",
            "_view_name": "StyleView",
            "description_width": ""
          }
        },
        "d72c141b168249dfa2373310f57586fb": {
          "model_module": "@jupyter-widgets/base",
          "model_name": "LayoutModel",
          "model_module_version": "1.2.0",
          "state": {
            "_model_module": "@jupyter-widgets/base",
            "_model_module_version": "1.2.0",
            "_model_name": "LayoutModel",
            "_view_count": null,
            "_view_module": "@jupyter-widgets/base",
            "_view_module_version": "1.2.0",
            "_view_name": "LayoutView",
            "align_content": null,
            "align_items": null,
            "align_self": null,
            "border": null,
            "bottom": null,
            "display": null,
            "flex": null,
            "flex_flow": null,
            "grid_area": null,
            "grid_auto_columns": null,
            "grid_auto_flow": null,
            "grid_auto_rows": null,
            "grid_column": null,
            "grid_gap": null,
            "grid_row": null,
            "grid_template_areas": null,
            "grid_template_columns": null,
            "grid_template_rows": null,
            "height": null,
            "justify_content": null,
            "justify_items": null,
            "left": null,
            "margin": null,
            "max_height": null,
            "max_width": null,
            "min_height": null,
            "min_width": null,
            "object_fit": null,
            "object_position": null,
            "order": null,
            "overflow": null,
            "overflow_x": null,
            "overflow_y": null,
            "padding": null,
            "right": null,
            "top": null,
            "visibility": null,
            "width": null
          }
        },
        "e826fb8f6ab0446a84bc89aaf5f370bc": {
          "model_module": "@jupyter-widgets/controls",
          "model_name": "ProgressStyleModel",
          "model_module_version": "1.5.0",
          "state": {
            "_model_module": "@jupyter-widgets/controls",
            "_model_module_version": "1.5.0",
            "_model_name": "ProgressStyleModel",
            "_view_count": null,
            "_view_module": "@jupyter-widgets/base",
            "_view_module_version": "1.2.0",
            "_view_name": "StyleView",
            "bar_color": null,
            "description_width": ""
          }
        },
        "382bd7cf69b24ee9aed4ba6f22123efd": {
          "model_module": "@jupyter-widgets/base",
          "model_name": "LayoutModel",
          "model_module_version": "1.2.0",
          "state": {
            "_model_module": "@jupyter-widgets/base",
            "_model_module_version": "1.2.0",
            "_model_name": "LayoutModel",
            "_view_count": null,
            "_view_module": "@jupyter-widgets/base",
            "_view_module_version": "1.2.0",
            "_view_name": "LayoutView",
            "align_content": null,
            "align_items": null,
            "align_self": null,
            "border": null,
            "bottom": null,
            "display": null,
            "flex": null,
            "flex_flow": null,
            "grid_area": null,
            "grid_auto_columns": null,
            "grid_auto_flow": null,
            "grid_auto_rows": null,
            "grid_column": null,
            "grid_gap": null,
            "grid_row": null,
            "grid_template_areas": null,
            "grid_template_columns": null,
            "grid_template_rows": null,
            "height": null,
            "justify_content": null,
            "justify_items": null,
            "left": null,
            "margin": null,
            "max_height": null,
            "max_width": null,
            "min_height": null,
            "min_width": null,
            "object_fit": null,
            "object_position": null,
            "order": null,
            "overflow": null,
            "overflow_x": null,
            "overflow_y": null,
            "padding": null,
            "right": null,
            "top": null,
            "visibility": null,
            "width": null
          }
        },
        "c5ce78084efd4cf8a6eee1b3a7bdb20a": {
          "model_module": "@jupyter-widgets/controls",
          "model_name": "DescriptionStyleModel",
          "model_module_version": "1.5.0",
          "state": {
            "_model_module": "@jupyter-widgets/controls",
            "_model_module_version": "1.5.0",
            "_model_name": "DescriptionStyleModel",
            "_view_count": null,
            "_view_module": "@jupyter-widgets/base",
            "_view_module_version": "1.2.0",
            "_view_name": "StyleView",
            "description_width": ""
          }
        }
      }
    }
  },
  "cells": [
    {
      "cell_type": "markdown",
      "source": [
        "On this page, we will have a closer look at tokenization."
      ],
      "metadata": {
        "id": "susuBdYQvFRe"
      }
    },
    {
      "cell_type": "markdown",
      "source": [
        "As we saw in the preprocessing tutorial, tokenizing a text is splitting it into words or subwords, which then are converted to ids through a look-up table. Converting words or subwords to ids is straightforward, so in this summary, we will focus on splitting a text into words or subwords (i.e. tokenizing a text). More specifically, we will look at the three main types of tokenizers used in 🤗 Transformers: Byte-Pair Encoding (BPE), WordPiece, and SentencePiece, and show examples of which tokenizer type is used by which model.\n",
        "\n",
        "Note that on each model page, you can look at the documentation of the associated tokenizer to know which tokenizer type was used by the pretrained model. For instance, if we look at BertTokenizer, we can see that the model uses WordPiece."
      ],
      "metadata": {
        "id": "BDTPnhUuveEv"
      }
    },
    {
      "cell_type": "markdown",
      "source": [
        " Introduction\n",
        "\n",
        "Splitting a text into smaller chunks is a task that is harder than it looks, and there are multiple ways of doing so. For instance, let’s look at the sentence \"Don't you love 🤗 Transformers? We sure do.\""
      ],
      "metadata": {
        "id": "MY1--y_ovkVO"
      }
    },
    {
      "cell_type": "markdown",
      "source": [
        "A simple way of tokenizing this text is to split it by spaces, which would give:"
      ],
      "metadata": {
        "id": "72y4H8OAwQXm"
      }
    },
    {
      "cell_type": "code",
      "execution_count": null,
      "metadata": {
        "id": "c29D1D3SvA5h"
      },
      "outputs": [],
      "source": [
        "[\"Don't\", \"you\", \"love\", \"🤗\", \"Transformers?\", \"We\", \"sure\", \"do.\"]"
      ]
    },
    {
      "cell_type": "markdown",
      "source": [
        "This is a sensible first step, but if we look at the tokens \"Transformers?\" and \"do.\", we notice that the punctuation is attached to the words \"Transformer\" and \"do\", which is suboptimal. We should take the punctuation into account so that a model does not have to learn a different representation of a word and every possible punctuation symbol that could follow it, which would explode the number of representations the model has to learn. Taking punctuation into account, tokenizing our exemplary text would give:"
      ],
      "metadata": {
        "id": "6kMraH7EwazS"
      }
    },
    {
      "cell_type": "code",
      "source": [
        "[\"Don\", \"'\", \"t\", \"you\", \"love\", \"🤗\", \"Transformers\", \"?\", \"We\", \"sure\", \"do\", \".\"]"
      ],
      "metadata": {
        "id": "BkRpJblzwcNW"
      },
      "execution_count": null,
      "outputs": []
    },
    {
      "cell_type": "markdown",
      "source": [],
      "metadata": {
        "id": "fLRvVryKwSpP"
      }
    },
    {
      "cell_type": "markdown",
      "source": [
        "Better. However, it is disadvantageous, how the tokenization dealt with the word \"Don't\". \"Don't\" stands for \"do not\", so it would be better tokenized as [\"Do\", \"n't\"]. This is where things start getting complicated, and part of the reason each model has its own tokenizer type. Depending on the rules we apply for tokenizing a text, a different tokenized output is generated for the same text. A pretrained model only performs properly if you feed it an input that was tokenized with the same rules that were used to tokenize its training data.\n",
        "\n",
        "spaCy and Moses are two popular rule-based tokenizers. Applying them on our example, spaCy and Moses would output something like:"
      ],
      "metadata": {
        "id": "YnL1mSPjwmC1"
      }
    },
    {
      "cell_type": "code",
      "source": [
        "[\"Do\", \"n't\", \"you\", \"love\", \"🤗\", \"Transformers\", \"?\", \"We\", \"sure\", \"do\", \".\"]"
      ],
      "metadata": {
        "id": "RH5zcyfCwoN2"
      },
      "execution_count": null,
      "outputs": []
    },
    {
      "cell_type": "markdown",
      "source": [
        "As can be seen space and punctuation tokenization, as well as rule-based tokenization, is used here. Space and punctuation tokenization and rule-based tokenization are both examples of word tokenization, which is loosely defined as splitting sentences into words. While it’s the most intuitive way to split texts into smaller chunks, this tokenization method can lead to problems for massive text corpora. In this case, space and punctuation tokenization usually generates a very big vocabulary (the set of all unique words and tokens used). E.g., Transformer XL uses space and punctuation tokenization, resulting in a vocabulary size of 267,735!\n",
        "\n",
        "Such a big vocabulary size forces the model to have an enormous embedding matrix as the input and output layer, which causes both an increased memory and time complexity. In general, transformers models rarely have a vocabulary size greater than 50,000, especially if they are pretrained only on a single language.\n",
        "\n",
        "So if simple space and punctuation tokenization is unsatisfactory, why not simply tokenize on characters?"
      ],
      "metadata": {
        "id": "OZBCRyY6w04l"
      }
    },
    {
      "cell_type": "markdown",
      "source": [
        "As can be seen space and punctuation tokenization, as well as rule-based tokenization, is used here. Space and punctuation tokenization and rule-based tokenization are both examples of word tokenization, which is loosely defined as splitting sentences into words. While it’s the most intuitive way to split texts into smaller chunks, this tokenization method can lead to problems for massive text corpora. In this case, space and punctuation tokenization usually generates a very big vocabulary (the set of all unique words and tokens used). E.g., Transformer XL uses space and punctuation tokenization, resulting in a vocabulary size of 267,735!\n",
        "\n",
        "Such a big vocabulary size forces the model to have an enormous embedding matrix as the input and output layer, which causes both an increased memory and time complexity. In general, transformers models rarely have a vocabulary size greater than 50,000, especially if they are pretrained only on a single language.\n",
        "\n",
        "So if simple space and punctuation tokenization is unsatisfactory, why not simply tokenize on characters?"
      ],
      "metadata": {
        "id": "GRsM0QLRxpcd"
      }
    },
    {
      "cell_type": "markdown",
      "source": [
        " Subword tokenization"
      ],
      "metadata": {
        "id": "9EtcAiTWxqmz"
      }
    },
    {
      "cell_type": "markdown",
      "source": [
        "Subword tokenization algorithms rely on the principle that frequently used words should not be split into smaller subwords, but rare words should be decomposed into meaningful subwords. For instance \"annoyingly\" might be considered a rare word and could be decomposed into \"annoying\" and \"ly\". Both \"annoying\" and \"ly\" as stand-alone subwords would appear more frequently while at the same time the meaning of \"annoyingly\" is kept by the composite meaning of \"annoying\" and \"ly\". This is especially useful in agglutinative languages such as Turkish, where you can form (almost) arbitrarily long complex words by stringing together subwords.\n",
        "\n",
        "Subword tokenization allows the model to have a reasonable vocabulary size while being able to learn meaningful context-independent representations. In addition, subword tokenization enables the model to process words it has never seen before, by decomposing them into known subwords. For instance, the BertTokenizer tokenizes \"I have a new GPU!\" as follows:"
      ],
      "metadata": {
        "id": "VRfcWhXRx_HM"
      }
    },
    {
      "cell_type": "code",
      "source": [
        "from transformers import BertTokenizer\n",
        "\n",
        "tokenizer = BertTokenizer.from_pretrained(\"google-bert/bert-base-uncased\")\n",
        "tokenizer.tokenize(\"I have a new GPU!\")"
      ],
      "metadata": {
        "colab": {
          "base_uri": "https://localhost:8080/",
          "height": 289,
          "referenced_widgets": [
            "e9c2a00df8a6496983a531588a806ee8",
            "0e3a0442d9a6408389c5c5f949de838b",
            "919d1bd34d4c4c739c29e97487ee3f6c",
            "e8425472f41843f684ee5b9e811af490",
            "4ab5db102d564e14852f4c9e8b908d27",
            "18816a14a5bd4bed9b623fdc78e15eb6",
            "8425aed7ec89423fb2a0658530009114",
            "c685e7a2ed994d0dbb236dc51272169b",
            "344903e5958b4c94acc27d237ab0a74a",
            "8328d0e9214445389b1f1c7f145ed06c",
            "860cac57afd848058364c5278a4c5ef2",
            "db2c640957c441098a10beab211a002c",
            "8201a8bc18734e27a4d67d8118a7eed8",
            "1c42021fce9c4347b08539be1498f4ed",
            "eca179a8a1c643c097fd714752d2c6e5",
            "6a371f3a1c3641618503f8c17e9d26ee",
            "b90f1b3dc54844e7a21ea117f6bdfd28",
            "0a76775734e24324b9435d63a013d44c",
            "410b9579ce4a4d92804f8a11c62e9d31",
            "e5c21478202c4b24864a865e2f164f93",
            "3d27602bfbe4409b9131c735d0b5cf7d",
            "32d259e2ca224a96962da28f50a326eb",
            "3e33aacf9f1549abb4c186e9b154f3ba",
            "8c7c12e576cb48038ca373826541c516",
            "ca61def808b748b6911d8151599255f4",
            "455c5dff7481447abe934ade3ace4dd9",
            "a3f64765a3ad46c396a9c3667bc0d76d",
            "6457668b93fc4494aa7ba0fc48b41917",
            "04344d3a46b04f6dacd167333c8849d1",
            "b144a0e90f4f422db07c5d76c051bb85",
            "9cd09fd842d2422499fac0d931067cb5",
            "06e32bddad8b4ccba80bc8b95cea43e1",
            "1be5568729af421cb12c494bff217614",
            "733f9805baf842adbfe12fa8b7cf1530",
            "b19d79d04bec466cb81fcc7debf96dd0",
            "acd173c1518145b3b3681eb407ca7463",
            "e79fe7ab70da4788bfeca21aa5fd00ec",
            "c031561ddc264535a5e4cb5e58a969af",
            "deae1df499d645e68b0d7d77ffc65e34",
            "3e9988d3cff843fe854750723381c782",
            "f403cd30d2f44c01885d2154d8452baa",
            "bf8d708b41564562a1877fedd73ab9db",
            "b44c045083a04b01b323e4bf57ccce25",
            "34881dc8b83943749faf3dc89f789897"
          ]
        },
        "id": "ZR170p16yAp-",
        "outputId": "d94895a1-3c16-4d42-98f8-8fbb873612b3"
      },
      "execution_count": 1,
      "outputs": [
        {
          "output_type": "stream",
          "name": "stderr",
          "text": [
            "/usr/local/lib/python3.10/dist-packages/huggingface_hub/utils/_token.py:88: UserWarning: \n",
            "The secret `HF_TOKEN` does not exist in your Colab secrets.\n",
            "To authenticate with the Hugging Face Hub, create a token in your settings tab (https://huggingface.co/settings/tokens), set it as secret in your Google Colab and restart your session.\n",
            "You will be able to reuse this secret in all of your notebooks.\n",
            "Please note that authentication is recommended but still optional to access public models or datasets.\n",
            "  warnings.warn(\n"
          ]
        },
        {
          "output_type": "display_data",
          "data": {
            "text/plain": [
              "tokenizer_config.json:   0%|          | 0.00/48.0 [00:00<?, ?B/s]"
            ],
            "application/vnd.jupyter.widget-view+json": {
              "version_major": 2,
              "version_minor": 0,
              "model_id": "e9c2a00df8a6496983a531588a806ee8"
            }
          },
          "metadata": {}
        },
        {
          "output_type": "display_data",
          "data": {
            "text/plain": [
              "vocab.txt:   0%|          | 0.00/232k [00:00<?, ?B/s]"
            ],
            "application/vnd.jupyter.widget-view+json": {
              "version_major": 2,
              "version_minor": 0,
              "model_id": "db2c640957c441098a10beab211a002c"
            }
          },
          "metadata": {}
        },
        {
          "output_type": "display_data",
          "data": {
            "text/plain": [
              "tokenizer.json:   0%|          | 0.00/466k [00:00<?, ?B/s]"
            ],
            "application/vnd.jupyter.widget-view+json": {
              "version_major": 2,
              "version_minor": 0,
              "model_id": "3e33aacf9f1549abb4c186e9b154f3ba"
            }
          },
          "metadata": {}
        },
        {
          "output_type": "display_data",
          "data": {
            "text/plain": [
              "config.json:   0%|          | 0.00/570 [00:00<?, ?B/s]"
            ],
            "application/vnd.jupyter.widget-view+json": {
              "version_major": 2,
              "version_minor": 0,
              "model_id": "733f9805baf842adbfe12fa8b7cf1530"
            }
          },
          "metadata": {}
        },
        {
          "output_type": "execute_result",
          "data": {
            "text/plain": [
              "['i', 'have', 'a', 'new', 'gp', '##u', '!']"
            ]
          },
          "metadata": {},
          "execution_count": 1
        }
      ]
    },
    {
      "cell_type": "markdown",
      "source": [
        "Because we are considering the uncased model, the sentence was lowercased first. We can see that the words [\"i\", \"have\", \"a\", \"new\"] are present in the tokenizer’s vocabulary, but the word \"gpu\" is not. Consequently, the tokenizer splits \"gpu\" into known subwords: [\"gp\" and \"##u\"]. \"##\" means that the rest of the token should be attached to the previous one, without space (for decoding or reversal of the tokenization).\n",
        "\n",
        "As another example, XLNetTokenizer tokenizes our previously exemplary text as follows:"
      ],
      "metadata": {
        "id": "wObiBeT8yJj2"
      }
    },
    {
      "cell_type": "code",
      "source": [
        "from transformers import XLNetTokenizer\n",
        "\n",
        "tokenizer = XLNetTokenizer.from_pretrained(\"xlnet/xlnet-base-cased\")\n",
        "tokenizer.tokenize(\"Don't you love 🤗 Transformers? We sure do.\")"
      ],
      "metadata": {
        "colab": {
          "base_uri": "https://localhost:8080/",
          "height": 379,
          "referenced_widgets": [
            "2ad0f9e560504bbc8582a1c999f54279",
            "b5d9fe9039e74aff8c206f0d2f1c777d",
            "5c56fffa1aed497681b518eee7df3274",
            "b423645ab34140d08eeca2f7a731f732",
            "a8c14a7197c742f281234060cde3afdf",
            "e5d086381dbf4c7b9a07999360cd247f",
            "c05e32c4420b4bb8810884b8ba4a57ec",
            "816e83fa39b34d25aa4c949d141624de",
            "91c03366b72a40819219f94aa7774dc4",
            "41b42664320d4a4bacb964fbdc98bb7b",
            "1bedf9a40e674367b2594d92bbee9443",
            "b8182c78020540fe8345e3ffa8aa0a9a",
            "8c9235e29ebb475f9c28eef3542395b5",
            "c11e21411a94457bbbac7776ad4d36ce",
            "e71ed59ed13644d7b55ccde5eeeaffe5",
            "f1b195b226874993a4e0e9a43ae3b352",
            "69967a7960894c6cada0adfdb0ab28f4",
            "4d927bd40f124b1dbe006c5c527fca39",
            "2a895a52744b4030b4465bf97bf1b59d",
            "3a77c20d2223416595ff26fe72f8e45c",
            "2055a7ee33a04ec0b319a234502978de",
            "8007461e5f6049a88b46ac15689464f3",
            "fa2add9ec8774c31a2c504cecb12fe61",
            "ac3560c581d34efe95a14b08d70fc76a",
            "f5ff082d83b040a8a7308c833e4420a6",
            "5937ac75507f4f878915b792bfc99125",
            "a7ed18c8cb724a2fa5350126a72d9b03",
            "cfcc8c70f156403282230ac8f4a022c3",
            "25ad7bf37feb48c5823c572bc534b644",
            "d72c141b168249dfa2373310f57586fb",
            "e826fb8f6ab0446a84bc89aaf5f370bc",
            "382bd7cf69b24ee9aed4ba6f22123efd",
            "c5ce78084efd4cf8a6eee1b3a7bdb20a"
          ]
        },
        "id": "RxV7TcEgyK5F",
        "outputId": "971934dc-4046-4955-f411-fcbf716bea2d"
      },
      "execution_count": 2,
      "outputs": [
        {
          "output_type": "display_data",
          "data": {
            "text/plain": [
              "spiece.model:   0%|          | 0.00/798k [00:00<?, ?B/s]"
            ],
            "application/vnd.jupyter.widget-view+json": {
              "version_major": 2,
              "version_minor": 0,
              "model_id": "2ad0f9e560504bbc8582a1c999f54279"
            }
          },
          "metadata": {}
        },
        {
          "output_type": "display_data",
          "data": {
            "text/plain": [
              "tokenizer.json:   0%|          | 0.00/1.38M [00:00<?, ?B/s]"
            ],
            "application/vnd.jupyter.widget-view+json": {
              "version_major": 2,
              "version_minor": 0,
              "model_id": "b8182c78020540fe8345e3ffa8aa0a9a"
            }
          },
          "metadata": {}
        },
        {
          "output_type": "display_data",
          "data": {
            "text/plain": [
              "config.json:   0%|          | 0.00/760 [00:00<?, ?B/s]"
            ],
            "application/vnd.jupyter.widget-view+json": {
              "version_major": 2,
              "version_minor": 0,
              "model_id": "fa2add9ec8774c31a2c504cecb12fe61"
            }
          },
          "metadata": {}
        },
        {
          "output_type": "execute_result",
          "data": {
            "text/plain": [
              "['▁Don',\n",
              " \"'\",\n",
              " 't',\n",
              " '▁you',\n",
              " '▁love',\n",
              " '▁',\n",
              " '🤗',\n",
              " '▁',\n",
              " 'Transform',\n",
              " 'ers',\n",
              " '?',\n",
              " '▁We',\n",
              " '▁sure',\n",
              " '▁do',\n",
              " '.']"
            ]
          },
          "metadata": {},
          "execution_count": 2
        }
      ]
    },
    {
      "cell_type": "markdown",
      "source": [
        "We’ll get back to the meaning of those \"▁\" when we look at SentencePiece. As one can see, the rare word \"Transformers\" has been split into the more frequent subwords \"Transform\" and \"ers\".\n",
        "\n",
        "Let’s now look at how the different subword tokenization algorithms work. Note that all of those tokenization algorithms rely on some form of training which is usually done on the corpus the corresponding model will be trained on.\n",
        "Byte-Pair Encoding (BPE)\n",
        "\n",
        "Byte-Pair Encoding (BPE) was introduced in Neural Machine Translation of Rare Words with Subword Units (Sennrich et al., 2015). BPE relies on a pre-tokenizer that splits the training data into words. Pretokenization can be as simple as space tokenization, e.g. GPT-2, RoBERTa. More advanced pre-tokenization include rule-based tokenization, e.g. XLM, FlauBERT which uses Moses for most languages, or GPT which uses spaCy and ftfy, to count the frequency of each word in the training corpus.\n",
        "\n",
        "After pre-tokenization, a set of unique words has been created and the frequency with which each word occurred in the training data has been determined. Next, BPE creates a base vocabulary consisting of all symbols that occur in the set of unique words and learns merge rules to form a new symbol from two symbols of the base vocabulary. It does so until the vocabulary has attained the desired vocabulary size. Note that the desired vocabulary size is a hyperparameter to define before training the tokenizer.\n",
        "\n",
        "As an example, let’s assume that after pre-tokenization, the following set of words including their frequency has been determined:"
      ],
      "metadata": {
        "id": "__exAhrEyjLX"
      }
    },
    {
      "cell_type": "code",
      "source": [
        "(\"hug\", 10), (\"pug\", 5), (\"pun\", 12), (\"bun\", 4), (\"hugs\", 5)"
      ],
      "metadata": {
        "id": "cLkaJzADy4B-"
      },
      "execution_count": null,
      "outputs": []
    },
    {
      "cell_type": "markdown",
      "source": [
        "Consequently, the base vocabulary is [\"b\", \"g\", \"h\", \"n\", \"p\", \"s\", \"u\"]. Splitting all words into symbols of the base vocabulary, we obtain:"
      ],
      "metadata": {
        "id": "uABcA7luy5ef"
      }
    },
    {
      "cell_type": "code",
      "source": [
        "(\"h\" \"u\" \"g\", 10), (\"p\" \"u\" \"g\", 5), (\"p\" \"u\" \"n\", 12), (\"b\" \"u\" \"n\", 4), (\"h\" \"u\" \"g\" \"s\", 5)"
      ],
      "metadata": {
        "id": "KyXlTeNjy6ew"
      },
      "execution_count": null,
      "outputs": []
    },
    {
      "cell_type": "markdown",
      "source": [
        "BPE then counts the frequency of each possible symbol pair and picks the symbol pair that occurs most frequently. In the example above \"h\" followed by \"u\" is present 10 + 5 = 15 times (10 times in the 10 occurrences of \"hug\", 5 times in the 5 occurrences of \"hugs\"). However, the most frequent symbol pair is \"u\" followed by \"g\", occurring 10 + 5 + 5 = 20 times in total. Thus, the first merge rule the tokenizer learns is to group all \"u\" symbols followed by a \"g\" symbol together. Next, \"ug\" is added to the vocabulary. The set of words then becomes"
      ],
      "metadata": {
        "id": "q-MK9DJ5zCzx"
      }
    },
    {
      "cell_type": "code",
      "source": [
        "(\"h\" \"ug\", 10), (\"p\" \"ug\", 5), (\"p\" \"u\" \"n\", 12), (\"b\" \"u\" \"n\", 4), (\"h\" \"ug\" \"s\", 5)"
      ],
      "metadata": {
        "id": "OSxufmq8zDtR"
      },
      "execution_count": null,
      "outputs": []
    },
    {
      "cell_type": "markdown",
      "source": [
        "BPE then identifies the next most common symbol pair. It’s \"u\" followed by \"n\", which occurs 16 times. \"u\", \"n\" is merged to \"un\" and added to the vocabulary. The next most frequent symbol pair is \"h\" followed by \"ug\", occurring 15 times. Again the pair is merged and \"hug\" can be added to the vocabulary.\n",
        "\n",
        "At this stage, the vocabulary is [\"b\", \"g\", \"h\", \"n\", \"p\", \"s\", \"u\", \"ug\", \"un\", \"hug\"] and our set of unique words is represented as"
      ],
      "metadata": {
        "id": "oVTd4czIzIzf"
      }
    },
    {
      "cell_type": "code",
      "source": [
        "(\"hug\", 10), (\"p\" \"ug\", 5), (\"p\" \"un\", 12), (\"b\" \"un\", 4), (\"hug\" \"s\", 5)"
      ],
      "metadata": {
        "id": "SJJiKuEpzJ0O"
      },
      "execution_count": null,
      "outputs": []
    },
    {
      "cell_type": "markdown",
      "source": [
        "Assuming, that the Byte-Pair Encoding training would stop at this point, the learned merge rules would then be applied to new words (as long as those new words do not include symbols that were not in the base vocabulary). For instance, the word \"bug\" would be tokenized to [\"b\", \"ug\"] but \"mug\" would be tokenized as [\"<unk>\", \"ug\"] since the symbol \"m\" is not in the base vocabulary. In general, single letters such as \"m\" are not replaced by the \"<unk>\" symbol because the training data usually includes at least one occurrence of each letter, but it is likely to happen for very special characters like emojis.\n",
        "\n",
        "As mentioned earlier, the vocabulary size, i.e. the base vocabulary size + the number of merges, is a hyperparameter to choose. For instance GPT has a vocabulary size of 40,478 since they have 478 base characters and chose to stop training after 40,000 merges."
      ],
      "metadata": {
        "id": "bSGPeXHxzWw2"
      }
    },
    {
      "cell_type": "markdown",
      "source": [
        " Byte-level BPE\n",
        "\n",
        "A base vocabulary that includes all possible base characters can be quite large if e.g. all unicode characters are considered as base characters. To have a better base vocabulary, GPT-2 uses bytes as the base vocabulary, which is a clever trick to force the base vocabulary to be of size 256 while ensuring that every base character is included in the vocabulary. With some additional rules to deal with punctuation, the GPT2’s tokenizer can tokenize every text without the need for the <unk> symbol. GPT-2 has a vocabulary size of 50,257, which corresponds to the 256 bytes base tokens, a special end-of-text token and the symbols learned with 50,000 merges."
      ],
      "metadata": {
        "id": "Cb3RFkONzgCD"
      }
    },
    {
      "cell_type": "markdown",
      "source": [
        " WordPiece\n",
        "\n",
        "WordPiece is the subword tokenization algorithm used for BERT, DistilBERT, and Electra. The algorithm was outlined in Japanese and Korean Voice Search (Schuster et al., 2012) and is very similar to BPE. WordPiece first initializes the vocabulary to include every character present in the training data and progressively learns a given number of merge rules. In contrast to BPE, WordPiece does not choose the most frequent symbol pair, but the one that maximizes the likelihood of the training data once added to the vocabulary.\n",
        "\n",
        "So what does this mean exactly? Referring to the previous example, maximizing the likelihood of the training data is equivalent to finding the symbol pair, whose probability divided by the probabilities of its first symbol followed by its second symbol is the greatest among all symbol pairs. E.g. \"u\", followed by \"g\" would have only been merged if the probability of \"ug\" divided by \"u\", \"g\" would have been greater than for any other symbol pair. Intuitively, WordPiece is slightly different to BPE in that it evaluates what it loses by merging two symbols to ensure it’s worth it."
      ],
      "metadata": {
        "id": "qQSp7761zrB-"
      }
    },
    {
      "cell_type": "markdown",
      "source": [
        "Unigram\n",
        "\n",
        "Unigram is a subword tokenization algorithm introduced in Subword Regularization: Improving Neural Network Translation Models with Multiple Subword Candidates (Kudo, 2018). In contrast to BPE or WordPiece, Unigram initializes its base vocabulary to a large number of symbols and progressively trims down each symbol to obtain a smaller vocabulary. The base vocabulary could for instance correspond to all pre-tokenized words and the most common substrings. Unigram is not used directly for any of the models in the transformers, but it’s used in conjunction with SentencePiece.\n",
        "\n",
        "At each training step, the Unigram algorithm defines a loss (often defined as the log-likelihood) over the training data given the current vocabulary and a unigram language model. Then, for each symbol in the vocabulary, the algorithm computes how much the overall loss would increase if the symbol was to be removed from the vocabulary. Unigram then removes p (with p usually being 10% or 20%) percent of the symbols whose loss increase is the lowest, i.e. those symbols that least affect the overall loss over the training data. This process is repeated until the vocabulary has reached the desired size. The Unigram algorithm always keeps the base characters so that any word can be tokenized.\n",
        "\n",
        "Because Unigram is not based on merge rules (in contrast to BPE and WordPiece), the algorithm has several ways of tokenizing new text after training. As an example, if a trained Unigram tokenizer exhibits the vocabulary:"
      ],
      "metadata": {
        "id": "fADirvTqz8YM"
      }
    },
    {
      "cell_type": "code",
      "source": [
        "[\"b\", \"g\", \"h\", \"n\", \"p\", \"s\", \"u\", \"ug\", \"un\", \"hug\"],"
      ],
      "metadata": {
        "id": "ye3QxTSNz9gu"
      },
      "execution_count": null,
      "outputs": []
    },
    {
      "cell_type": "markdown",
      "source": [
        "\"hugs\" could be tokenized both as [\"hug\", \"s\"], [\"h\", \"ug\", \"s\"] or [\"h\", \"u\", \"g\", \"s\"]. So which one to choose? Unigram saves the probability of each token in the training corpus on top of saving the vocabulary so that the probability of each possible tokenization can be computed after training. The algorithm simply picks the most likely tokenization in practice, but also offers the possibility to sample a possible tokenization according to their probabilities.\n",
        "\n",
        "Those probabilities are defined by the loss the tokenizer is trained on. Assuming that the training data consists of the wordsx1,…,xNx1​,…,xN​ and that the set of all possible tokenizations for a wordxixi​ is defined asS(xi)S(xi​), then the overall loss is defined as"
      ],
      "metadata": {
        "id": "J_nV-Pju0D0a"
      }
    },
    {
      "cell_type": "markdown",
      "source": [
        "![image.png](data:image/png;base64,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)"
      ],
      "metadata": {
        "id": "tmqpYrD00G6_"
      }
    },
    {
      "cell_type": "markdown",
      "source": [
        " SentencePiece\n",
        "\n",
        "All tokenization algorithms described so far have the same problem: It is assumed that the input text uses spaces to separate words. However, not all languages use spaces to separate words. One possible solution is to use language specific pre-tokenizers, e.g. XLM uses a specific Chinese, Japanese, and Thai pre-tokenizer). To solve this problem more generally, SentencePiece: A simple and language independent subword tokenizer and detokenizer for Neural Text Processing (Kudo et al., 2018) treats the input as a raw input stream, thus including the space in the set of characters to use. It then uses the BPE or unigram algorithm to construct the appropriate vocabulary.\n",
        "\n",
        "The XLNetTokenizer uses SentencePiece for example, which is also why in the example earlier the \"▁\" character was included in the vocabulary. Decoding with SentencePiece is very easy since all tokens can just be concatenated and \"▁\" is replaced by a space.\n",
        "\n",
        "All transformers models in the library that use SentencePiece use it in combination with unigram. Examples of models using SentencePiece are ALBERT, XLNet, Marian, and T5."
      ],
      "metadata": {
        "id": "a0exzwPV0RLp"
      }
    }
  ]
}