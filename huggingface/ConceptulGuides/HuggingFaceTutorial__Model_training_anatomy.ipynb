{
  "nbformat": 4,
  "nbformat_minor": 0,
  "metadata": {
    "colab": {
      "provenance": []
    },
    "kernelspec": {
      "name": "python3",
      "display_name": "Python 3"
    },
    "language_info": {
      "name": "python"
    }
  },
  "cells": [
    {
      "cell_type": "markdown",
      "source": [
        "To understand performance optimization techniques that one can apply to improve efficiency of model training speed and memory utilization, it’s helpful to get familiar with how GPU is utilized during training, and how compute intensity varies depending on an operation performed.\n",
        "\n",
        "Let’s start by exploring a motivating example of GPU utilization and the training run of a model. For the demonstration, we’ll need to install a few libraries:"
      ],
      "metadata": {
        "id": "7wlj0aufiOQg"
      }
    },
    {
      "cell_type": "code",
      "execution_count": null,
      "metadata": {
        "id": "EVU0yGySiFgd"
      },
      "outputs": [],
      "source": [
        "!pip install transformers datasets accelerate nvidia-ml-py3"
      ]
    },
    {
      "cell_type": "markdown",
      "source": [
        "The nvidia-ml-py3 library allows us to monitor the memory usage of the models from within Python. You might be familiar with the nvidia-smi command in the terminal - this library allows to access the same information in Python directly.\n",
        "\n",
        "Then, we create some dummy data: random token IDs between 100 and 30000 and binary labels for a classifier. In total, we get 512 sequences each with length 512 and store them in a Dataset with PyTorch format."
      ],
      "metadata": {
        "id": "CLWXg_MCiW-F"
      }
    },
    {
      "cell_type": "code",
      "source": [
        "import numpy as np\n",
        "from datasets import Dataset\n",
        "\n",
        "\n",
        "seq_len, dataset_size = 512, 512\n",
        "dummy_data = {\n",
        "    \"input_ids\": np.random.randint(100, 30000, (dataset_size, seq_len)),\n",
        "    \"labels\": np.random.randint(0, 1, (dataset_size)),\n",
        "}\n",
        "ds = Dataset.from_dict(dummy_data)\n",
        "ds.set_format(\"pt\")"
      ],
      "metadata": {
        "id": "mB3dmmPoiYaQ"
      },
      "execution_count": null,
      "outputs": []
    },
    {
      "cell_type": "markdown",
      "source": [
        "To print summary statistics for the GPU utilization and the training run with the Trainer we define two helper functions:"
      ],
      "metadata": {
        "id": "QB1hMtPIiarj"
      }
    },
    {
      "cell_type": "code",
      "source": [
        "from pynvml import *\n",
        "\n",
        "\n",
        "def print_gpu_utilization():\n",
        "    nvmlInit()\n",
        "    handle = nvmlDeviceGetHandleByIndex(0)\n",
        "    info = nvmlDeviceGetMemoryInfo(handle)\n",
        "    print(f\"GPU memory occupied: {info.used//1024**2} MB.\")\n",
        "\n",
        "\n",
        "def print_summary(result):\n",
        "    print(f\"Time: {result.metrics['train_runtime']:.2f}\")\n",
        "    print(f\"Samples/second: {result.metrics['train_samples_per_second']:.2f}\")\n",
        "    print_gpu_utilization()"
      ],
      "metadata": {
        "id": "Mo3_OwWAib5R"
      },
      "execution_count": null,
      "outputs": []
    },
    {
      "cell_type": "markdown",
      "source": [
        "Let’s verify that we start with a free GPU memory:"
      ],
      "metadata": {
        "id": "J1mkyH8eidhb"
      }
    },
    {
      "cell_type": "code",
      "source": [
        "print_gpu_utilization()"
      ],
      "metadata": {
        "id": "H8MB-sY0iem0"
      },
      "execution_count": null,
      "outputs": []
    },
    {
      "cell_type": "markdown",
      "source": [
        "That looks good: the GPU memory is not occupied as we would expect before we load any models. If that’s not the case on your machine make sure to stop all processes that are using GPU memory. However, not all free GPU memory can be used by the user. When a model is loaded to the GPU the kernels are also loaded, which can take up 1-2GB of memory. To see how much it is we load a tiny tensor into the GPU which triggers the kernels to be loaded as well."
      ],
      "metadata": {
        "id": "Nc2WeyrJilzn"
      }
    },
    {
      "cell_type": "code",
      "source": [
        "import torch\n",
        "\n",
        "\n",
        "torch.ones((1, 1)).to(\"cuda\")\n",
        "print_gpu_utilization()"
      ],
      "metadata": {
        "id": "chn5DuKGim7z"
      },
      "execution_count": null,
      "outputs": []
    },
    {
      "cell_type": "markdown",
      "source": [
        "We see that the kernels alone take up 1.3GB of GPU memory. Now let’s see how much space the model uses."
      ],
      "metadata": {
        "id": "G38HKoReioVD"
      }
    },
    {
      "cell_type": "markdown",
      "source": [
        " Load Model\n",
        "\n",
        "First, we load the google-bert/bert-large-uncased model. We load the model weights directly to the GPU so that we can check how much space just the weights use."
      ],
      "metadata": {
        "id": "M53qP8J6irCD"
      }
    },
    {
      "cell_type": "code",
      "source": [
        "from transformers import AutoModelForSequenceClassification\n",
        "\n",
        "\n",
        "model = AutoModelForSequenceClassification.from_pretrained(\"google-bert/bert-large-uncased\").to(\"cuda\")\n",
        "print_gpu_utilization()"
      ],
      "metadata": {
        "id": "kGDZMFhaisyJ"
      },
      "execution_count": null,
      "outputs": []
    },
    {
      "cell_type": "markdown",
      "source": [
        "We can see that the model weights alone take up 1.3 GB of GPU memory. The exact number depends on the specific GPU you are using. Note that on newer GPUs a model can sometimes take up more space since the weights are loaded in an optimized fashion that speeds up the usage of the model. Now we can also quickly check if we get the same result as with nvidia-smi CLI:"
      ],
      "metadata": {
        "id": "Dw3z_AIyi1tL"
      }
    },
    {
      "cell_type": "markdown",
      "source": [
        "We get the same number as before and you can also see that we are using a V100 GPU with 16GB of memory. So now we can start training the model and see how the GPU memory consumption changes. First, we set up a few standard training arguments:"
      ],
      "metadata": {
        "id": "ucIrDfw4i5oL"
      }
    },
    {
      "cell_type": "code",
      "source": [
        "default_args = {\n",
        "    \"output_dir\": \"tmp\",\n",
        "    \"evaluation_strategy\": \"steps\",\n",
        "    \"num_train_epochs\": 1,\n",
        "    \"log_level\": \"error\",\n",
        "    \"report_to\": \"none\",\n",
        "}"
      ],
      "metadata": {
        "id": "Uj5KV4Y7i6xP"
      },
      "execution_count": null,
      "outputs": []
    },
    {
      "cell_type": "markdown",
      "source": [
        "If you plan to run multiple experiments, in order to properly clear the memory between experiments, restart the Python kernel between experiments.\n",
        "Memory utilization at vanilla training\n",
        "\n",
        "Let’s use the Trainer and train the model without using any GPU performance optimization techniques and a batch size of 4:"
      ],
      "metadata": {
        "id": "pRiyf0iSi9ml"
      }
    },
    {
      "cell_type": "code",
      "source": [
        "from transformers import TrainingArguments, Trainer, logging\n",
        "\n",
        "logging.set_verbosity_error()\n",
        "\n",
        "\n",
        "training_args = TrainingArguments(per_device_train_batch_size=4, **default_args)\n",
        "trainer = Trainer(model=model, args=training_args, train_dataset=ds)\n",
        "result = trainer.train()\n",
        "print_summary(result)"
      ],
      "metadata": {
        "id": "wQfimHfpi--U"
      },
      "execution_count": null,
      "outputs": []
    },
    {
      "cell_type": "markdown",
      "source": [
        "We see that already a relatively small batch size almost fills up our GPU’s entire memory. However, a larger batch size can often result in faster model convergence or better end performance. So ideally we want to tune the batch size to our model’s needs and not to the GPU limitations. What’s interesting is that we use much more memory than the size of the model. To understand a bit better why this is the case let’s have a look at a model’s operations and memory needs.\n",
        "Anatomy of Model’s Operations\n",
        "\n",
        "Transformers architecture includes 3 main groups of operations grouped below by compute-intensity.\n",
        "\n",
        "Tensor Contractions\n",
        "\n",
        "Linear layers and components of Multi-Head Attention all do batched matrix-matrix multiplications. These operations are the most compute-intensive part of training a transformer.\n",
        "\n",
        "Statistical Normalizations\n",
        "\n",
        "Softmax and layer normalization are less compute-intensive than tensor contractions, and involve one or more reduction operations, the result of which is then applied via a map.\n",
        "\n",
        "Element-wise Operators\n",
        "\n",
        "These are the remaining operators: biases, dropout, activations, and residual connections. These are the least compute-intensive operations.\n",
        "\n",
        "This knowledge can be helpful to know when analyzing performance bottlenecks.\n",
        "\n",
        "This summary is derived from Data Movement Is All You Need: A Case Study on Optimizing Transformers 2020"
      ],
      "metadata": {
        "id": "ASB8pqnDjTXk"
      }
    },
    {
      "cell_type": "markdown",
      "source": [
        "This knowledge can be helpful to know when analyzing performance bottlenecks.\n",
        "\n",
        "This summary is derived from Data Movement Is All You Need: A Case Study on Optimizing Transformers 2020\n",
        "Anatomy of Model’s Memory\n",
        "\n",
        "We’ve seen that training the model uses much more memory than just putting the model on the GPU. This is because there are many components during training that use GPU memory. The components on GPU memory are the following:\n",
        "\n",
        "model weights\n",
        "optimizer states\n",
        "gradients\n",
        "forward activations saved for gradient computation\n",
        "temporary buffers\n",
        "functionality-specific memory\n",
        "\n",
        "A typical model trained in mixed precision with AdamW requires 18 bytes per model parameter plus activation memory. For inference there are no optimizer states and gradients, so we can subtract those. And thus we end up with 6 bytes per model parameter for mixed precision inference, plus activation memory.\n",
        "\n",
        "Let’s look at the details.\n",
        "\n",
        "Model Weights:\n",
        "\n",
        "4 bytes * number of parameters for fp32 training\n",
        "6 bytes * number of parameters for mixed precision training (maintains a model in fp32 and one in fp16 in memory)\n",
        "\n",
        "Optimizer States:\n",
        "\n",
        "8 bytes * number of parameters for normal AdamW (maintains 2 states)\n",
        "2 bytes * number of parameters for 8-bit AdamW optimizers like bitsandbytes\n",
        "4 bytes * number of parameters for optimizers like SGD with momentum (maintains only 1 state)\n",
        "\n",
        "Gradients\n",
        "\n",
        "4 bytes * number of parameters for either fp32 or mixed precision training (gradients are always kept in fp32)\n",
        "\n",
        "Forward Activations\n",
        "\n",
        "size depends on many factors, the key ones being sequence length, hidden size and batch size.\n",
        "\n",
        "There are the input and output that are being passed and returned by the forward and the backward functions and the forward activations saved for gradient computation.\n",
        "\n",
        "Temporary Memory\n",
        "\n",
        "Additionally, there are all kinds of temporary variables which get released once the calculation is done, but in the moment these could require additional memory and could push to OOM. Therefore, when coding it’s crucial to think strategically about such temporary variables and sometimes to explicitly free those as soon as they are no longer needed.\n",
        "\n",
        "Functionality-specific memory\n",
        "\n",
        "Then, your software could have special memory needs. For example, when generating text using beam search, the software needs to maintain multiple copies of inputs and outputs.\n",
        "\n",
        "forward vs backward Execution Speed\n",
        "\n",
        "For convolutions and linear layers there are 2x flops in the backward compared to the forward, which generally translates into ~2x slower (sometimes more, because sizes in the backward tend to be more awkward). Activations are usually bandwidth-limited, and it’s typical for an activation to have to read more data in the backward than in the forward (e.g. activation forward reads once, writes once, activation backward reads twice, gradOutput and output of the forward, and writes once, gradInput).\n",
        "\n",
        "As you can see, there are potentially a few places where we could save GPU memory or speed up operations. Now that you understand what affects GPU utilization and computation speed, refer to the Methods and tools for efficient training on a single GPU documentation page to learn about performance optimization techniques."
      ],
      "metadata": {
        "id": "jP-MFjmcj0Wk"
      }
    }
  ]
}