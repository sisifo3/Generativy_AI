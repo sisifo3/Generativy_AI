{
  "nbformat": 4,
  "nbformat_minor": 0,
  "metadata": {
    "colab": {
      "provenance": []
    },
    "kernelspec": {
      "name": "python3",
      "display_name": "Python 3"
    },
    "language_info": {
      "name": "python"
    }
  },
  "cells": [
    {
      "cell_type": "markdown",
      "source": [
        "Creating an inference engine is a complex topic, and the \"best\" solution will most likely depend on your problem space. Are you on CPU or GPU? Do you want the lowest latency, the highest throughput, support for many models, or just highly optimize 1 specific model? There are many ways to tackle this topic, so what we are going to present is a good default to get started which may not necessarily be the most optimal solution for you.\n",
        "\n",
        "The key thing to understand is that we can use an iterator, just like you would on a dataset, since a webserver is basically a system that waits for requests and treats them as they come in.\n",
        "\n",
        "Usually webservers are multiplexed (multithreaded, async, etc..) to handle various requests concurrently. Pipelines on the other hand (and mostly the underlying models) are not really great for parallelism; they take up a lot of RAM, so it’s best to give them all the available resources when they are running or it’s a compute-intensive job.\n",
        "\n",
        "We are going to solve that by having the webserver handle the light load of receiving and sending requests, and having a single thread handling the actual work. This example is going to use starlette. The actual framework is not really important, but you might have to tune or change the code if you are using another one to achieve the same effect.\n",
        "\n",
        "Create server.py:"
      ],
      "metadata": {
        "id": "Q608Im5ShDr8"
      }
    },
    {
      "cell_type": "code",
      "execution_count": 1,
      "metadata": {
        "colab": {
          "base_uri": "https://localhost:8080/",
          "height": 390
        },
        "id": "jRn_j2s8gisC",
        "outputId": "4d917b47-283f-4067-c382-468512b68945"
      },
      "outputs": [
        {
          "output_type": "error",
          "ename": "ModuleNotFoundError",
          "evalue": "No module named 'starlette'",
          "traceback": [
            "\u001b[0;31m---------------------------------------------------------------------------\u001b[0m",
            "\u001b[0;31mModuleNotFoundError\u001b[0m                       Traceback (most recent call last)",
            "\u001b[0;32m<ipython-input-1-42e198e7583d>\u001b[0m in \u001b[0;36m<cell line: 1>\u001b[0;34m()\u001b[0m\n\u001b[0;32m----> 1\u001b[0;31m \u001b[0;32mfrom\u001b[0m \u001b[0mstarlette\u001b[0m\u001b[0;34m.\u001b[0m\u001b[0mapplications\u001b[0m \u001b[0;32mimport\u001b[0m \u001b[0mStarlette\u001b[0m\u001b[0;34m\u001b[0m\u001b[0;34m\u001b[0m\u001b[0m\n\u001b[0m\u001b[1;32m      2\u001b[0m \u001b[0;32mfrom\u001b[0m \u001b[0mstarlette\u001b[0m\u001b[0;34m.\u001b[0m\u001b[0mresponses\u001b[0m \u001b[0;32mimport\u001b[0m \u001b[0mJSONResponse\u001b[0m\u001b[0;34m\u001b[0m\u001b[0;34m\u001b[0m\u001b[0m\n\u001b[1;32m      3\u001b[0m \u001b[0;32mfrom\u001b[0m \u001b[0mstarlette\u001b[0m\u001b[0;34m.\u001b[0m\u001b[0mrouting\u001b[0m \u001b[0;32mimport\u001b[0m \u001b[0mRoute\u001b[0m\u001b[0;34m\u001b[0m\u001b[0;34m\u001b[0m\u001b[0m\n\u001b[1;32m      4\u001b[0m \u001b[0;32mfrom\u001b[0m \u001b[0mtransformers\u001b[0m \u001b[0;32mimport\u001b[0m \u001b[0mpipeline\u001b[0m\u001b[0;34m\u001b[0m\u001b[0;34m\u001b[0m\u001b[0m\n\u001b[1;32m      5\u001b[0m \u001b[0;32mimport\u001b[0m \u001b[0masyncio\u001b[0m\u001b[0;34m\u001b[0m\u001b[0;34m\u001b[0m\u001b[0m\n",
            "\u001b[0;31mModuleNotFoundError\u001b[0m: No module named 'starlette'",
            "",
            "\u001b[0;31m---------------------------------------------------------------------------\u001b[0;32m\nNOTE: If your import is failing due to a missing package, you can\nmanually install dependencies using either !pip or !apt.\n\nTo view examples of installing some common dependencies, click the\n\"Open Examples\" button below.\n\u001b[0;31m---------------------------------------------------------------------------\u001b[0m\n"
          ],
          "errorDetails": {
            "actions": [
              {
                "action": "open_url",
                "actionText": "Open Examples",
                "url": "/notebooks/snippets/importing_libraries.ipynb"
              }
            ]
          }
        }
      ],
      "source": [
        "from starlette.applications import Starlette\n",
        "from starlette.responses import JSONResponse\n",
        "from starlette.routing import Route\n",
        "from transformers import pipeline\n",
        "import asyncio\n",
        "\n",
        "\n",
        "async def homepage(request):\n",
        "    payload = await request.body()\n",
        "    string = payload.decode(\"utf-8\")\n",
        "    response_q = asyncio.Queue()\n",
        "    await request.app.model_queue.put((string, response_q))\n",
        "    output = await response_q.get()\n",
        "    return JSONResponse(output)\n",
        "\n",
        "\n",
        "async def server_loop(q):\n",
        "    pipe = pipeline(model=\"google-bert/bert-base-uncased\")\n",
        "    while True:\n",
        "        (string, response_q) = await q.get()\n",
        "        out = pipe(string)\n",
        "        await response_q.put(out)\n",
        "\n",
        "\n",
        "app = Starlette(\n",
        "    routes=[\n",
        "        Route(\"/\", homepage, methods=[\"POST\"]),\n",
        "    ],\n",
        ")\n",
        "\n",
        "\n",
        "@app.on_event(\"startup\")\n",
        "async def startup_event():\n",
        "    q = asyncio.Queue()\n",
        "    app.model_queue = q\n",
        "    asyncio.create_task(server_loop(q))"
      ]
    },
    {
      "cell_type": "markdown",
      "source": [
        "Now you can start it with:"
      ],
      "metadata": {
        "id": "tFQCMuIqhNI9"
      }
    },
    {
      "cell_type": "code",
      "source": [
        "uvicorn server:app\n"
      ],
      "metadata": {
        "id": "RHCKJJXyhRJz"
      },
      "execution_count": null,
      "outputs": []
    },
    {
      "cell_type": "markdown",
      "source": [
        "And you can query it:"
      ],
      "metadata": {
        "id": "SPdWhF3dhP3g"
      }
    },
    {
      "cell_type": "code",
      "source": [
        "curl -X POST -d \"test [MASK]\" http://localhost:8000/\n",
        "#[{\"score\":0.7742936015129089,\"token\":1012,\"token_str\":\".\",\"sequence\":\"test.\"},...]"
      ],
      "metadata": {
        "id": "9eMjpJh-hTOl"
      },
      "execution_count": null,
      "outputs": []
    },
    {
      "cell_type": "markdown",
      "source": [
        "And there you go, now you have a good idea of how to create a webserver!\n",
        "\n",
        "What is really important is that we load the model only once, so there are no copies of the model on the webserver. This way, no unnecessary RAM is being used. Then the queuing mechanism allows you to do fancy stuff like maybe accumulating a few items before inferring to use dynamic batching:"
      ],
      "metadata": {
        "id": "Ms2Uxwu8hXad"
      }
    },
    {
      "cell_type": "markdown",
      "source": [
        "The code sample below is intentionally written like pseudo-code for readability. Do not run this without checking if it makes sense for your system resources!"
      ],
      "metadata": {
        "id": "1bmvWmAThZGr"
      }
    },
    {
      "cell_type": "code",
      "source": [
        "(string, rq) = await q.get()\n",
        "strings = []\n",
        "queues = []\n",
        "while True:\n",
        "    try:\n",
        "        (string, rq) = await asyncio.wait_for(q.get(), timeout=0.001)  # 1ms\n",
        "    except asyncio.exceptions.TimeoutError:\n",
        "        break\n",
        "    strings.append(string)\n",
        "    queues.append(rq)\n",
        "strings\n",
        "outs = pipe(strings, batch_size=len(strings))\n",
        "for rq, out in zip(queues, outs):\n",
        "    await rq.put(out)"
      ],
      "metadata": {
        "id": "k9NfmYVlhaOD"
      },
      "execution_count": null,
      "outputs": []
    },
    {
      "cell_type": "markdown",
      "source": [
        "Again, the proposed code is optimized for readability, not for being the best code. First of all, there’s no batch size limit which is usually not a great idea. Next, the timeout is reset on every queue fetch, meaning you could wait much more than 1ms before running the inference (delaying the first request by that much).\n",
        "\n",
        "It would be better to have a single 1ms deadline.\n",
        "\n",
        "This will always wait for 1ms even if the queue is empty, which might not be the best since you probably want to start doing inference if there’s nothing in the queue. But maybe it does make sense if batching is really crucial for your use case. Again, there’s really no one best solution.\n",
        "Few things you might want to consider\n",
        "Error checking\n",
        "\n",
        "There’s a lot that can go wrong in production: out of memory, out of space, loading the model might fail, the query might be wrong, the query might be correct but still fail to run because of a model misconfiguration, and so on.\n",
        "\n",
        "Generally, it’s good if the server outputs the errors to the user, so adding a lot of try..except statements to show those errors is a good idea. But keep in mind it may also be a security risk to reveal all those errors depending on your security context.\n",
        "Circuit breaking\n",
        "\n",
        "Webservers usually look better when they do circuit breaking. It means they return proper errors when they’re overloaded instead of just waiting for the query indefinitely. Return a 503 error instead of waiting for a super long time or a 504 after a long time.\n",
        "\n",
        "This is relatively easy to implement in the proposed code since there is a single queue. Looking at the queue size is a basic way to start returning errors before your webserver fails under load.\n",
        "Blocking the main thread\n",
        "\n",
        "Currently PyTorch is not async aware, and computation will block the main thread while running. That means it would be better if PyTorch was forced to run on its own thread/process. This wasn’t done here because the code is a lot more complex (mostly because threads and async and queues don’t play nice together). But ultimately it does the same thing.\n",
        "\n",
        "This would be important if the inference of single items were long (> 1s) because in this case, it means every query during inference would have to wait for 1s before even receiving an error."
      ],
      "metadata": {
        "id": "9Z99N2r5h0AW"
      }
    },
    {
      "cell_type": "markdown",
      "source": [
        "Dynamic batching\n",
        "\n",
        "In general, batching is not necessarily an improvement over passing 1 item at a time (see batching details for more information). But it can be very effective when used in the correct setting. In the API, there is no dynamic batching by default (too much opportunity for a slowdown). But for BLOOM inference - which is a very large model - dynamic batching is essential to provide a decent experience for everyone."
      ],
      "metadata": {
        "id": "iB4e9wfbh51f"
      }
    }
  ]
}