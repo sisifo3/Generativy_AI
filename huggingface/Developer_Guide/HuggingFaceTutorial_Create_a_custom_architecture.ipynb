{
  "nbformat": 4,
  "nbformat_minor": 0,
  "metadata": {
    "colab": {
      "provenance": []
    },
    "kernelspec": {
      "name": "python3",
      "display_name": "Python 3"
    },
    "language_info": {
      "name": "python"
    },
    "widgets": {
      "application/vnd.jupyter.widget-state+json": {
        "feefc2b489b94d5ca0419d52aa4b6c05": {
          "model_module": "@jupyter-widgets/controls",
          "model_name": "HBoxModel",
          "model_module_version": "1.5.0",
          "state": {
            "_dom_classes": [],
            "_model_module": "@jupyter-widgets/controls",
            "_model_module_version": "1.5.0",
            "_model_name": "HBoxModel",
            "_view_count": null,
            "_view_module": "@jupyter-widgets/controls",
            "_view_module_version": "1.5.0",
            "_view_name": "HBoxView",
            "box_style": "",
            "children": [
              "IPY_MODEL_b2612d20409d42d5918a45dbfe01b8b4",
              "IPY_MODEL_d129cc54d73e49fdad58c3e448e84953",
              "IPY_MODEL_25176280fa3a40108d9b012f0f27035c"
            ],
            "layout": "IPY_MODEL_0bb59f1060494ffbb5737e13b3f50bd1"
          }
        },
        "b2612d20409d42d5918a45dbfe01b8b4": {
          "model_module": "@jupyter-widgets/controls",
          "model_name": "HTMLModel",
          "model_module_version": "1.5.0",
          "state": {
            "_dom_classes": [],
            "_model_module": "@jupyter-widgets/controls",
            "_model_module_version": "1.5.0",
            "_model_name": "HTMLModel",
            "_view_count": null,
            "_view_module": "@jupyter-widgets/controls",
            "_view_module_version": "1.5.0",
            "_view_name": "HTMLView",
            "description": "",
            "description_tooltip": null,
            "layout": "IPY_MODEL_c914a90c63c54e0d8841af814a6a2b1d",
            "placeholder": "​",
            "style": "IPY_MODEL_3912913ad56949639cc0a340eb8813b6",
            "value": "config.json: 100%"
          }
        },
        "d129cc54d73e49fdad58c3e448e84953": {
          "model_module": "@jupyter-widgets/controls",
          "model_name": "FloatProgressModel",
          "model_module_version": "1.5.0",
          "state": {
            "_dom_classes": [],
            "_model_module": "@jupyter-widgets/controls",
            "_model_module_version": "1.5.0",
            "_model_name": "FloatProgressModel",
            "_view_count": null,
            "_view_module": "@jupyter-widgets/controls",
            "_view_module_version": "1.5.0",
            "_view_name": "ProgressView",
            "bar_style": "success",
            "description": "",
            "description_tooltip": null,
            "layout": "IPY_MODEL_bda680440a36435492dcfef5825c8b1c",
            "max": 483,
            "min": 0,
            "orientation": "horizontal",
            "style": "IPY_MODEL_2469070076384ecd821b31f90f07e188",
            "value": 483
          }
        },
        "25176280fa3a40108d9b012f0f27035c": {
          "model_module": "@jupyter-widgets/controls",
          "model_name": "HTMLModel",
          "model_module_version": "1.5.0",
          "state": {
            "_dom_classes": [],
            "_model_module": "@jupyter-widgets/controls",
            "_model_module_version": "1.5.0",
            "_model_name": "HTMLModel",
            "_view_count": null,
            "_view_module": "@jupyter-widgets/controls",
            "_view_module_version": "1.5.0",
            "_view_name": "HTMLView",
            "description": "",
            "description_tooltip": null,
            "layout": "IPY_MODEL_b8fcd264972d4593b5aa50d0ae76a837",
            "placeholder": "​",
            "style": "IPY_MODEL_1e68b5f585624913b69b78654b8bf9e1",
            "value": " 483/483 [00:00&lt;00:00, 2.67kB/s]"
          }
        },
        "0bb59f1060494ffbb5737e13b3f50bd1": {
          "model_module": "@jupyter-widgets/base",
          "model_name": "LayoutModel",
          "model_module_version": "1.2.0",
          "state": {
            "_model_module": "@jupyter-widgets/base",
            "_model_module_version": "1.2.0",
            "_model_name": "LayoutModel",
            "_view_count": null,
            "_view_module": "@jupyter-widgets/base",
            "_view_module_version": "1.2.0",
            "_view_name": "LayoutView",
            "align_content": null,
            "align_items": null,
            "align_self": null,
            "border": null,
            "bottom": null,
            "display": null,
            "flex": null,
            "flex_flow": null,
            "grid_area": null,
            "grid_auto_columns": null,
            "grid_auto_flow": null,
            "grid_auto_rows": null,
            "grid_column": null,
            "grid_gap": null,
            "grid_row": null,
            "grid_template_areas": null,
            "grid_template_columns": null,
            "grid_template_rows": null,
            "height": null,
            "justify_content": null,
            "justify_items": null,
            "left": null,
            "margin": null,
            "max_height": null,
            "max_width": null,
            "min_height": null,
            "min_width": null,
            "object_fit": null,
            "object_position": null,
            "order": null,
            "overflow": null,
            "overflow_x": null,
            "overflow_y": null,
            "padding": null,
            "right": null,
            "top": null,
            "visibility": null,
            "width": null
          }
        },
        "c914a90c63c54e0d8841af814a6a2b1d": {
          "model_module": "@jupyter-widgets/base",
          "model_name": "LayoutModel",
          "model_module_version": "1.2.0",
          "state": {
            "_model_module": "@jupyter-widgets/base",
            "_model_module_version": "1.2.0",
            "_model_name": "LayoutModel",
            "_view_count": null,
            "_view_module": "@jupyter-widgets/base",
            "_view_module_version": "1.2.0",
            "_view_name": "LayoutView",
            "align_content": null,
            "align_items": null,
            "align_self": null,
            "border": null,
            "bottom": null,
            "display": null,
            "flex": null,
            "flex_flow": null,
            "grid_area": null,
            "grid_auto_columns": null,
            "grid_auto_flow": null,
            "grid_auto_rows": null,
            "grid_column": null,
            "grid_gap": null,
            "grid_row": null,
            "grid_template_areas": null,
            "grid_template_columns": null,
            "grid_template_rows": null,
            "height": null,
            "justify_content": null,
            "justify_items": null,
            "left": null,
            "margin": null,
            "max_height": null,
            "max_width": null,
            "min_height": null,
            "min_width": null,
            "object_fit": null,
            "object_position": null,
            "order": null,
            "overflow": null,
            "overflow_x": null,
            "overflow_y": null,
            "padding": null,
            "right": null,
            "top": null,
            "visibility": null,
            "width": null
          }
        },
        "3912913ad56949639cc0a340eb8813b6": {
          "model_module": "@jupyter-widgets/controls",
          "model_name": "DescriptionStyleModel",
          "model_module_version": "1.5.0",
          "state": {
            "_model_module": "@jupyter-widgets/controls",
            "_model_module_version": "1.5.0",
            "_model_name": "DescriptionStyleModel",
            "_view_count": null,
            "_view_module": "@jupyter-widgets/base",
            "_view_module_version": "1.2.0",
            "_view_name": "StyleView",
            "description_width": ""
          }
        },
        "bda680440a36435492dcfef5825c8b1c": {
          "model_module": "@jupyter-widgets/base",
          "model_name": "LayoutModel",
          "model_module_version": "1.2.0",
          "state": {
            "_model_module": "@jupyter-widgets/base",
            "_model_module_version": "1.2.0",
            "_model_name": "LayoutModel",
            "_view_count": null,
            "_view_module": "@jupyter-widgets/base",
            "_view_module_version": "1.2.0",
            "_view_name": "LayoutView",
            "align_content": null,
            "align_items": null,
            "align_self": null,
            "border": null,
            "bottom": null,
            "display": null,
            "flex": null,
            "flex_flow": null,
            "grid_area": null,
            "grid_auto_columns": null,
            "grid_auto_flow": null,
            "grid_auto_rows": null,
            "grid_column": null,
            "grid_gap": null,
            "grid_row": null,
            "grid_template_areas": null,
            "grid_template_columns": null,
            "grid_template_rows": null,
            "height": null,
            "justify_content": null,
            "justify_items": null,
            "left": null,
            "margin": null,
            "max_height": null,
            "max_width": null,
            "min_height": null,
            "min_width": null,
            "object_fit": null,
            "object_position": null,
            "order": null,
            "overflow": null,
            "overflow_x": null,
            "overflow_y": null,
            "padding": null,
            "right": null,
            "top": null,
            "visibility": null,
            "width": null
          }
        },
        "2469070076384ecd821b31f90f07e188": {
          "model_module": "@jupyter-widgets/controls",
          "model_name": "ProgressStyleModel",
          "model_module_version": "1.5.0",
          "state": {
            "_model_module": "@jupyter-widgets/controls",
            "_model_module_version": "1.5.0",
            "_model_name": "ProgressStyleModel",
            "_view_count": null,
            "_view_module": "@jupyter-widgets/base",
            "_view_module_version": "1.2.0",
            "_view_name": "StyleView",
            "bar_color": null,
            "description_width": ""
          }
        },
        "b8fcd264972d4593b5aa50d0ae76a837": {
          "model_module": "@jupyter-widgets/base",
          "model_name": "LayoutModel",
          "model_module_version": "1.2.0",
          "state": {
            "_model_module": "@jupyter-widgets/base",
            "_model_module_version": "1.2.0",
            "_model_name": "LayoutModel",
            "_view_count": null,
            "_view_module": "@jupyter-widgets/base",
            "_view_module_version": "1.2.0",
            "_view_name": "LayoutView",
            "align_content": null,
            "align_items": null,
            "align_self": null,
            "border": null,
            "bottom": null,
            "display": null,
            "flex": null,
            "flex_flow": null,
            "grid_area": null,
            "grid_auto_columns": null,
            "grid_auto_flow": null,
            "grid_auto_rows": null,
            "grid_column": null,
            "grid_gap": null,
            "grid_row": null,
            "grid_template_areas": null,
            "grid_template_columns": null,
            "grid_template_rows": null,
            "height": null,
            "justify_content": null,
            "justify_items": null,
            "left": null,
            "margin": null,
            "max_height": null,
            "max_width": null,
            "min_height": null,
            "min_width": null,
            "object_fit": null,
            "object_position": null,
            "order": null,
            "overflow": null,
            "overflow_x": null,
            "overflow_y": null,
            "padding": null,
            "right": null,
            "top": null,
            "visibility": null,
            "width": null
          }
        },
        "1e68b5f585624913b69b78654b8bf9e1": {
          "model_module": "@jupyter-widgets/controls",
          "model_name": "DescriptionStyleModel",
          "model_module_version": "1.5.0",
          "state": {
            "_model_module": "@jupyter-widgets/controls",
            "_model_module_version": "1.5.0",
            "_model_name": "DescriptionStyleModel",
            "_view_count": null,
            "_view_module": "@jupyter-widgets/base",
            "_view_module_version": "1.2.0",
            "_view_name": "StyleView",
            "description_width": ""
          }
        },
        "7a28e423b6be472e85136b1450650b1a": {
          "model_module": "@jupyter-widgets/controls",
          "model_name": "HBoxModel",
          "model_module_version": "1.5.0",
          "state": {
            "_dom_classes": [],
            "_model_module": "@jupyter-widgets/controls",
            "_model_module_version": "1.5.0",
            "_model_name": "HBoxModel",
            "_view_count": null,
            "_view_module": "@jupyter-widgets/controls",
            "_view_module_version": "1.5.0",
            "_view_name": "HBoxView",
            "box_style": "",
            "children": [
              "IPY_MODEL_a44dfc0543b84d17a7d72f4fb59fcb69",
              "IPY_MODEL_3c13e05a037a4e7fbc764d21113ae4b6",
              "IPY_MODEL_3704df32142343f4afe7e84e8afac3ed"
            ],
            "layout": "IPY_MODEL_26bd84ea9e5b45e283ad622a0c2bc7de"
          }
        },
        "a44dfc0543b84d17a7d72f4fb59fcb69": {
          "model_module": "@jupyter-widgets/controls",
          "model_name": "HTMLModel",
          "model_module_version": "1.5.0",
          "state": {
            "_dom_classes": [],
            "_model_module": "@jupyter-widgets/controls",
            "_model_module_version": "1.5.0",
            "_model_name": "HTMLModel",
            "_view_count": null,
            "_view_module": "@jupyter-widgets/controls",
            "_view_module_version": "1.5.0",
            "_view_name": "HTMLView",
            "description": "",
            "description_tooltip": null,
            "layout": "IPY_MODEL_eca377ae280b4dc784e6e5bb8a2c1038",
            "placeholder": "​",
            "style": "IPY_MODEL_6689ff4eb8cd4b09b617bb27473282e5",
            "value": "model.safetensors: 100%"
          }
        },
        "3c13e05a037a4e7fbc764d21113ae4b6": {
          "model_module": "@jupyter-widgets/controls",
          "model_name": "FloatProgressModel",
          "model_module_version": "1.5.0",
          "state": {
            "_dom_classes": [],
            "_model_module": "@jupyter-widgets/controls",
            "_model_module_version": "1.5.0",
            "_model_name": "FloatProgressModel",
            "_view_count": null,
            "_view_module": "@jupyter-widgets/controls",
            "_view_module_version": "1.5.0",
            "_view_name": "ProgressView",
            "bar_style": "success",
            "description": "",
            "description_tooltip": null,
            "layout": "IPY_MODEL_29483ea235814008bdac05d32c6f46f9",
            "max": 267954768,
            "min": 0,
            "orientation": "horizontal",
            "style": "IPY_MODEL_50cec522e7a943cea1fd3fee01720e18",
            "value": 267954768
          }
        },
        "3704df32142343f4afe7e84e8afac3ed": {
          "model_module": "@jupyter-widgets/controls",
          "model_name": "HTMLModel",
          "model_module_version": "1.5.0",
          "state": {
            "_dom_classes": [],
            "_model_module": "@jupyter-widgets/controls",
            "_model_module_version": "1.5.0",
            "_model_name": "HTMLModel",
            "_view_count": null,
            "_view_module": "@jupyter-widgets/controls",
            "_view_module_version": "1.5.0",
            "_view_name": "HTMLView",
            "description": "",
            "description_tooltip": null,
            "layout": "IPY_MODEL_dc65b5e44d074f1f89a104d3294dda3e",
            "placeholder": "​",
            "style": "IPY_MODEL_35aa162c21f9491f977ed1b971d95756",
            "value": " 268M/268M [00:04&lt;00:00, 55.5MB/s]"
          }
        },
        "26bd84ea9e5b45e283ad622a0c2bc7de": {
          "model_module": "@jupyter-widgets/base",
          "model_name": "LayoutModel",
          "model_module_version": "1.2.0",
          "state": {
            "_model_module": "@jupyter-widgets/base",
            "_model_module_version": "1.2.0",
            "_model_name": "LayoutModel",
            "_view_count": null,
            "_view_module": "@jupyter-widgets/base",
            "_view_module_version": "1.2.0",
            "_view_name": "LayoutView",
            "align_content": null,
            "align_items": null,
            "align_self": null,
            "border": null,
            "bottom": null,
            "display": null,
            "flex": null,
            "flex_flow": null,
            "grid_area": null,
            "grid_auto_columns": null,
            "grid_auto_flow": null,
            "grid_auto_rows": null,
            "grid_column": null,
            "grid_gap": null,
            "grid_row": null,
            "grid_template_areas": null,
            "grid_template_columns": null,
            "grid_template_rows": null,
            "height": null,
            "justify_content": null,
            "justify_items": null,
            "left": null,
            "margin": null,
            "max_height": null,
            "max_width": null,
            "min_height": null,
            "min_width": null,
            "object_fit": null,
            "object_position": null,
            "order": null,
            "overflow": null,
            "overflow_x": null,
            "overflow_y": null,
            "padding": null,
            "right": null,
            "top": null,
            "visibility": null,
            "width": null
          }
        },
        "eca377ae280b4dc784e6e5bb8a2c1038": {
          "model_module": "@jupyter-widgets/base",
          "model_name": "LayoutModel",
          "model_module_version": "1.2.0",
          "state": {
            "_model_module": "@jupyter-widgets/base",
            "_model_module_version": "1.2.0",
            "_model_name": "LayoutModel",
            "_view_count": null,
            "_view_module": "@jupyter-widgets/base",
            "_view_module_version": "1.2.0",
            "_view_name": "LayoutView",
            "align_content": null,
            "align_items": null,
            "align_self": null,
            "border": null,
            "bottom": null,
            "display": null,
            "flex": null,
            "flex_flow": null,
            "grid_area": null,
            "grid_auto_columns": null,
            "grid_auto_flow": null,
            "grid_auto_rows": null,
            "grid_column": null,
            "grid_gap": null,
            "grid_row": null,
            "grid_template_areas": null,
            "grid_template_columns": null,
            "grid_template_rows": null,
            "height": null,
            "justify_content": null,
            "justify_items": null,
            "left": null,
            "margin": null,
            "max_height": null,
            "max_width": null,
            "min_height": null,
            "min_width": null,
            "object_fit": null,
            "object_position": null,
            "order": null,
            "overflow": null,
            "overflow_x": null,
            "overflow_y": null,
            "padding": null,
            "right": null,
            "top": null,
            "visibility": null,
            "width": null
          }
        },
        "6689ff4eb8cd4b09b617bb27473282e5": {
          "model_module": "@jupyter-widgets/controls",
          "model_name": "DescriptionStyleModel",
          "model_module_version": "1.5.0",
          "state": {
            "_model_module": "@jupyter-widgets/controls",
            "_model_module_version": "1.5.0",
            "_model_name": "DescriptionStyleModel",
            "_view_count": null,
            "_view_module": "@jupyter-widgets/base",
            "_view_module_version": "1.2.0",
            "_view_name": "StyleView",
            "description_width": ""
          }
        },
        "29483ea235814008bdac05d32c6f46f9": {
          "model_module": "@jupyter-widgets/base",
          "model_name": "LayoutModel",
          "model_module_version": "1.2.0",
          "state": {
            "_model_module": "@jupyter-widgets/base",
            "_model_module_version": "1.2.0",
            "_model_name": "LayoutModel",
            "_view_count": null,
            "_view_module": "@jupyter-widgets/base",
            "_view_module_version": "1.2.0",
            "_view_name": "LayoutView",
            "align_content": null,
            "align_items": null,
            "align_self": null,
            "border": null,
            "bottom": null,
            "display": null,
            "flex": null,
            "flex_flow": null,
            "grid_area": null,
            "grid_auto_columns": null,
            "grid_auto_flow": null,
            "grid_auto_rows": null,
            "grid_column": null,
            "grid_gap": null,
            "grid_row": null,
            "grid_template_areas": null,
            "grid_template_columns": null,
            "grid_template_rows": null,
            "height": null,
            "justify_content": null,
            "justify_items": null,
            "left": null,
            "margin": null,
            "max_height": null,
            "max_width": null,
            "min_height": null,
            "min_width": null,
            "object_fit": null,
            "object_position": null,
            "order": null,
            "overflow": null,
            "overflow_x": null,
            "overflow_y": null,
            "padding": null,
            "right": null,
            "top": null,
            "visibility": null,
            "width": null
          }
        },
        "50cec522e7a943cea1fd3fee01720e18": {
          "model_module": "@jupyter-widgets/controls",
          "model_name": "ProgressStyleModel",
          "model_module_version": "1.5.0",
          "state": {
            "_model_module": "@jupyter-widgets/controls",
            "_model_module_version": "1.5.0",
            "_model_name": "ProgressStyleModel",
            "_view_count": null,
            "_view_module": "@jupyter-widgets/base",
            "_view_module_version": "1.2.0",
            "_view_name": "StyleView",
            "bar_color": null,
            "description_width": ""
          }
        },
        "dc65b5e44d074f1f89a104d3294dda3e": {
          "model_module": "@jupyter-widgets/base",
          "model_name": "LayoutModel",
          "model_module_version": "1.2.0",
          "state": {
            "_model_module": "@jupyter-widgets/base",
            "_model_module_version": "1.2.0",
            "_model_name": "LayoutModel",
            "_view_count": null,
            "_view_module": "@jupyter-widgets/base",
            "_view_module_version": "1.2.0",
            "_view_name": "LayoutView",
            "align_content": null,
            "align_items": null,
            "align_self": null,
            "border": null,
            "bottom": null,
            "display": null,
            "flex": null,
            "flex_flow": null,
            "grid_area": null,
            "grid_auto_columns": null,
            "grid_auto_flow": null,
            "grid_auto_rows": null,
            "grid_column": null,
            "grid_gap": null,
            "grid_row": null,
            "grid_template_areas": null,
            "grid_template_columns": null,
            "grid_template_rows": null,
            "height": null,
            "justify_content": null,
            "justify_items": null,
            "left": null,
            "margin": null,
            "max_height": null,
            "max_width": null,
            "min_height": null,
            "min_width": null,
            "object_fit": null,
            "object_position": null,
            "order": null,
            "overflow": null,
            "overflow_x": null,
            "overflow_y": null,
            "padding": null,
            "right": null,
            "top": null,
            "visibility": null,
            "width": null
          }
        },
        "35aa162c21f9491f977ed1b971d95756": {
          "model_module": "@jupyter-widgets/controls",
          "model_name": "DescriptionStyleModel",
          "model_module_version": "1.5.0",
          "state": {
            "_model_module": "@jupyter-widgets/controls",
            "_model_module_version": "1.5.0",
            "_model_name": "DescriptionStyleModel",
            "_view_count": null,
            "_view_module": "@jupyter-widgets/base",
            "_view_module_version": "1.2.0",
            "_view_name": "StyleView",
            "description_width": ""
          }
        },
        "e3e0ac2968004a34a0bc0f81a40c84a9": {
          "model_module": "@jupyter-widgets/controls",
          "model_name": "HBoxModel",
          "model_module_version": "1.5.0",
          "state": {
            "_dom_classes": [],
            "_model_module": "@jupyter-widgets/controls",
            "_model_module_version": "1.5.0",
            "_model_name": "HBoxModel",
            "_view_count": null,
            "_view_module": "@jupyter-widgets/controls",
            "_view_module_version": "1.5.0",
            "_view_name": "HBoxView",
            "box_style": "",
            "children": [
              "IPY_MODEL_0246b13f7add42b58999ab74f9af073e",
              "IPY_MODEL_4e6c05425293418087c4fddb342eb349",
              "IPY_MODEL_231a480426c64c7cb31b5577b569f0a7"
            ],
            "layout": "IPY_MODEL_480518c86c3b4fd7b3d1798d62f424d2"
          }
        },
        "0246b13f7add42b58999ab74f9af073e": {
          "model_module": "@jupyter-widgets/controls",
          "model_name": "HTMLModel",
          "model_module_version": "1.5.0",
          "state": {
            "_dom_classes": [],
            "_model_module": "@jupyter-widgets/controls",
            "_model_module_version": "1.5.0",
            "_model_name": "HTMLModel",
            "_view_count": null,
            "_view_module": "@jupyter-widgets/controls",
            "_view_module_version": "1.5.0",
            "_view_name": "HTMLView",
            "description": "",
            "description_tooltip": null,
            "layout": "IPY_MODEL_5174f11bd6eb48d3979e7df52169b87e",
            "placeholder": "​",
            "style": "IPY_MODEL_2bc85d85dae04f1ab8bc48cd138cdadf",
            "value": "tokenizer_config.json: 100%"
          }
        },
        "4e6c05425293418087c4fddb342eb349": {
          "model_module": "@jupyter-widgets/controls",
          "model_name": "FloatProgressModel",
          "model_module_version": "1.5.0",
          "state": {
            "_dom_classes": [],
            "_model_module": "@jupyter-widgets/controls",
            "_model_module_version": "1.5.0",
            "_model_name": "FloatProgressModel",
            "_view_count": null,
            "_view_module": "@jupyter-widgets/controls",
            "_view_module_version": "1.5.0",
            "_view_name": "ProgressView",
            "bar_style": "success",
            "description": "",
            "description_tooltip": null,
            "layout": "IPY_MODEL_f9bce6a1fb7d46a79b70f90801a1e6ed",
            "max": 28,
            "min": 0,
            "orientation": "horizontal",
            "style": "IPY_MODEL_9559ef0151084e62a70e2697013c225d",
            "value": 28
          }
        },
        "231a480426c64c7cb31b5577b569f0a7": {
          "model_module": "@jupyter-widgets/controls",
          "model_name": "HTMLModel",
          "model_module_version": "1.5.0",
          "state": {
            "_dom_classes": [],
            "_model_module": "@jupyter-widgets/controls",
            "_model_module_version": "1.5.0",
            "_model_name": "HTMLModel",
            "_view_count": null,
            "_view_module": "@jupyter-widgets/controls",
            "_view_module_version": "1.5.0",
            "_view_name": "HTMLView",
            "description": "",
            "description_tooltip": null,
            "layout": "IPY_MODEL_41d033411f2e485aa5d8bfb368b782ff",
            "placeholder": "​",
            "style": "IPY_MODEL_04cdad299bed434f9273d4b84acf2db2",
            "value": " 28.0/28.0 [00:00&lt;00:00, 364B/s]"
          }
        },
        "480518c86c3b4fd7b3d1798d62f424d2": {
          "model_module": "@jupyter-widgets/base",
          "model_name": "LayoutModel",
          "model_module_version": "1.2.0",
          "state": {
            "_model_module": "@jupyter-widgets/base",
            "_model_module_version": "1.2.0",
            "_model_name": "LayoutModel",
            "_view_count": null,
            "_view_module": "@jupyter-widgets/base",
            "_view_module_version": "1.2.0",
            "_view_name": "LayoutView",
            "align_content": null,
            "align_items": null,
            "align_self": null,
            "border": null,
            "bottom": null,
            "display": null,
            "flex": null,
            "flex_flow": null,
            "grid_area": null,
            "grid_auto_columns": null,
            "grid_auto_flow": null,
            "grid_auto_rows": null,
            "grid_column": null,
            "grid_gap": null,
            "grid_row": null,
            "grid_template_areas": null,
            "grid_template_columns": null,
            "grid_template_rows": null,
            "height": null,
            "justify_content": null,
            "justify_items": null,
            "left": null,
            "margin": null,
            "max_height": null,
            "max_width": null,
            "min_height": null,
            "min_width": null,
            "object_fit": null,
            "object_position": null,
            "order": null,
            "overflow": null,
            "overflow_x": null,
            "overflow_y": null,
            "padding": null,
            "right": null,
            "top": null,
            "visibility": null,
            "width": null
          }
        },
        "5174f11bd6eb48d3979e7df52169b87e": {
          "model_module": "@jupyter-widgets/base",
          "model_name": "LayoutModel",
          "model_module_version": "1.2.0",
          "state": {
            "_model_module": "@jupyter-widgets/base",
            "_model_module_version": "1.2.0",
            "_model_name": "LayoutModel",
            "_view_count": null,
            "_view_module": "@jupyter-widgets/base",
            "_view_module_version": "1.2.0",
            "_view_name": "LayoutView",
            "align_content": null,
            "align_items": null,
            "align_self": null,
            "border": null,
            "bottom": null,
            "display": null,
            "flex": null,
            "flex_flow": null,
            "grid_area": null,
            "grid_auto_columns": null,
            "grid_auto_flow": null,
            "grid_auto_rows": null,
            "grid_column": null,
            "grid_gap": null,
            "grid_row": null,
            "grid_template_areas": null,
            "grid_template_columns": null,
            "grid_template_rows": null,
            "height": null,
            "justify_content": null,
            "justify_items": null,
            "left": null,
            "margin": null,
            "max_height": null,
            "max_width": null,
            "min_height": null,
            "min_width": null,
            "object_fit": null,
            "object_position": null,
            "order": null,
            "overflow": null,
            "overflow_x": null,
            "overflow_y": null,
            "padding": null,
            "right": null,
            "top": null,
            "visibility": null,
            "width": null
          }
        },
        "2bc85d85dae04f1ab8bc48cd138cdadf": {
          "model_module": "@jupyter-widgets/controls",
          "model_name": "DescriptionStyleModel",
          "model_module_version": "1.5.0",
          "state": {
            "_model_module": "@jupyter-widgets/controls",
            "_model_module_version": "1.5.0",
            "_model_name": "DescriptionStyleModel",
            "_view_count": null,
            "_view_module": "@jupyter-widgets/base",
            "_view_module_version": "1.2.0",
            "_view_name": "StyleView",
            "description_width": ""
          }
        },
        "f9bce6a1fb7d46a79b70f90801a1e6ed": {
          "model_module": "@jupyter-widgets/base",
          "model_name": "LayoutModel",
          "model_module_version": "1.2.0",
          "state": {
            "_model_module": "@jupyter-widgets/base",
            "_model_module_version": "1.2.0",
            "_model_name": "LayoutModel",
            "_view_count": null,
            "_view_module": "@jupyter-widgets/base",
            "_view_module_version": "1.2.0",
            "_view_name": "LayoutView",
            "align_content": null,
            "align_items": null,
            "align_self": null,
            "border": null,
            "bottom": null,
            "display": null,
            "flex": null,
            "flex_flow": null,
            "grid_area": null,
            "grid_auto_columns": null,
            "grid_auto_flow": null,
            "grid_auto_rows": null,
            "grid_column": null,
            "grid_gap": null,
            "grid_row": null,
            "grid_template_areas": null,
            "grid_template_columns": null,
            "grid_template_rows": null,
            "height": null,
            "justify_content": null,
            "justify_items": null,
            "left": null,
            "margin": null,
            "max_height": null,
            "max_width": null,
            "min_height": null,
            "min_width": null,
            "object_fit": null,
            "object_position": null,
            "order": null,
            "overflow": null,
            "overflow_x": null,
            "overflow_y": null,
            "padding": null,
            "right": null,
            "top": null,
            "visibility": null,
            "width": null
          }
        },
        "9559ef0151084e62a70e2697013c225d": {
          "model_module": "@jupyter-widgets/controls",
          "model_name": "ProgressStyleModel",
          "model_module_version": "1.5.0",
          "state": {
            "_model_module": "@jupyter-widgets/controls",
            "_model_module_version": "1.5.0",
            "_model_name": "ProgressStyleModel",
            "_view_count": null,
            "_view_module": "@jupyter-widgets/base",
            "_view_module_version": "1.2.0",
            "_view_name": "StyleView",
            "bar_color": null,
            "description_width": ""
          }
        },
        "41d033411f2e485aa5d8bfb368b782ff": {
          "model_module": "@jupyter-widgets/base",
          "model_name": "LayoutModel",
          "model_module_version": "1.2.0",
          "state": {
            "_model_module": "@jupyter-widgets/base",
            "_model_module_version": "1.2.0",
            "_model_name": "LayoutModel",
            "_view_count": null,
            "_view_module": "@jupyter-widgets/base",
            "_view_module_version": "1.2.0",
            "_view_name": "LayoutView",
            "align_content": null,
            "align_items": null,
            "align_self": null,
            "border": null,
            "bottom": null,
            "display": null,
            "flex": null,
            "flex_flow": null,
            "grid_area": null,
            "grid_auto_columns": null,
            "grid_auto_flow": null,
            "grid_auto_rows": null,
            "grid_column": null,
            "grid_gap": null,
            "grid_row": null,
            "grid_template_areas": null,
            "grid_template_columns": null,
            "grid_template_rows": null,
            "height": null,
            "justify_content": null,
            "justify_items": null,
            "left": null,
            "margin": null,
            "max_height": null,
            "max_width": null,
            "min_height": null,
            "min_width": null,
            "object_fit": null,
            "object_position": null,
            "order": null,
            "overflow": null,
            "overflow_x": null,
            "overflow_y": null,
            "padding": null,
            "right": null,
            "top": null,
            "visibility": null,
            "width": null
          }
        },
        "04cdad299bed434f9273d4b84acf2db2": {
          "model_module": "@jupyter-widgets/controls",
          "model_name": "DescriptionStyleModel",
          "model_module_version": "1.5.0",
          "state": {
            "_model_module": "@jupyter-widgets/controls",
            "_model_module_version": "1.5.0",
            "_model_name": "DescriptionStyleModel",
            "_view_count": null,
            "_view_module": "@jupyter-widgets/base",
            "_view_module_version": "1.2.0",
            "_view_name": "StyleView",
            "description_width": ""
          }
        },
        "3a5d5830e7c3414ca20511e88ea510b5": {
          "model_module": "@jupyter-widgets/controls",
          "model_name": "HBoxModel",
          "model_module_version": "1.5.0",
          "state": {
            "_dom_classes": [],
            "_model_module": "@jupyter-widgets/controls",
            "_model_module_version": "1.5.0",
            "_model_name": "HBoxModel",
            "_view_count": null,
            "_view_module": "@jupyter-widgets/controls",
            "_view_module_version": "1.5.0",
            "_view_name": "HBoxView",
            "box_style": "",
            "children": [
              "IPY_MODEL_e50e6e1867ad46e483b26aebba45e911",
              "IPY_MODEL_1cd486fb483c423eb4299ba43ba0852a",
              "IPY_MODEL_5d92375bc30947038e4e5768341cb3b1"
            ],
            "layout": "IPY_MODEL_924ddce68fc44bd48f5873a12b5d571f"
          }
        },
        "e50e6e1867ad46e483b26aebba45e911": {
          "model_module": "@jupyter-widgets/controls",
          "model_name": "HTMLModel",
          "model_module_version": "1.5.0",
          "state": {
            "_dom_classes": [],
            "_model_module": "@jupyter-widgets/controls",
            "_model_module_version": "1.5.0",
            "_model_name": "HTMLModel",
            "_view_count": null,
            "_view_module": "@jupyter-widgets/controls",
            "_view_module_version": "1.5.0",
            "_view_name": "HTMLView",
            "description": "",
            "description_tooltip": null,
            "layout": "IPY_MODEL_d1b95d191b4f4f6badf187c1903d943b",
            "placeholder": "​",
            "style": "IPY_MODEL_fd875d46185b4d21906794e7cf995ac4",
            "value": "vocab.txt: 100%"
          }
        },
        "1cd486fb483c423eb4299ba43ba0852a": {
          "model_module": "@jupyter-widgets/controls",
          "model_name": "FloatProgressModel",
          "model_module_version": "1.5.0",
          "state": {
            "_dom_classes": [],
            "_model_module": "@jupyter-widgets/controls",
            "_model_module_version": "1.5.0",
            "_model_name": "FloatProgressModel",
            "_view_count": null,
            "_view_module": "@jupyter-widgets/controls",
            "_view_module_version": "1.5.0",
            "_view_name": "ProgressView",
            "bar_style": "success",
            "description": "",
            "description_tooltip": null,
            "layout": "IPY_MODEL_a0a18502e1824020a0d69c9d99a5b221",
            "max": 231508,
            "min": 0,
            "orientation": "horizontal",
            "style": "IPY_MODEL_ec8feab997114ecabe488f0f9240fb49",
            "value": 231508
          }
        },
        "5d92375bc30947038e4e5768341cb3b1": {
          "model_module": "@jupyter-widgets/controls",
          "model_name": "HTMLModel",
          "model_module_version": "1.5.0",
          "state": {
            "_dom_classes": [],
            "_model_module": "@jupyter-widgets/controls",
            "_model_module_version": "1.5.0",
            "_model_name": "HTMLModel",
            "_view_count": null,
            "_view_module": "@jupyter-widgets/controls",
            "_view_module_version": "1.5.0",
            "_view_name": "HTMLView",
            "description": "",
            "description_tooltip": null,
            "layout": "IPY_MODEL_e6607fa8278c4d918601ef81e76c5933",
            "placeholder": "​",
            "style": "IPY_MODEL_3d619abea41844a0862c3818db000b62",
            "value": " 232k/232k [00:00&lt;00:00, 1.09MB/s]"
          }
        },
        "924ddce68fc44bd48f5873a12b5d571f": {
          "model_module": "@jupyter-widgets/base",
          "model_name": "LayoutModel",
          "model_module_version": "1.2.0",
          "state": {
            "_model_module": "@jupyter-widgets/base",
            "_model_module_version": "1.2.0",
            "_model_name": "LayoutModel",
            "_view_count": null,
            "_view_module": "@jupyter-widgets/base",
            "_view_module_version": "1.2.0",
            "_view_name": "LayoutView",
            "align_content": null,
            "align_items": null,
            "align_self": null,
            "border": null,
            "bottom": null,
            "display": null,
            "flex": null,
            "flex_flow": null,
            "grid_area": null,
            "grid_auto_columns": null,
            "grid_auto_flow": null,
            "grid_auto_rows": null,
            "grid_column": null,
            "grid_gap": null,
            "grid_row": null,
            "grid_template_areas": null,
            "grid_template_columns": null,
            "grid_template_rows": null,
            "height": null,
            "justify_content": null,
            "justify_items": null,
            "left": null,
            "margin": null,
            "max_height": null,
            "max_width": null,
            "min_height": null,
            "min_width": null,
            "object_fit": null,
            "object_position": null,
            "order": null,
            "overflow": null,
            "overflow_x": null,
            "overflow_y": null,
            "padding": null,
            "right": null,
            "top": null,
            "visibility": null,
            "width": null
          }
        },
        "d1b95d191b4f4f6badf187c1903d943b": {
          "model_module": "@jupyter-widgets/base",
          "model_name": "LayoutModel",
          "model_module_version": "1.2.0",
          "state": {
            "_model_module": "@jupyter-widgets/base",
            "_model_module_version": "1.2.0",
            "_model_name": "LayoutModel",
            "_view_count": null,
            "_view_module": "@jupyter-widgets/base",
            "_view_module_version": "1.2.0",
            "_view_name": "LayoutView",
            "align_content": null,
            "align_items": null,
            "align_self": null,
            "border": null,
            "bottom": null,
            "display": null,
            "flex": null,
            "flex_flow": null,
            "grid_area": null,
            "grid_auto_columns": null,
            "grid_auto_flow": null,
            "grid_auto_rows": null,
            "grid_column": null,
            "grid_gap": null,
            "grid_row": null,
            "grid_template_areas": null,
            "grid_template_columns": null,
            "grid_template_rows": null,
            "height": null,
            "justify_content": null,
            "justify_items": null,
            "left": null,
            "margin": null,
            "max_height": null,
            "max_width": null,
            "min_height": null,
            "min_width": null,
            "object_fit": null,
            "object_position": null,
            "order": null,
            "overflow": null,
            "overflow_x": null,
            "overflow_y": null,
            "padding": null,
            "right": null,
            "top": null,
            "visibility": null,
            "width": null
          }
        },
        "fd875d46185b4d21906794e7cf995ac4": {
          "model_module": "@jupyter-widgets/controls",
          "model_name": "DescriptionStyleModel",
          "model_module_version": "1.5.0",
          "state": {
            "_model_module": "@jupyter-widgets/controls",
            "_model_module_version": "1.5.0",
            "_model_name": "DescriptionStyleModel",
            "_view_count": null,
            "_view_module": "@jupyter-widgets/base",
            "_view_module_version": "1.2.0",
            "_view_name": "StyleView",
            "description_width": ""
          }
        },
        "a0a18502e1824020a0d69c9d99a5b221": {
          "model_module": "@jupyter-widgets/base",
          "model_name": "LayoutModel",
          "model_module_version": "1.2.0",
          "state": {
            "_model_module": "@jupyter-widgets/base",
            "_model_module_version": "1.2.0",
            "_model_name": "LayoutModel",
            "_view_count": null,
            "_view_module": "@jupyter-widgets/base",
            "_view_module_version": "1.2.0",
            "_view_name": "LayoutView",
            "align_content": null,
            "align_items": null,
            "align_self": null,
            "border": null,
            "bottom": null,
            "display": null,
            "flex": null,
            "flex_flow": null,
            "grid_area": null,
            "grid_auto_columns": null,
            "grid_auto_flow": null,
            "grid_auto_rows": null,
            "grid_column": null,
            "grid_gap": null,
            "grid_row": null,
            "grid_template_areas": null,
            "grid_template_columns": null,
            "grid_template_rows": null,
            "height": null,
            "justify_content": null,
            "justify_items": null,
            "left": null,
            "margin": null,
            "max_height": null,
            "max_width": null,
            "min_height": null,
            "min_width": null,
            "object_fit": null,
            "object_position": null,
            "order": null,
            "overflow": null,
            "overflow_x": null,
            "overflow_y": null,
            "padding": null,
            "right": null,
            "top": null,
            "visibility": null,
            "width": null
          }
        },
        "ec8feab997114ecabe488f0f9240fb49": {
          "model_module": "@jupyter-widgets/controls",
          "model_name": "ProgressStyleModel",
          "model_module_version": "1.5.0",
          "state": {
            "_model_module": "@jupyter-widgets/controls",
            "_model_module_version": "1.5.0",
            "_model_name": "ProgressStyleModel",
            "_view_count": null,
            "_view_module": "@jupyter-widgets/base",
            "_view_module_version": "1.2.0",
            "_view_name": "StyleView",
            "bar_color": null,
            "description_width": ""
          }
        },
        "e6607fa8278c4d918601ef81e76c5933": {
          "model_module": "@jupyter-widgets/base",
          "model_name": "LayoutModel",
          "model_module_version": "1.2.0",
          "state": {
            "_model_module": "@jupyter-widgets/base",
            "_model_module_version": "1.2.0",
            "_model_name": "LayoutModel",
            "_view_count": null,
            "_view_module": "@jupyter-widgets/base",
            "_view_module_version": "1.2.0",
            "_view_name": "LayoutView",
            "align_content": null,
            "align_items": null,
            "align_self": null,
            "border": null,
            "bottom": null,
            "display": null,
            "flex": null,
            "flex_flow": null,
            "grid_area": null,
            "grid_auto_columns": null,
            "grid_auto_flow": null,
            "grid_auto_rows": null,
            "grid_column": null,
            "grid_gap": null,
            "grid_row": null,
            "grid_template_areas": null,
            "grid_template_columns": null,
            "grid_template_rows": null,
            "height": null,
            "justify_content": null,
            "justify_items": null,
            "left": null,
            "margin": null,
            "max_height": null,
            "max_width": null,
            "min_height": null,
            "min_width": null,
            "object_fit": null,
            "object_position": null,
            "order": null,
            "overflow": null,
            "overflow_x": null,
            "overflow_y": null,
            "padding": null,
            "right": null,
            "top": null,
            "visibility": null,
            "width": null
          }
        },
        "3d619abea41844a0862c3818db000b62": {
          "model_module": "@jupyter-widgets/controls",
          "model_name": "DescriptionStyleModel",
          "model_module_version": "1.5.0",
          "state": {
            "_model_module": "@jupyter-widgets/controls",
            "_model_module_version": "1.5.0",
            "_model_name": "DescriptionStyleModel",
            "_view_count": null,
            "_view_module": "@jupyter-widgets/base",
            "_view_module_version": "1.2.0",
            "_view_name": "StyleView",
            "description_width": ""
          }
        },
        "63016b3b65844f8ab8437d85ca656494": {
          "model_module": "@jupyter-widgets/controls",
          "model_name": "HBoxModel",
          "model_module_version": "1.5.0",
          "state": {
            "_dom_classes": [],
            "_model_module": "@jupyter-widgets/controls",
            "_model_module_version": "1.5.0",
            "_model_name": "HBoxModel",
            "_view_count": null,
            "_view_module": "@jupyter-widgets/controls",
            "_view_module_version": "1.5.0",
            "_view_name": "HBoxView",
            "box_style": "",
            "children": [
              "IPY_MODEL_53cbb0dff1a5468dafeb52ee2eb8dcec",
              "IPY_MODEL_1caeff124dea413d8ff6a29e62c8012e",
              "IPY_MODEL_b4b0ca8c4c244ac883391d228c6c9c41"
            ],
            "layout": "IPY_MODEL_f97c6682356b40708b2cea3005d5c230"
          }
        },
        "53cbb0dff1a5468dafeb52ee2eb8dcec": {
          "model_module": "@jupyter-widgets/controls",
          "model_name": "HTMLModel",
          "model_module_version": "1.5.0",
          "state": {
            "_dom_classes": [],
            "_model_module": "@jupyter-widgets/controls",
            "_model_module_version": "1.5.0",
            "_model_name": "HTMLModel",
            "_view_count": null,
            "_view_module": "@jupyter-widgets/controls",
            "_view_module_version": "1.5.0",
            "_view_name": "HTMLView",
            "description": "",
            "description_tooltip": null,
            "layout": "IPY_MODEL_44428a00043d40e09edf752a041b0989",
            "placeholder": "​",
            "style": "IPY_MODEL_8cf10c00beef4038ba2425d02aeeb11b",
            "value": "tokenizer.json: 100%"
          }
        },
        "1caeff124dea413d8ff6a29e62c8012e": {
          "model_module": "@jupyter-widgets/controls",
          "model_name": "FloatProgressModel",
          "model_module_version": "1.5.0",
          "state": {
            "_dom_classes": [],
            "_model_module": "@jupyter-widgets/controls",
            "_model_module_version": "1.5.0",
            "_model_name": "FloatProgressModel",
            "_view_count": null,
            "_view_module": "@jupyter-widgets/controls",
            "_view_module_version": "1.5.0",
            "_view_name": "ProgressView",
            "bar_style": "success",
            "description": "",
            "description_tooltip": null,
            "layout": "IPY_MODEL_4466f9d298574b659a8bd97fbcad73eb",
            "max": 466062,
            "min": 0,
            "orientation": "horizontal",
            "style": "IPY_MODEL_29dc3f1aa4d14688af4473c3e527df3c",
            "value": 466062
          }
        },
        "b4b0ca8c4c244ac883391d228c6c9c41": {
          "model_module": "@jupyter-widgets/controls",
          "model_name": "HTMLModel",
          "model_module_version": "1.5.0",
          "state": {
            "_dom_classes": [],
            "_model_module": "@jupyter-widgets/controls",
            "_model_module_version": "1.5.0",
            "_model_name": "HTMLModel",
            "_view_count": null,
            "_view_module": "@jupyter-widgets/controls",
            "_view_module_version": "1.5.0",
            "_view_name": "HTMLView",
            "description": "",
            "description_tooltip": null,
            "layout": "IPY_MODEL_431a99e93e684a51b9a7332b4fd30907",
            "placeholder": "​",
            "style": "IPY_MODEL_7c589f2922064389af5ce01f9a15ef93",
            "value": " 466k/466k [00:00&lt;00:00, 4.48MB/s]"
          }
        },
        "f97c6682356b40708b2cea3005d5c230": {
          "model_module": "@jupyter-widgets/base",
          "model_name": "LayoutModel",
          "model_module_version": "1.2.0",
          "state": {
            "_model_module": "@jupyter-widgets/base",
            "_model_module_version": "1.2.0",
            "_model_name": "LayoutModel",
            "_view_count": null,
            "_view_module": "@jupyter-widgets/base",
            "_view_module_version": "1.2.0",
            "_view_name": "LayoutView",
            "align_content": null,
            "align_items": null,
            "align_self": null,
            "border": null,
            "bottom": null,
            "display": null,
            "flex": null,
            "flex_flow": null,
            "grid_area": null,
            "grid_auto_columns": null,
            "grid_auto_flow": null,
            "grid_auto_rows": null,
            "grid_column": null,
            "grid_gap": null,
            "grid_row": null,
            "grid_template_areas": null,
            "grid_template_columns": null,
            "grid_template_rows": null,
            "height": null,
            "justify_content": null,
            "justify_items": null,
            "left": null,
            "margin": null,
            "max_height": null,
            "max_width": null,
            "min_height": null,
            "min_width": null,
            "object_fit": null,
            "object_position": null,
            "order": null,
            "overflow": null,
            "overflow_x": null,
            "overflow_y": null,
            "padding": null,
            "right": null,
            "top": null,
            "visibility": null,
            "width": null
          }
        },
        "44428a00043d40e09edf752a041b0989": {
          "model_module": "@jupyter-widgets/base",
          "model_name": "LayoutModel",
          "model_module_version": "1.2.0",
          "state": {
            "_model_module": "@jupyter-widgets/base",
            "_model_module_version": "1.2.0",
            "_model_name": "LayoutModel",
            "_view_count": null,
            "_view_module": "@jupyter-widgets/base",
            "_view_module_version": "1.2.0",
            "_view_name": "LayoutView",
            "align_content": null,
            "align_items": null,
            "align_self": null,
            "border": null,
            "bottom": null,
            "display": null,
            "flex": null,
            "flex_flow": null,
            "grid_area": null,
            "grid_auto_columns": null,
            "grid_auto_flow": null,
            "grid_auto_rows": null,
            "grid_column": null,
            "grid_gap": null,
            "grid_row": null,
            "grid_template_areas": null,
            "grid_template_columns": null,
            "grid_template_rows": null,
            "height": null,
            "justify_content": null,
            "justify_items": null,
            "left": null,
            "margin": null,
            "max_height": null,
            "max_width": null,
            "min_height": null,
            "min_width": null,
            "object_fit": null,
            "object_position": null,
            "order": null,
            "overflow": null,
            "overflow_x": null,
            "overflow_y": null,
            "padding": null,
            "right": null,
            "top": null,
            "visibility": null,
            "width": null
          }
        },
        "8cf10c00beef4038ba2425d02aeeb11b": {
          "model_module": "@jupyter-widgets/controls",
          "model_name": "DescriptionStyleModel",
          "model_module_version": "1.5.0",
          "state": {
            "_model_module": "@jupyter-widgets/controls",
            "_model_module_version": "1.5.0",
            "_model_name": "DescriptionStyleModel",
            "_view_count": null,
            "_view_module": "@jupyter-widgets/base",
            "_view_module_version": "1.2.0",
            "_view_name": "StyleView",
            "description_width": ""
          }
        },
        "4466f9d298574b659a8bd97fbcad73eb": {
          "model_module": "@jupyter-widgets/base",
          "model_name": "LayoutModel",
          "model_module_version": "1.2.0",
          "state": {
            "_model_module": "@jupyter-widgets/base",
            "_model_module_version": "1.2.0",
            "_model_name": "LayoutModel",
            "_view_count": null,
            "_view_module": "@jupyter-widgets/base",
            "_view_module_version": "1.2.0",
            "_view_name": "LayoutView",
            "align_content": null,
            "align_items": null,
            "align_self": null,
            "border": null,
            "bottom": null,
            "display": null,
            "flex": null,
            "flex_flow": null,
            "grid_area": null,
            "grid_auto_columns": null,
            "grid_auto_flow": null,
            "grid_auto_rows": null,
            "grid_column": null,
            "grid_gap": null,
            "grid_row": null,
            "grid_template_areas": null,
            "grid_template_columns": null,
            "grid_template_rows": null,
            "height": null,
            "justify_content": null,
            "justify_items": null,
            "left": null,
            "margin": null,
            "max_height": null,
            "max_width": null,
            "min_height": null,
            "min_width": null,
            "object_fit": null,
            "object_position": null,
            "order": null,
            "overflow": null,
            "overflow_x": null,
            "overflow_y": null,
            "padding": null,
            "right": null,
            "top": null,
            "visibility": null,
            "width": null
          }
        },
        "29dc3f1aa4d14688af4473c3e527df3c": {
          "model_module": "@jupyter-widgets/controls",
          "model_name": "ProgressStyleModel",
          "model_module_version": "1.5.0",
          "state": {
            "_model_module": "@jupyter-widgets/controls",
            "_model_module_version": "1.5.0",
            "_model_name": "ProgressStyleModel",
            "_view_count": null,
            "_view_module": "@jupyter-widgets/base",
            "_view_module_version": "1.2.0",
            "_view_name": "StyleView",
            "bar_color": null,
            "description_width": ""
          }
        },
        "431a99e93e684a51b9a7332b4fd30907": {
          "model_module": "@jupyter-widgets/base",
          "model_name": "LayoutModel",
          "model_module_version": "1.2.0",
          "state": {
            "_model_module": "@jupyter-widgets/base",
            "_model_module_version": "1.2.0",
            "_model_name": "LayoutModel",
            "_view_count": null,
            "_view_module": "@jupyter-widgets/base",
            "_view_module_version": "1.2.0",
            "_view_name": "LayoutView",
            "align_content": null,
            "align_items": null,
            "align_self": null,
            "border": null,
            "bottom": null,
            "display": null,
            "flex": null,
            "flex_flow": null,
            "grid_area": null,
            "grid_auto_columns": null,
            "grid_auto_flow": null,
            "grid_auto_rows": null,
            "grid_column": null,
            "grid_gap": null,
            "grid_row": null,
            "grid_template_areas": null,
            "grid_template_columns": null,
            "grid_template_rows": null,
            "height": null,
            "justify_content": null,
            "justify_items": null,
            "left": null,
            "margin": null,
            "max_height": null,
            "max_width": null,
            "min_height": null,
            "min_width": null,
            "object_fit": null,
            "object_position": null,
            "order": null,
            "overflow": null,
            "overflow_x": null,
            "overflow_y": null,
            "padding": null,
            "right": null,
            "top": null,
            "visibility": null,
            "width": null
          }
        },
        "7c589f2922064389af5ce01f9a15ef93": {
          "model_module": "@jupyter-widgets/controls",
          "model_name": "DescriptionStyleModel",
          "model_module_version": "1.5.0",
          "state": {
            "_model_module": "@jupyter-widgets/controls",
            "_model_module_version": "1.5.0",
            "_model_name": "DescriptionStyleModel",
            "_view_count": null,
            "_view_module": "@jupyter-widgets/base",
            "_view_module_version": "1.2.0",
            "_view_name": "StyleView",
            "description_width": ""
          }
        },
        "6b480e0b69d9469a85e705934dd6c3c0": {
          "model_module": "@jupyter-widgets/controls",
          "model_name": "HBoxModel",
          "model_module_version": "1.5.0",
          "state": {
            "_dom_classes": [],
            "_model_module": "@jupyter-widgets/controls",
            "_model_module_version": "1.5.0",
            "_model_name": "HBoxModel",
            "_view_count": null,
            "_view_module": "@jupyter-widgets/controls",
            "_view_module_version": "1.5.0",
            "_view_name": "HBoxView",
            "box_style": "",
            "children": [
              "IPY_MODEL_9f43c969901948478825d7c6cfb1813c",
              "IPY_MODEL_03e4648502e44f598ff1cd0323ad464d",
              "IPY_MODEL_19afc160ae344c439f3f80b6087146a2"
            ],
            "layout": "IPY_MODEL_aade2a95f51840c7ba275f5a22c925ef"
          }
        },
        "9f43c969901948478825d7c6cfb1813c": {
          "model_module": "@jupyter-widgets/controls",
          "model_name": "HTMLModel",
          "model_module_version": "1.5.0",
          "state": {
            "_dom_classes": [],
            "_model_module": "@jupyter-widgets/controls",
            "_model_module_version": "1.5.0",
            "_model_name": "HTMLModel",
            "_view_count": null,
            "_view_module": "@jupyter-widgets/controls",
            "_view_module_version": "1.5.0",
            "_view_name": "HTMLView",
            "description": "",
            "description_tooltip": null,
            "layout": "IPY_MODEL_cd22f69dacc542df8540e4966101b769",
            "placeholder": "​",
            "style": "IPY_MODEL_04f7c6e6900146edabb404295e640dad",
            "value": "model.safetensors: 100%"
          }
        },
        "03e4648502e44f598ff1cd0323ad464d": {
          "model_module": "@jupyter-widgets/controls",
          "model_name": "FloatProgressModel",
          "model_module_version": "1.5.0",
          "state": {
            "_dom_classes": [],
            "_model_module": "@jupyter-widgets/controls",
            "_model_module_version": "1.5.0",
            "_model_name": "FloatProgressModel",
            "_view_count": null,
            "_view_module": "@jupyter-widgets/controls",
            "_view_module_version": "1.5.0",
            "_view_name": "ProgressView",
            "bar_style": "success",
            "description": "",
            "description_tooltip": null,
            "layout": "IPY_MODEL_e4c98791183c494bb5a42b8067f2dfac",
            "max": 102469840,
            "min": 0,
            "orientation": "horizontal",
            "style": "IPY_MODEL_73145b558a904d8c8fb11e17fbf2e685",
            "value": 102469840
          }
        },
        "19afc160ae344c439f3f80b6087146a2": {
          "model_module": "@jupyter-widgets/controls",
          "model_name": "HTMLModel",
          "model_module_version": "1.5.0",
          "state": {
            "_dom_classes": [],
            "_model_module": "@jupyter-widgets/controls",
            "_model_module_version": "1.5.0",
            "_model_name": "HTMLModel",
            "_view_count": null,
            "_view_module": "@jupyter-widgets/controls",
            "_view_module_version": "1.5.0",
            "_view_name": "HTMLView",
            "description": "",
            "description_tooltip": null,
            "layout": "IPY_MODEL_4877a8c0151f4d44869c19a66e99b67f",
            "placeholder": "​",
            "style": "IPY_MODEL_412f9a02a71d4d95b47de9be01d3f45d",
            "value": " 102M/102M [00:01&lt;00:00, 65.4MB/s]"
          }
        },
        "aade2a95f51840c7ba275f5a22c925ef": {
          "model_module": "@jupyter-widgets/base",
          "model_name": "LayoutModel",
          "model_module_version": "1.2.0",
          "state": {
            "_model_module": "@jupyter-widgets/base",
            "_model_module_version": "1.2.0",
            "_model_name": "LayoutModel",
            "_view_count": null,
            "_view_module": "@jupyter-widgets/base",
            "_view_module_version": "1.2.0",
            "_view_name": "LayoutView",
            "align_content": null,
            "align_items": null,
            "align_self": null,
            "border": null,
            "bottom": null,
            "display": null,
            "flex": null,
            "flex_flow": null,
            "grid_area": null,
            "grid_auto_columns": null,
            "grid_auto_flow": null,
            "grid_auto_rows": null,
            "grid_column": null,
            "grid_gap": null,
            "grid_row": null,
            "grid_template_areas": null,
            "grid_template_columns": null,
            "grid_template_rows": null,
            "height": null,
            "justify_content": null,
            "justify_items": null,
            "left": null,
            "margin": null,
            "max_height": null,
            "max_width": null,
            "min_height": null,
            "min_width": null,
            "object_fit": null,
            "object_position": null,
            "order": null,
            "overflow": null,
            "overflow_x": null,
            "overflow_y": null,
            "padding": null,
            "right": null,
            "top": null,
            "visibility": null,
            "width": null
          }
        },
        "cd22f69dacc542df8540e4966101b769": {
          "model_module": "@jupyter-widgets/base",
          "model_name": "LayoutModel",
          "model_module_version": "1.2.0",
          "state": {
            "_model_module": "@jupyter-widgets/base",
            "_model_module_version": "1.2.0",
            "_model_name": "LayoutModel",
            "_view_count": null,
            "_view_module": "@jupyter-widgets/base",
            "_view_module_version": "1.2.0",
            "_view_name": "LayoutView",
            "align_content": null,
            "align_items": null,
            "align_self": null,
            "border": null,
            "bottom": null,
            "display": null,
            "flex": null,
            "flex_flow": null,
            "grid_area": null,
            "grid_auto_columns": null,
            "grid_auto_flow": null,
            "grid_auto_rows": null,
            "grid_column": null,
            "grid_gap": null,
            "grid_row": null,
            "grid_template_areas": null,
            "grid_template_columns": null,
            "grid_template_rows": null,
            "height": null,
            "justify_content": null,
            "justify_items": null,
            "left": null,
            "margin": null,
            "max_height": null,
            "max_width": null,
            "min_height": null,
            "min_width": null,
            "object_fit": null,
            "object_position": null,
            "order": null,
            "overflow": null,
            "overflow_x": null,
            "overflow_y": null,
            "padding": null,
            "right": null,
            "top": null,
            "visibility": null,
            "width": null
          }
        },
        "04f7c6e6900146edabb404295e640dad": {
          "model_module": "@jupyter-widgets/controls",
          "model_name": "DescriptionStyleModel",
          "model_module_version": "1.5.0",
          "state": {
            "_model_module": "@jupyter-widgets/controls",
            "_model_module_version": "1.5.0",
            "_model_name": "DescriptionStyleModel",
            "_view_count": null,
            "_view_module": "@jupyter-widgets/base",
            "_view_module_version": "1.2.0",
            "_view_name": "StyleView",
            "description_width": ""
          }
        },
        "e4c98791183c494bb5a42b8067f2dfac": {
          "model_module": "@jupyter-widgets/base",
          "model_name": "LayoutModel",
          "model_module_version": "1.2.0",
          "state": {
            "_model_module": "@jupyter-widgets/base",
            "_model_module_version": "1.2.0",
            "_model_name": "LayoutModel",
            "_view_count": null,
            "_view_module": "@jupyter-widgets/base",
            "_view_module_version": "1.2.0",
            "_view_name": "LayoutView",
            "align_content": null,
            "align_items": null,
            "align_self": null,
            "border": null,
            "bottom": null,
            "display": null,
            "flex": null,
            "flex_flow": null,
            "grid_area": null,
            "grid_auto_columns": null,
            "grid_auto_flow": null,
            "grid_auto_rows": null,
            "grid_column": null,
            "grid_gap": null,
            "grid_row": null,
            "grid_template_areas": null,
            "grid_template_columns": null,
            "grid_template_rows": null,
            "height": null,
            "justify_content": null,
            "justify_items": null,
            "left": null,
            "margin": null,
            "max_height": null,
            "max_width": null,
            "min_height": null,
            "min_width": null,
            "object_fit": null,
            "object_position": null,
            "order": null,
            "overflow": null,
            "overflow_x": null,
            "overflow_y": null,
            "padding": null,
            "right": null,
            "top": null,
            "visibility": null,
            "width": null
          }
        },
        "73145b558a904d8c8fb11e17fbf2e685": {
          "model_module": "@jupyter-widgets/controls",
          "model_name": "ProgressStyleModel",
          "model_module_version": "1.5.0",
          "state": {
            "_model_module": "@jupyter-widgets/controls",
            "_model_module_version": "1.5.0",
            "_model_name": "ProgressStyleModel",
            "_view_count": null,
            "_view_module": "@jupyter-widgets/base",
            "_view_module_version": "1.2.0",
            "_view_name": "StyleView",
            "bar_color": null,
            "description_width": ""
          }
        },
        "4877a8c0151f4d44869c19a66e99b67f": {
          "model_module": "@jupyter-widgets/base",
          "model_name": "LayoutModel",
          "model_module_version": "1.2.0",
          "state": {
            "_model_module": "@jupyter-widgets/base",
            "_model_module_version": "1.2.0",
            "_model_name": "LayoutModel",
            "_view_count": null,
            "_view_module": "@jupyter-widgets/base",
            "_view_module_version": "1.2.0",
            "_view_name": "LayoutView",
            "align_content": null,
            "align_items": null,
            "align_self": null,
            "border": null,
            "bottom": null,
            "display": null,
            "flex": null,
            "flex_flow": null,
            "grid_area": null,
            "grid_auto_columns": null,
            "grid_auto_flow": null,
            "grid_auto_rows": null,
            "grid_column": null,
            "grid_gap": null,
            "grid_row": null,
            "grid_template_areas": null,
            "grid_template_columns": null,
            "grid_template_rows": null,
            "height": null,
            "justify_content": null,
            "justify_items": null,
            "left": null,
            "margin": null,
            "max_height": null,
            "max_width": null,
            "min_height": null,
            "min_width": null,
            "object_fit": null,
            "object_position": null,
            "order": null,
            "overflow": null,
            "overflow_x": null,
            "overflow_y": null,
            "padding": null,
            "right": null,
            "top": null,
            "visibility": null,
            "width": null
          }
        },
        "412f9a02a71d4d95b47de9be01d3f45d": {
          "model_module": "@jupyter-widgets/controls",
          "model_name": "DescriptionStyleModel",
          "model_module_version": "1.5.0",
          "state": {
            "_model_module": "@jupyter-widgets/controls",
            "_model_module_version": "1.5.0",
            "_model_name": "DescriptionStyleModel",
            "_view_count": null,
            "_view_module": "@jupyter-widgets/base",
            "_view_module_version": "1.2.0",
            "_view_name": "StyleView",
            "description_width": ""
          }
        }
      }
    }
  },
  "cells": [
    {
      "cell_type": "code",
      "source": [
        "!pip install timm"
      ],
      "metadata": {
        "colab": {
          "base_uri": "https://localhost:8080/"
        },
        "id": "2zVhj9OAw98D",
        "outputId": "2ef5c794-2eec-40b3-b5a2-97a44e7638b0"
      },
      "execution_count": 22,
      "outputs": [
        {
          "output_type": "stream",
          "name": "stdout",
          "text": [
            "Collecting timm\n",
            "  Downloading timm-0.9.16-py3-none-any.whl (2.2 MB)\n",
            "\u001b[2K     \u001b[90m━━━━━━━━━━━━━━━━━━━━━━━━━━━━━━━━━━━━━━━━\u001b[0m \u001b[32m2.2/2.2 MB\u001b[0m \u001b[31m10.7 MB/s\u001b[0m eta \u001b[36m0:00:00\u001b[0m\n",
            "\u001b[?25hRequirement already satisfied: torch in /usr/local/lib/python3.10/dist-packages (from timm) (2.1.0+cu121)\n",
            "Requirement already satisfied: torchvision in /usr/local/lib/python3.10/dist-packages (from timm) (0.16.0+cu121)\n",
            "Requirement already satisfied: pyyaml in /usr/local/lib/python3.10/dist-packages (from timm) (6.0.1)\n",
            "Requirement already satisfied: huggingface_hub in /usr/local/lib/python3.10/dist-packages (from timm) (0.20.3)\n",
            "Requirement already satisfied: safetensors in /usr/local/lib/python3.10/dist-packages (from timm) (0.4.2)\n",
            "Requirement already satisfied: filelock in /usr/local/lib/python3.10/dist-packages (from huggingface_hub->timm) (3.13.1)\n",
            "Requirement already satisfied: fsspec>=2023.5.0 in /usr/local/lib/python3.10/dist-packages (from huggingface_hub->timm) (2023.6.0)\n",
            "Requirement already satisfied: requests in /usr/local/lib/python3.10/dist-packages (from huggingface_hub->timm) (2.31.0)\n",
            "Requirement already satisfied: tqdm>=4.42.1 in /usr/local/lib/python3.10/dist-packages (from huggingface_hub->timm) (4.66.2)\n",
            "Requirement already satisfied: typing-extensions>=3.7.4.3 in /usr/local/lib/python3.10/dist-packages (from huggingface_hub->timm) (4.10.0)\n",
            "Requirement already satisfied: packaging>=20.9 in /usr/local/lib/python3.10/dist-packages (from huggingface_hub->timm) (23.2)\n",
            "Requirement already satisfied: sympy in /usr/local/lib/python3.10/dist-packages (from torch->timm) (1.12)\n",
            "Requirement already satisfied: networkx in /usr/local/lib/python3.10/dist-packages (from torch->timm) (3.2.1)\n",
            "Requirement already satisfied: jinja2 in /usr/local/lib/python3.10/dist-packages (from torch->timm) (3.1.3)\n",
            "Requirement already satisfied: triton==2.1.0 in /usr/local/lib/python3.10/dist-packages (from torch->timm) (2.1.0)\n",
            "Requirement already satisfied: numpy in /usr/local/lib/python3.10/dist-packages (from torchvision->timm) (1.25.2)\n",
            "Requirement already satisfied: pillow!=8.3.*,>=5.3.0 in /usr/local/lib/python3.10/dist-packages (from torchvision->timm) (9.4.0)\n",
            "Requirement already satisfied: MarkupSafe>=2.0 in /usr/local/lib/python3.10/dist-packages (from jinja2->torch->timm) (2.1.5)\n",
            "Requirement already satisfied: charset-normalizer<4,>=2 in /usr/local/lib/python3.10/dist-packages (from requests->huggingface_hub->timm) (3.3.2)\n",
            "Requirement already satisfied: idna<4,>=2.5 in /usr/local/lib/python3.10/dist-packages (from requests->huggingface_hub->timm) (3.6)\n",
            "Requirement already satisfied: urllib3<3,>=1.21.1 in /usr/local/lib/python3.10/dist-packages (from requests->huggingface_hub->timm) (2.0.7)\n",
            "Requirement already satisfied: certifi>=2017.4.17 in /usr/local/lib/python3.10/dist-packages (from requests->huggingface_hub->timm) (2024.2.2)\n",
            "Requirement already satisfied: mpmath>=0.19 in /usr/local/lib/python3.10/dist-packages (from sympy->torch->timm) (1.3.0)\n",
            "Installing collected packages: timm\n",
            "Successfully installed timm-0.9.16\n"
          ]
        }
      ]
    },
    {
      "cell_type": "markdown",
      "source": [
        "An AutoClass automatically infers the model architecture and downloads pretrained configuration and weights. Generally, we recommend using an AutoClass to produce checkpoint-agnostic code. But users who want more control over specific model parameters can create a custom 🤗 Transformers model from just a few base classes. This could be particularly useful for anyone who is interested in studying, training or experimenting with a 🤗 Transformers model. In this guide, dive deeper into creating a custom model without an AutoClass. Learn how to:\n",
        "\n",
        "Load and customize a model configuration.\n",
        "Create a model architecture.\n",
        "Create a slow and fast tokenizer for text.\n",
        "Create an image processor for vision tasks.\n",
        "Create a feature extractor for audio tasks.\n",
        "Create a processor for multimodal tasks.\n",
        "\n",
        "Configuration\n",
        "\n",
        "A configuration refers to a model’s specific attributes. Each model configuration has different attributes; for instance, all NLP models have the hidden_size, num_attention_heads, num_hidden_layers and vocab_size attributes in common. These attributes specify the number of attention heads or hidden layers to construct a model with.\n",
        "\n",
        "Get a closer look at DistilBERT by accessing DistilBertConfig to inspect it’s attributes:\n",
        "\n"
      ],
      "metadata": {
        "id": "fs6WQxzNXWV9"
      }
    },
    {
      "cell_type": "code",
      "execution_count": 1,
      "metadata": {
        "colab": {
          "base_uri": "https://localhost:8080/"
        },
        "id": "NhP1mDg3Wyki",
        "outputId": "8ca6304a-36ee-4609-9360-83a42e43a8ff"
      },
      "outputs": [
        {
          "output_type": "stream",
          "name": "stdout",
          "text": [
            "DistilBertConfig {\n",
            "  \"activation\": \"gelu\",\n",
            "  \"attention_dropout\": 0.1,\n",
            "  \"dim\": 768,\n",
            "  \"dropout\": 0.1,\n",
            "  \"hidden_dim\": 3072,\n",
            "  \"initializer_range\": 0.02,\n",
            "  \"max_position_embeddings\": 512,\n",
            "  \"model_type\": \"distilbert\",\n",
            "  \"n_heads\": 12,\n",
            "  \"n_layers\": 6,\n",
            "  \"pad_token_id\": 0,\n",
            "  \"qa_dropout\": 0.1,\n",
            "  \"seq_classif_dropout\": 0.2,\n",
            "  \"sinusoidal_pos_embds\": false,\n",
            "  \"transformers_version\": \"4.38.1\",\n",
            "  \"vocab_size\": 30522\n",
            "}\n",
            "\n"
          ]
        }
      ],
      "source": [
        "from transformers import DistilBertConfig\n",
        "\n",
        "config = DistilBertConfig()\n",
        "print(config)"
      ]
    },
    {
      "cell_type": "markdown",
      "source": [
        "DistilBertConfig displays all the default attributes used to build a base DistilBertModel. All attributes are customizable, creating space for experimentation. For example, you can customize a default model to:\n",
        "\n",
        "Try a different activation function with the activation parameter.\n",
        "Use a higher dropout ratio for the attention probabilities with the attention_dropout parameter."
      ],
      "metadata": {
        "id": "MflFvJHWdxnF"
      }
    },
    {
      "cell_type": "code",
      "source": [
        "my_config = DistilBertConfig(activation=\"relu\", attention_dropout=0.4)\n",
        "print(my_config)"
      ],
      "metadata": {
        "colab": {
          "base_uri": "https://localhost:8080/"
        },
        "id": "nzeEhKwQd0GE",
        "outputId": "f8d3962d-0276-461c-e590-8139b76f3c5c"
      },
      "execution_count": 2,
      "outputs": [
        {
          "output_type": "stream",
          "name": "stdout",
          "text": [
            "DistilBertConfig {\n",
            "  \"activation\": \"relu\",\n",
            "  \"attention_dropout\": 0.4,\n",
            "  \"dim\": 768,\n",
            "  \"dropout\": 0.1,\n",
            "  \"hidden_dim\": 3072,\n",
            "  \"initializer_range\": 0.02,\n",
            "  \"max_position_embeddings\": 512,\n",
            "  \"model_type\": \"distilbert\",\n",
            "  \"n_heads\": 12,\n",
            "  \"n_layers\": 6,\n",
            "  \"pad_token_id\": 0,\n",
            "  \"qa_dropout\": 0.1,\n",
            "  \"seq_classif_dropout\": 0.2,\n",
            "  \"sinusoidal_pos_embds\": false,\n",
            "  \"transformers_version\": \"4.38.1\",\n",
            "  \"vocab_size\": 30522\n",
            "}\n",
            "\n"
          ]
        }
      ]
    },
    {
      "cell_type": "markdown",
      "source": [
        "Pretrained model attributes can be modified in the from_pretrained() function:"
      ],
      "metadata": {
        "id": "0FFb0aFCd6bp"
      }
    },
    {
      "cell_type": "code",
      "source": [
        "my_config = DistilBertConfig.from_pretrained(\"distilbert/distilbert-base-uncased\", activation=\"relu\", attention_dropout=0.4)"
      ],
      "metadata": {
        "colab": {
          "base_uri": "https://localhost:8080/",
          "height": 175,
          "referenced_widgets": [
            "feefc2b489b94d5ca0419d52aa4b6c05",
            "b2612d20409d42d5918a45dbfe01b8b4",
            "d129cc54d73e49fdad58c3e448e84953",
            "25176280fa3a40108d9b012f0f27035c",
            "0bb59f1060494ffbb5737e13b3f50bd1",
            "c914a90c63c54e0d8841af814a6a2b1d",
            "3912913ad56949639cc0a340eb8813b6",
            "bda680440a36435492dcfef5825c8b1c",
            "2469070076384ecd821b31f90f07e188",
            "b8fcd264972d4593b5aa50d0ae76a837",
            "1e68b5f585624913b69b78654b8bf9e1"
          ]
        },
        "id": "0RqjEktGd74f",
        "outputId": "8dda6db3-043c-46f8-a820-9c3474198daf"
      },
      "execution_count": 3,
      "outputs": [
        {
          "output_type": "stream",
          "name": "stderr",
          "text": [
            "/usr/local/lib/python3.10/dist-packages/huggingface_hub/utils/_token.py:88: UserWarning: \n",
            "The secret `HF_TOKEN` does not exist in your Colab secrets.\n",
            "To authenticate with the Hugging Face Hub, create a token in your settings tab (https://huggingface.co/settings/tokens), set it as secret in your Google Colab and restart your session.\n",
            "You will be able to reuse this secret in all of your notebooks.\n",
            "Please note that authentication is recommended but still optional to access public models or datasets.\n",
            "  warnings.warn(\n"
          ]
        },
        {
          "output_type": "display_data",
          "data": {
            "text/plain": [
              "config.json:   0%|          | 0.00/483 [00:00<?, ?B/s]"
            ],
            "application/vnd.jupyter.widget-view+json": {
              "version_major": 2,
              "version_minor": 0,
              "model_id": "feefc2b489b94d5ca0419d52aa4b6c05"
            }
          },
          "metadata": {}
        }
      ]
    },
    {
      "cell_type": "markdown",
      "source": [
        "Once you are satisfied with your model configuration, you can save it with save_pretrained(). Your configuration file is stored as a JSON file in the specified save directory:"
      ],
      "metadata": {
        "id": "M3m4sFhPd_md"
      }
    },
    {
      "cell_type": "code",
      "source": [
        "my_config.save_pretrained(save_directory=\"./your_model_save_path\")"
      ],
      "metadata": {
        "id": "Lwa9f-uEeDRA"
      },
      "execution_count": 4,
      "outputs": []
    },
    {
      "cell_type": "markdown",
      "source": [
        "To reuse the configuration file, load it with from_pretrained():"
      ],
      "metadata": {
        "id": "dWJjePrcePmE"
      }
    },
    {
      "cell_type": "code",
      "source": [
        "my_config = DistilBertConfig.from_pretrained(\"./your_model_save_path/config.json\")"
      ],
      "metadata": {
        "id": "n6mHkh9oef6M"
      },
      "execution_count": 5,
      "outputs": []
    },
    {
      "cell_type": "markdown",
      "source": [
        "You can also save your configuration file as a dictionary or even just the difference between your custom configuration attributes and the default configuration attributes! See the configuration documentation for more details.\n",
        "Model\n",
        "\n",
        "The next step is to create a model. The model - also loosely referred to as the architecture - defines what each layer is doing and what operations are happening. Attributes like num_hidden_layers from the configuration are used to define the architecture. Every model shares the base class PreTrainedModel and a few common methods like resizing input embeddings and pruning self-attention heads. In addition, all models are also either a torch.nn.Module, tf.keras.Model or flax.linen.Module subclass. This means models are compatible with each of their respective framework’s usage."
      ],
      "metadata": {
        "id": "JOmNE7HCeruc"
      }
    },
    {
      "cell_type": "markdown",
      "source": [
        "Pytorch\n",
        "Hide Pytorch content\n",
        "\n",
        "Load your custom configuration attributes into the model:"
      ],
      "metadata": {
        "id": "DPn1cijyet5u"
      }
    },
    {
      "cell_type": "code",
      "source": [
        "from transformers import DistilBertModel\n",
        "\n",
        "my_config = DistilBertConfig.from_pretrained(\"./your_model_save_path/config.json\")\n",
        "model = DistilBertModel(my_config)"
      ],
      "metadata": {
        "id": "Wr8lHHSMesTh"
      },
      "execution_count": 6,
      "outputs": []
    },
    {
      "cell_type": "markdown",
      "source": [
        "This creates a model with random values instead of pretrained weights. You won’t be able to use this model for anything useful yet until you train it. Training is a costly and time-consuming process. It is generally better to use a pretrained model to obtain better results faster, while using only a fraction of the resources required for training.\n",
        "\n",
        "Create a pretrained model with from_pretrained():"
      ],
      "metadata": {
        "id": "CW7Xi2xPe0SM"
      }
    },
    {
      "cell_type": "code",
      "source": [
        "model = DistilBertModel.from_pretrained(\"distilbert/distilbert-base-uncased\")"
      ],
      "metadata": {
        "colab": {
          "base_uri": "https://localhost:8080/",
          "height": 77,
          "referenced_widgets": [
            "7a28e423b6be472e85136b1450650b1a",
            "a44dfc0543b84d17a7d72f4fb59fcb69",
            "3c13e05a037a4e7fbc764d21113ae4b6",
            "3704df32142343f4afe7e84e8afac3ed",
            "26bd84ea9e5b45e283ad622a0c2bc7de",
            "eca377ae280b4dc784e6e5bb8a2c1038",
            "6689ff4eb8cd4b09b617bb27473282e5",
            "29483ea235814008bdac05d32c6f46f9",
            "50cec522e7a943cea1fd3fee01720e18",
            "dc65b5e44d074f1f89a104d3294dda3e",
            "35aa162c21f9491f977ed1b971d95756"
          ]
        },
        "id": "aGtHiC7ke1jQ",
        "outputId": "5fb49492-2dc3-4e2d-eefc-680759cf34fd"
      },
      "execution_count": 7,
      "outputs": [
        {
          "output_type": "display_data",
          "data": {
            "text/plain": [
              "model.safetensors:   0%|          | 0.00/268M [00:00<?, ?B/s]"
            ],
            "application/vnd.jupyter.widget-view+json": {
              "version_major": 2,
              "version_minor": 0,
              "model_id": "7a28e423b6be472e85136b1450650b1a"
            }
          },
          "metadata": {}
        }
      ]
    },
    {
      "cell_type": "markdown",
      "source": [
        "When you load pretrained weights, the default model configuration is automatically loaded if the model is provided by 🤗 Transformers. However, you can still replace - some or all of - the default model configuration attributes with your own if you’d like:"
      ],
      "metadata": {
        "id": "a3hkrSxMe_0U"
      }
    },
    {
      "cell_type": "code",
      "source": [
        "model = DistilBertModel.from_pretrained(\"distilbert/distilbert-base-uncased\", config=my_config)"
      ],
      "metadata": {
        "id": "Xqw2CNxffCet"
      },
      "execution_count": 8,
      "outputs": []
    },
    {
      "cell_type": "markdown",
      "source": [
        " Model heads\n",
        "\n",
        "At this point, you have a base DistilBERT model which outputs the hidden states. The hidden states are passed as inputs to a model head to produce the final output. 🤗 Transformers provides a different model head for each task as long as a model supports the task (i.e., you can’t use DistilBERT for a sequence-to-sequence task like translation)."
      ],
      "metadata": {
        "id": "fTFzLONpfe_U"
      }
    },
    {
      "cell_type": "markdown",
      "source": [
        "Pytorch\n",
        "Hide Pytorch content\n",
        "\n",
        "For example, DistilBertForSequenceClassification is a base DistilBERT model with a sequence classification head. The sequence classification head is a linear layer on top of the pooled outputs."
      ],
      "metadata": {
        "id": "cFBEGoyDisHF"
      }
    },
    {
      "cell_type": "code",
      "source": [
        "from transformers import DistilBertForSequenceClassification\n",
        "\n",
        "model = DistilBertForSequenceClassification.from_pretrained(\"distilbert/distilbert-base-uncased\")"
      ],
      "metadata": {
        "colab": {
          "base_uri": "https://localhost:8080/"
        },
        "id": "rTqmx8yPitXa",
        "outputId": "a0023a48-8f1d-41dc-881b-e9cd139a2348"
      },
      "execution_count": 9,
      "outputs": [
        {
          "output_type": "stream",
          "name": "stderr",
          "text": [
            "Some weights of DistilBertForSequenceClassification were not initialized from the model checkpoint at distilbert/distilbert-base-uncased and are newly initialized: ['classifier.bias', 'classifier.weight', 'pre_classifier.bias', 'pre_classifier.weight']\n",
            "You should probably TRAIN this model on a down-stream task to be able to use it for predictions and inference.\n"
          ]
        }
      ]
    },
    {
      "cell_type": "markdown",
      "source": [
        "Easily reuse this checkpoint for another task by switching to a different model head. For a question answering task, you would use the DistilBertForQuestionAnswering model head. The question answering head is similar to the sequence classification head except it is a linear layer on top of the hidden states output."
      ],
      "metadata": {
        "id": "RG7GmEPxi8nd"
      }
    },
    {
      "cell_type": "code",
      "source": [
        "from transformers import DistilBertForQuestionAnswering\n",
        "\n",
        "model = DistilBertForQuestionAnswering.from_pretrained(\"distilbert/distilbert-base-uncased\")"
      ],
      "metadata": {
        "colab": {
          "base_uri": "https://localhost:8080/"
        },
        "id": "7Ra2KpBRjC5N",
        "outputId": "780d8a6c-a7e3-4f1b-9067-67d178ef8131"
      },
      "execution_count": 10,
      "outputs": [
        {
          "output_type": "stream",
          "name": "stderr",
          "text": [
            "Some weights of DistilBertForQuestionAnswering were not initialized from the model checkpoint at distilbert/distilbert-base-uncased and are newly initialized: ['qa_outputs.bias', 'qa_outputs.weight']\n",
            "You should probably TRAIN this model on a down-stream task to be able to use it for predictions and inference.\n"
          ]
        }
      ]
    },
    {
      "cell_type": "markdown",
      "source": [
        "Tokenizer\n",
        "\n",
        "The last base class you need before using a model for textual data is a tokenizer to convert raw text to tensors. There are two types of tokenizers you can use with 🤗 Transformers:\n",
        "\n",
        "PreTrainedTokenizer: a Python implementation of a tokenizer.\n",
        "PreTrainedTokenizerFast: a tokenizer from our Rust-based 🤗 Tokenizer library. This tokenizer type is significantly faster - especially during batch tokenization - due to its Rust implementation. The fast tokenizer also offers additional methods like offset mapping which maps tokens to their original words or characters.\n",
        "\n",
        "Both tokenizers support common methods such as encoding and decoding, adding new tokens, and managing special tokens.\n",
        "\n",
        "Not every model supports a fast tokenizer. Take a look at this table to check if a model has fast tokenizer support.\n",
        "\n",
        "If you trained your own tokenizer, you can create one from your vocabulary file:"
      ],
      "metadata": {
        "id": "V1h9OYghjbgX"
      }
    },
    {
      "cell_type": "code",
      "source": [
        "from transformers import DistilBertTokenizer\n",
        "\n",
        "my_tokenizer = DistilBertTokenizer(vocab_file=\"/content/drive/MyDrive/tweets_ase.txt\", do_lower_case=False, padding_side=\"left\")"
      ],
      "metadata": {
        "id": "D9A8h96fjek3"
      },
      "execution_count": 12,
      "outputs": []
    },
    {
      "cell_type": "markdown",
      "source": [
        "It is important to remember the vocabulary from a custom tokenizer will be different from the vocabulary generated by a pretrained model’s tokenizer. You need to use a pretrained model’s vocabulary if you are using a pretrained model, otherwise the inputs won’t make sense. Create a tokenizer with a pretrained model’s vocabulary with the DistilBertTokenizer class:"
      ],
      "metadata": {
        "id": "rxIv2O2cjg3X"
      }
    },
    {
      "cell_type": "code",
      "source": [
        "from transformers import DistilBertTokenizer\n",
        "\n",
        "slow_tokenizer = DistilBertTokenizer.from_pretrained(\"distilbert/distilbert-base-uncased\")"
      ],
      "metadata": {
        "colab": {
          "base_uri": "https://localhost:8080/",
          "height": 197,
          "referenced_widgets": [
            "e3e0ac2968004a34a0bc0f81a40c84a9",
            "0246b13f7add42b58999ab74f9af073e",
            "4e6c05425293418087c4fddb342eb349",
            "231a480426c64c7cb31b5577b569f0a7",
            "480518c86c3b4fd7b3d1798d62f424d2",
            "5174f11bd6eb48d3979e7df52169b87e",
            "2bc85d85dae04f1ab8bc48cd138cdadf",
            "f9bce6a1fb7d46a79b70f90801a1e6ed",
            "9559ef0151084e62a70e2697013c225d",
            "41d033411f2e485aa5d8bfb368b782ff",
            "04cdad299bed434f9273d4b84acf2db2",
            "3a5d5830e7c3414ca20511e88ea510b5",
            "e50e6e1867ad46e483b26aebba45e911",
            "1cd486fb483c423eb4299ba43ba0852a",
            "5d92375bc30947038e4e5768341cb3b1",
            "924ddce68fc44bd48f5873a12b5d571f",
            "d1b95d191b4f4f6badf187c1903d943b",
            "fd875d46185b4d21906794e7cf995ac4",
            "a0a18502e1824020a0d69c9d99a5b221",
            "ec8feab997114ecabe488f0f9240fb49",
            "e6607fa8278c4d918601ef81e76c5933",
            "3d619abea41844a0862c3818db000b62",
            "63016b3b65844f8ab8437d85ca656494",
            "53cbb0dff1a5468dafeb52ee2eb8dcec",
            "1caeff124dea413d8ff6a29e62c8012e",
            "b4b0ca8c4c244ac883391d228c6c9c41",
            "f97c6682356b40708b2cea3005d5c230",
            "44428a00043d40e09edf752a041b0989",
            "8cf10c00beef4038ba2425d02aeeb11b",
            "4466f9d298574b659a8bd97fbcad73eb",
            "29dc3f1aa4d14688af4473c3e527df3c",
            "431a99e93e684a51b9a7332b4fd30907",
            "7c589f2922064389af5ce01f9a15ef93"
          ]
        },
        "id": "kcZlRS6cnmkY",
        "outputId": "7561dae5-80cd-4d03-f013-e0de021a75ff"
      },
      "execution_count": 13,
      "outputs": [
        {
          "output_type": "display_data",
          "data": {
            "text/plain": [
              "tokenizer_config.json:   0%|          | 0.00/28.0 [00:00<?, ?B/s]"
            ],
            "application/vnd.jupyter.widget-view+json": {
              "version_major": 2,
              "version_minor": 0,
              "model_id": "e3e0ac2968004a34a0bc0f81a40c84a9"
            }
          },
          "metadata": {}
        },
        {
          "output_type": "display_data",
          "data": {
            "text/plain": [
              "vocab.txt:   0%|          | 0.00/232k [00:00<?, ?B/s]"
            ],
            "application/vnd.jupyter.widget-view+json": {
              "version_major": 2,
              "version_minor": 0,
              "model_id": "3a5d5830e7c3414ca20511e88ea510b5"
            }
          },
          "metadata": {}
        },
        {
          "output_type": "display_data",
          "data": {
            "text/plain": [
              "tokenizer.json:   0%|          | 0.00/466k [00:00<?, ?B/s]"
            ],
            "application/vnd.jupyter.widget-view+json": {
              "version_major": 2,
              "version_minor": 0,
              "model_id": "63016b3b65844f8ab8437d85ca656494"
            }
          },
          "metadata": {}
        }
      ]
    },
    {
      "cell_type": "markdown",
      "source": [
        "Create a fast tokenizer with the DistilBertTokenizerFast class:"
      ],
      "metadata": {
        "id": "1TmmYmKGno4h"
      }
    },
    {
      "cell_type": "code",
      "source": [
        "from transformers import DistilBertTokenizerFast\n",
        "\n",
        "fast_tokenizer = DistilBertTokenizerFast.from_pretrained(\"distilbert/distilbert-base-uncased\")"
      ],
      "metadata": {
        "id": "4YNRhPlbnp4Z"
      },
      "execution_count": 14,
      "outputs": []
    },
    {
      "cell_type": "markdown",
      "source": [
        "By default, AutoTokenizer will try to load a fast tokenizer. You can disable this behavior by setting use_fast=False in from_pretrained.\n",
        "Image processor\n",
        "\n",
        "An image processor processes vision inputs. It inherits from the base ImageProcessingMixin class.\n",
        "\n",
        "To use, create an image processor associated with the model you’re using. For example, create a default ViTImageProcessor if you are using ViT for image classification:"
      ],
      "metadata": {
        "id": "NhqXvtrvntj_"
      }
    },
    {
      "cell_type": "code",
      "source": [
        "from transformers import ViTImageProcessor\n",
        "\n",
        "vit_extractor = ViTImageProcessor()\n",
        "print(vit_extractor)"
      ],
      "metadata": {
        "colab": {
          "base_uri": "https://localhost:8080/"
        },
        "id": "0YfqSD2HsJXL",
        "outputId": "c8cfd39e-7cf1-484d-e89e-8c03d0d663fb"
      },
      "execution_count": 15,
      "outputs": [
        {
          "output_type": "stream",
          "name": "stdout",
          "text": [
            "ViTImageProcessor {\n",
            "  \"do_normalize\": true,\n",
            "  \"do_rescale\": true,\n",
            "  \"do_resize\": true,\n",
            "  \"image_mean\": [\n",
            "    0.5,\n",
            "    0.5,\n",
            "    0.5\n",
            "  ],\n",
            "  \"image_processor_type\": \"ViTImageProcessor\",\n",
            "  \"image_std\": [\n",
            "    0.5,\n",
            "    0.5,\n",
            "    0.5\n",
            "  ],\n",
            "  \"resample\": 2,\n",
            "  \"rescale_factor\": 0.00392156862745098,\n",
            "  \"size\": {\n",
            "    \"height\": 224,\n",
            "    \"width\": 224\n",
            "  }\n",
            "}\n",
            "\n"
          ]
        }
      ]
    },
    {
      "cell_type": "markdown",
      "source": [
        "If you aren’t looking for any customization, just use the from_pretrained method to load a model’s default image processor parameters.\n",
        "\n",
        "Modify any of the ViTImageProcessor parameters to create your custom image processor:"
      ],
      "metadata": {
        "id": "KosNdXqXsMZW"
      }
    },
    {
      "cell_type": "code",
      "source": [
        "from transformers import ViTImageProcessor\n",
        "\n",
        "my_vit_extractor = ViTImageProcessor(resample=\"PIL.Image.BOX\", do_normalize=False, image_mean=[0.3, 0.3, 0.3])\n",
        "print(my_vit_extractor)"
      ],
      "metadata": {
        "colab": {
          "base_uri": "https://localhost:8080/"
        },
        "id": "tpuC_tQxsNpY",
        "outputId": "ae7c17b7-786a-4c5c-948c-0d747853f345"
      },
      "execution_count": 16,
      "outputs": [
        {
          "output_type": "stream",
          "name": "stdout",
          "text": [
            "ViTImageProcessor {\n",
            "  \"do_normalize\": false,\n",
            "  \"do_rescale\": true,\n",
            "  \"do_resize\": true,\n",
            "  \"image_mean\": [\n",
            "    0.3,\n",
            "    0.3,\n",
            "    0.3\n",
            "  ],\n",
            "  \"image_processor_type\": \"ViTImageProcessor\",\n",
            "  \"image_std\": [\n",
            "    0.5,\n",
            "    0.5,\n",
            "    0.5\n",
            "  ],\n",
            "  \"resample\": \"PIL.Image.BOX\",\n",
            "  \"rescale_factor\": 0.00392156862745098,\n",
            "  \"size\": {\n",
            "    \"height\": 224,\n",
            "    \"width\": 224\n",
            "  }\n",
            "}\n",
            "\n"
          ]
        }
      ]
    },
    {
      "cell_type": "markdown",
      "source": [
        "![image.png](data:image/png;base64,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)"
      ],
      "metadata": {
        "id": "ek12J9A7tq1S"
      }
    },
    {
      "cell_type": "markdown",
      "source": [
        "Computer vision models consist of a backbone, neck, and head. The backbone extracts features from an input image, the neck combines and enhances the extracted features, and the head is used for the main task (e.g., object detection). Start by initializing a backbone in the model config and specify whether you want to load pretrained weights or load randomly initialized weights. Then you can pass the model config to the model head.\n",
        "\n",
        "For example, to load a ResNet backbone into a MaskFormer model with an instance segmentation head:"
      ],
      "metadata": {
        "id": "HKrnk0cPtx4Q"
      }
    },
    {
      "cell_type": "markdown",
      "source": [
        "Set use_pretrained_backbone=True to load pretrained ResNet weights for the backbone."
      ],
      "metadata": {
        "id": "o60TMdIOtzjL"
      }
    },
    {
      "cell_type": "code",
      "source": [
        "from transformers import MaskFormerConfig, MaskFormerForInstanceSegmentation, ResNetConfig\n",
        "\n",
        "backbone_config = ResNetConfig.from_pretrained(\"microsoft/resnet-50\")\n",
        "config = MaskFormerConfig(backbone_config=backbone_config)\n",
        "model = MaskFormerForInstanceSegmentation(config)"
      ],
      "metadata": {
        "colab": {
          "base_uri": "https://localhost:8080/"
        },
        "id": "oxiD-GIqw12f",
        "outputId": "49b9da6b-0ea3-420d-8770-522a9e16dbb7"
      },
      "execution_count": 1,
      "outputs": [
        {
          "output_type": "stream",
          "name": "stderr",
          "text": [
            "/usr/local/lib/python3.10/dist-packages/huggingface_hub/utils/_token.py:88: UserWarning: \n",
            "The secret `HF_TOKEN` does not exist in your Colab secrets.\n",
            "To authenticate with the Hugging Face Hub, create a token in your settings tab (https://huggingface.co/settings/tokens), set it as secret in your Google Colab and restart your session.\n",
            "You will be able to reuse this secret in all of your notebooks.\n",
            "Please note that authentication is recommended but still optional to access public models or datasets.\n",
            "  warnings.warn(\n"
          ]
        }
      ]
    },
    {
      "cell_type": "markdown",
      "source": [
        "timm models are loaded with TimmBackbone and TimmBackboneConfig."
      ],
      "metadata": {
        "id": "aW88G1FNw5Af"
      }
    },
    {
      "cell_type": "code",
      "source": [
        "from transformers import TimmBackboneConfig, TimmBackbone\n",
        "\n",
        "backbone_config = TimmBackboneConfig(\"resnet50\")\n",
        "model = TimmBackbone(config=backbone_config)"
      ],
      "metadata": {
        "colab": {
          "base_uri": "https://localhost:8080/",
          "height": 77,
          "referenced_widgets": [
            "6b480e0b69d9469a85e705934dd6c3c0",
            "9f43c969901948478825d7c6cfb1813c",
            "03e4648502e44f598ff1cd0323ad464d",
            "19afc160ae344c439f3f80b6087146a2",
            "aade2a95f51840c7ba275f5a22c925ef",
            "cd22f69dacc542df8540e4966101b769",
            "04f7c6e6900146edabb404295e640dad",
            "e4c98791183c494bb5a42b8067f2dfac",
            "73145b558a904d8c8fb11e17fbf2e685",
            "4877a8c0151f4d44869c19a66e99b67f",
            "412f9a02a71d4d95b47de9be01d3f45d"
          ]
        },
        "id": "Acn62my2w6GI",
        "outputId": "6931d081-945c-4689-9e0e-f9c605b8cc13"
      },
      "execution_count": 2,
      "outputs": [
        {
          "output_type": "display_data",
          "data": {
            "text/plain": [
              "model.safetensors:   0%|          | 0.00/102M [00:00<?, ?B/s]"
            ],
            "application/vnd.jupyter.widget-view+json": {
              "version_major": 2,
              "version_minor": 0,
              "model_id": "6b480e0b69d9469a85e705934dd6c3c0"
            }
          },
          "metadata": {}
        }
      ]
    },
    {
      "cell_type": "markdown",
      "source": [
        "Feature extractor\n",
        "\n",
        "A feature extractor processes audio inputs. It inherits from the base FeatureExtractionMixin class, and may also inherit from the SequenceFeatureExtractor class for processing audio inputs.\n",
        "\n",
        "To use, create a feature extractor associated with the model you’re using. For example, create a default Wav2Vec2FeatureExtractor if you are using Wav2Vec2 for audio classification:"
      ],
      "metadata": {
        "id": "tsA_TR7YxmBw"
      }
    },
    {
      "cell_type": "code",
      "source": [
        "from transformers import Wav2Vec2FeatureExtractor\n",
        "\n",
        "w2v2_extractor = Wav2Vec2FeatureExtractor()\n",
        "print(w2v2_extractor)"
      ],
      "metadata": {
        "colab": {
          "base_uri": "https://localhost:8080/"
        },
        "id": "Fg7mFkbGxnnQ",
        "outputId": "65a53f6b-d1d3-475d-e01d-1fed4a863c4f"
      },
      "execution_count": 3,
      "outputs": [
        {
          "output_type": "stream",
          "name": "stdout",
          "text": [
            "Wav2Vec2FeatureExtractor {\n",
            "  \"do_normalize\": true,\n",
            "  \"feature_extractor_type\": \"Wav2Vec2FeatureExtractor\",\n",
            "  \"feature_size\": 1,\n",
            "  \"padding_side\": \"right\",\n",
            "  \"padding_value\": 0.0,\n",
            "  \"return_attention_mask\": false,\n",
            "  \"sampling_rate\": 16000\n",
            "}\n",
            "\n"
          ]
        }
      ]
    },
    {
      "cell_type": "markdown",
      "source": [
        "If you aren’t looking for any customization, just use the from_pretrained method to load a model’s default feature extractor parameters.\n",
        "\n",
        "Modify any of the Wav2Vec2FeatureExtractor parameters to create your custom feature extractor:"
      ],
      "metadata": {
        "id": "uGhxwOBlxqTI"
      }
    },
    {
      "cell_type": "code",
      "source": [
        "from transformers import Wav2Vec2FeatureExtractor\n",
        "\n",
        "w2v2_extractor = Wav2Vec2FeatureExtractor(sampling_rate=8000, do_normalize=False)\n",
        "print(w2v2_extractor)"
      ],
      "metadata": {
        "colab": {
          "base_uri": "https://localhost:8080/"
        },
        "id": "MBrDsRorxren",
        "outputId": "c94d0734-bead-4035-c8d8-a95eee792506"
      },
      "execution_count": 4,
      "outputs": [
        {
          "output_type": "stream",
          "name": "stdout",
          "text": [
            "Wav2Vec2FeatureExtractor {\n",
            "  \"do_normalize\": false,\n",
            "  \"feature_extractor_type\": \"Wav2Vec2FeatureExtractor\",\n",
            "  \"feature_size\": 1,\n",
            "  \"padding_side\": \"right\",\n",
            "  \"padding_value\": 0.0,\n",
            "  \"return_attention_mask\": false,\n",
            "  \"sampling_rate\": 8000\n",
            "}\n",
            "\n"
          ]
        }
      ]
    },
    {
      "cell_type": "markdown",
      "source": [
        "Processor\n",
        "\n",
        "For models that support multimodal tasks, 🤗 Transformers offers a processor class that conveniently wraps processing classes such as a feature extractor and a tokenizer into a single object. For example, let’s use the Wav2Vec2Processor for an automatic speech recognition task (ASR). ASR transcribes audio to text, so you will need a feature extractor and a tokenizer.\n",
        "\n",
        "Create a feature extractor to handle the audio inputs:"
      ],
      "metadata": {
        "id": "Y7E8G8vHxuna"
      }
    },
    {
      "cell_type": "code",
      "source": [
        "from transformers import Wav2Vec2FeatureExtractor\n",
        "\n",
        "feature_extractor = Wav2Vec2FeatureExtractor(padding_value=1.0, do_normalize=True)"
      ],
      "metadata": {
        "id": "QDNwClZIxv4N"
      },
      "execution_count": 10,
      "outputs": []
    },
    {
      "cell_type": "markdown",
      "source": [
        "Create a tokenizer to handle the text inputs:"
      ],
      "metadata": {
        "id": "XBCoZvGxxy5P"
      }
    },
    {
      "cell_type": "code",
      "source": [
        "from transformers import Wav2Vec2CTCTokenizer\n",
        "\n",
        "tokenizer = Wav2Vec2CTCTokenizer(vocab_file=\"/content/drive/MyDrive/tweets_ase.txt\")"
      ],
      "metadata": {
        "colab": {
          "base_uri": "https://localhost:8080/",
          "height": 397
        },
        "id": "6JLgQUdXx0DH",
        "outputId": "d3af4035-5e3f-4d7d-cd20-40dda4231999"
      },
      "execution_count": 8,
      "outputs": [
        {
          "output_type": "error",
          "ename": "JSONDecodeError",
          "evalue": "Unexpected UTF-8 BOM (decode using utf-8-sig): line 1 column 1 (char 0)",
          "traceback": [
            "\u001b[0;31m---------------------------------------------------------------------------\u001b[0m",
            "\u001b[0;31mJSONDecodeError\u001b[0m                           Traceback (most recent call last)",
            "\u001b[0;32m<ipython-input-8-746add86468c>\u001b[0m in \u001b[0;36m<cell line: 3>\u001b[0;34m()\u001b[0m\n\u001b[1;32m      1\u001b[0m \u001b[0;32mfrom\u001b[0m \u001b[0mtransformers\u001b[0m \u001b[0;32mimport\u001b[0m \u001b[0mWav2Vec2CTCTokenizer\u001b[0m\u001b[0;34m\u001b[0m\u001b[0;34m\u001b[0m\u001b[0m\n\u001b[1;32m      2\u001b[0m \u001b[0;34m\u001b[0m\u001b[0m\n\u001b[0;32m----> 3\u001b[0;31m \u001b[0mtokenizer\u001b[0m \u001b[0;34m=\u001b[0m \u001b[0mWav2Vec2CTCTokenizer\u001b[0m\u001b[0;34m(\u001b[0m\u001b[0mvocab_file\u001b[0m\u001b[0;34m=\u001b[0m\u001b[0;34m\"/content/drive/MyDrive/tweets_ase.txt\"\u001b[0m\u001b[0;34m)\u001b[0m\u001b[0;34m\u001b[0m\u001b[0;34m\u001b[0m\u001b[0m\n\u001b[0m",
            "\u001b[0;32m/usr/local/lib/python3.10/dist-packages/transformers/models/wav2vec2/tokenization_wav2vec2.py\u001b[0m in \u001b[0;36m__init__\u001b[0;34m(self, vocab_file, bos_token, eos_token, unk_token, pad_token, word_delimiter_token, replace_word_delimiter_char, do_lower_case, target_lang, **kwargs)\u001b[0m\n\u001b[1;32m    182\u001b[0m \u001b[0;34m\u001b[0m\u001b[0m\n\u001b[1;32m    183\u001b[0m         \u001b[0;32mwith\u001b[0m \u001b[0mopen\u001b[0m\u001b[0;34m(\u001b[0m\u001b[0mvocab_file\u001b[0m\u001b[0;34m,\u001b[0m \u001b[0mencoding\u001b[0m\u001b[0;34m=\u001b[0m\u001b[0;34m\"utf-8\"\u001b[0m\u001b[0;34m)\u001b[0m \u001b[0;32mas\u001b[0m \u001b[0mvocab_handle\u001b[0m\u001b[0;34m:\u001b[0m\u001b[0;34m\u001b[0m\u001b[0;34m\u001b[0m\u001b[0m\n\u001b[0;32m--> 184\u001b[0;31m             \u001b[0mself\u001b[0m\u001b[0;34m.\u001b[0m\u001b[0mvocab\u001b[0m \u001b[0;34m=\u001b[0m \u001b[0mjson\u001b[0m\u001b[0;34m.\u001b[0m\u001b[0mload\u001b[0m\u001b[0;34m(\u001b[0m\u001b[0mvocab_handle\u001b[0m\u001b[0;34m)\u001b[0m\u001b[0;34m\u001b[0m\u001b[0;34m\u001b[0m\u001b[0m\n\u001b[0m\u001b[1;32m    185\u001b[0m \u001b[0;34m\u001b[0m\u001b[0m\n\u001b[1;32m    186\u001b[0m         \u001b[0;31m# if target lang is defined vocab must be a nested dict\u001b[0m\u001b[0;34m\u001b[0m\u001b[0;34m\u001b[0m\u001b[0m\n",
            "\u001b[0;32m/usr/lib/python3.10/json/__init__.py\u001b[0m in \u001b[0;36mload\u001b[0;34m(fp, cls, object_hook, parse_float, parse_int, parse_constant, object_pairs_hook, **kw)\u001b[0m\n\u001b[1;32m    291\u001b[0m     \u001b[0mkwarg\u001b[0m\u001b[0;34m;\u001b[0m \u001b[0motherwise\u001b[0m\u001b[0;31m \u001b[0m\u001b[0;31m`\u001b[0m\u001b[0;31m`\u001b[0m\u001b[0mJSONDecoder\u001b[0m\u001b[0;31m`\u001b[0m\u001b[0;31m`\u001b[0m \u001b[0;32mis\u001b[0m \u001b[0mused\u001b[0m\u001b[0;34m.\u001b[0m\u001b[0;34m\u001b[0m\u001b[0;34m\u001b[0m\u001b[0m\n\u001b[1;32m    292\u001b[0m     \"\"\"\n\u001b[0;32m--> 293\u001b[0;31m     return loads(fp.read(),\n\u001b[0m\u001b[1;32m    294\u001b[0m         \u001b[0mcls\u001b[0m\u001b[0;34m=\u001b[0m\u001b[0mcls\u001b[0m\u001b[0;34m,\u001b[0m \u001b[0mobject_hook\u001b[0m\u001b[0;34m=\u001b[0m\u001b[0mobject_hook\u001b[0m\u001b[0;34m,\u001b[0m\u001b[0;34m\u001b[0m\u001b[0;34m\u001b[0m\u001b[0m\n\u001b[1;32m    295\u001b[0m         \u001b[0mparse_float\u001b[0m\u001b[0;34m=\u001b[0m\u001b[0mparse_float\u001b[0m\u001b[0;34m,\u001b[0m \u001b[0mparse_int\u001b[0m\u001b[0;34m=\u001b[0m\u001b[0mparse_int\u001b[0m\u001b[0;34m,\u001b[0m\u001b[0;34m\u001b[0m\u001b[0;34m\u001b[0m\u001b[0m\n",
            "\u001b[0;32m/usr/lib/python3.10/json/__init__.py\u001b[0m in \u001b[0;36mloads\u001b[0;34m(s, cls, object_hook, parse_float, parse_int, parse_constant, object_pairs_hook, **kw)\u001b[0m\n\u001b[1;32m    333\u001b[0m     \u001b[0;32mif\u001b[0m \u001b[0misinstance\u001b[0m\u001b[0;34m(\u001b[0m\u001b[0ms\u001b[0m\u001b[0;34m,\u001b[0m \u001b[0mstr\u001b[0m\u001b[0;34m)\u001b[0m\u001b[0;34m:\u001b[0m\u001b[0;34m\u001b[0m\u001b[0;34m\u001b[0m\u001b[0m\n\u001b[1;32m    334\u001b[0m         \u001b[0;32mif\u001b[0m \u001b[0ms\u001b[0m\u001b[0;34m.\u001b[0m\u001b[0mstartswith\u001b[0m\u001b[0;34m(\u001b[0m\u001b[0;34m'\\ufeff'\u001b[0m\u001b[0;34m)\u001b[0m\u001b[0;34m:\u001b[0m\u001b[0;34m\u001b[0m\u001b[0;34m\u001b[0m\u001b[0m\n\u001b[0;32m--> 335\u001b[0;31m             raise JSONDecodeError(\"Unexpected UTF-8 BOM (decode using utf-8-sig)\",\n\u001b[0m\u001b[1;32m    336\u001b[0m                                   s, 0)\n\u001b[1;32m    337\u001b[0m     \u001b[0;32melse\u001b[0m\u001b[0;34m:\u001b[0m\u001b[0;34m\u001b[0m\u001b[0;34m\u001b[0m\u001b[0m\n",
            "\u001b[0;31mJSONDecodeError\u001b[0m: Unexpected UTF-8 BOM (decode using utf-8-sig): line 1 column 1 (char 0)"
          ]
        }
      ]
    },
    {
      "cell_type": "code",
      "source": [
        "from transformers import Wav2Vec2Processor\n",
        "\n",
        "processor = Wav2Vec2Processor(feature_extractor=feature_extractor, tokenizer=tokenizer)"
      ],
      "metadata": {
        "id": "tXn79kJ8ym6R",
        "outputId": "7b50fcd9-ad55-4ffd-8fdc-1c0b18896a43",
        "colab": {
          "base_uri": "https://localhost:8080/",
          "height": 196
        }
      },
      "execution_count": 9,
      "outputs": [
        {
          "output_type": "error",
          "ename": "NameError",
          "evalue": "name 'tokenizer' is not defined",
          "traceback": [
            "\u001b[0;31m---------------------------------------------------------------------------\u001b[0m",
            "\u001b[0;31mNameError\u001b[0m                                 Traceback (most recent call last)",
            "\u001b[0;32m<ipython-input-9-8de28d3b6110>\u001b[0m in \u001b[0;36m<cell line: 3>\u001b[0;34m()\u001b[0m\n\u001b[1;32m      1\u001b[0m \u001b[0;32mfrom\u001b[0m \u001b[0mtransformers\u001b[0m \u001b[0;32mimport\u001b[0m \u001b[0mWav2Vec2Processor\u001b[0m\u001b[0;34m\u001b[0m\u001b[0;34m\u001b[0m\u001b[0m\n\u001b[1;32m      2\u001b[0m \u001b[0;34m\u001b[0m\u001b[0m\n\u001b[0;32m----> 3\u001b[0;31m \u001b[0mprocessor\u001b[0m \u001b[0;34m=\u001b[0m \u001b[0mWav2Vec2Processor\u001b[0m\u001b[0;34m(\u001b[0m\u001b[0mfeature_extractor\u001b[0m\u001b[0;34m=\u001b[0m\u001b[0mfeature_extractor\u001b[0m\u001b[0;34m,\u001b[0m \u001b[0mtokenizer\u001b[0m\u001b[0;34m=\u001b[0m\u001b[0mtokenizer\u001b[0m\u001b[0;34m)\u001b[0m\u001b[0;34m\u001b[0m\u001b[0;34m\u001b[0m\u001b[0m\n\u001b[0m",
            "\u001b[0;31mNameError\u001b[0m: name 'tokenizer' is not defined"
          ]
        }
      ]
    },
    {
      "cell_type": "markdown",
      "source": [
        "With two basic classes - configuration and model - and an additional preprocessing class (tokenizer, image processor, feature extractor, or processor), you can create any of the models supported by 🤗 Transformers. Each of these base classes are configurable, allowing you to use the specific attributes you want. You can easily setup a model for training or modify an existing pretrained model to fine-tune."
      ],
      "metadata": {
        "id": "YP1cdL2fynYA"
      }
    }
  ]
}