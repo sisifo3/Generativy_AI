{
  "nbformat": 4,
  "nbformat_minor": 0,
  "metadata": {
    "colab": {
      "provenance": []
    },
    "kernelspec": {
      "name": "python3",
      "display_name": "Python 3"
    },
    "language_info": {
      "name": "python"
    }
  },
  "cells": [
    {
      "cell_type": "markdown",
      "source": [
        " Train with a script\n",
        "\n",
        "Along with the 🤗 Transformers notebooks, there are also example scripts demonstrating how to train a model for a task with PyTorch, TensorFlow, or JAX/Flax.\n",
        "\n",
        "You will also find scripts we’ve used in our research projects and legacy examples which are mostly community contributed. These scripts are not actively maintained and require a specific version of 🤗 Transformers that will most likely be incompatible with the latest version of the library.\n",
        "\n",
        "The example scripts are not expected to work out-of-the-box on every problem, and you may need to adapt the script to the problem you’re trying to solve. To help you with this, most of the scripts fully expose how data is preprocessed, allowing you to edit it as necessary for your use case.\n",
        "\n",
        "For any feature you’d like to implement in an example script, please discuss it on the forum or in an issue before submitting a Pull Request. While we welcome bug fixes, it is unlikely we will merge a Pull Request that adds more functionality at the cost of readability.\n",
        "\n",
        "This guide will show you how to run an example summarization training script in PyTorch and TensorFlow. All examples are expected to work with both frameworks unless otherwise specified."
      ],
      "metadata": {
        "id": "aSYKYqMGJNc-"
      }
    },
    {
      "cell_type": "markdown",
      "source": [
        "https://github.com/huggingface/transformers/tree/main/examples/research_projects\n",
        "\n",
        "https://github.com/huggingface/transformers/tree/main/examples/pytorch\n",
        "\n",
        "https://github.com/huggingface/transformers/tree/main/examples/flax\n",
        "\n",
        "https://github.com/huggingface/transformers/tree/main/examples/legacy\n",
        "\n",
        "https://github.com/huggingface/transformers/tree/main/examples\n",
        "\n",
        "https://huggingface.co/docs/transformers/model_doc/auto\n",
        "\n",
        "https://github.com/kamfonas/transformers"
      ],
      "metadata": {
        "id": "KtKZzSlpJQBA"
      }
    },
    {
      "cell_type": "markdown",
      "source": [
        " Setup\n",
        "\n",
        "To successfully run the latest version of the example scripts, you have to install 🤗 Transformers from source in a new virtual environment:"
      ],
      "metadata": {
        "id": "JkQMOKNRJz77"
      }
    },
    {
      "cell_type": "markdown",
      "source": [],
      "metadata": {
        "id": "Cd1F2U6LJz25"
      }
    },
    {
      "cell_type": "code",
      "execution_count": 1,
      "metadata": {
        "colab": {
          "base_uri": "https://localhost:8080/"
        },
        "id": "BIHlRq3x_8rp",
        "outputId": "a37f890f-bd4d-4f42-c023-643598234d0c"
      },
      "outputs": [
        {
          "output_type": "stream",
          "name": "stdout",
          "text": [
            "Cloning into 'transformers'...\n",
            "remote: Enumerating objects: 175984, done.\u001b[K\n",
            "remote: Counting objects: 100% (486/486), done.\u001b[K\n",
            "remote: Compressing objects: 100% (273/273), done.\u001b[K\n",
            "remote: Total 175984 (delta 241), reused 323 (delta 177), pack-reused 175498\u001b[K\n",
            "Receiving objects: 100% (175984/175984), 175.55 MiB | 14.38 MiB/s, done.\n",
            "Resolving deltas: 100% (133223/133223), done.\n",
            "\u001b[31mERROR: Directory '.' is not installable. Neither 'setup.py' nor 'pyproject.toml' found.\u001b[0m\u001b[31m\n",
            "\u001b[0m"
          ]
        }
      ],
      "source": [
        "!git clone https://github.com/huggingface/transformers\n",
        "!cd transformers\n",
        "!pip install ."
      ]
    },
    {
      "cell_type": "code",
      "source": [
        "!git checkout tags/v3.5.1"
      ],
      "metadata": {
        "colab": {
          "base_uri": "https://localhost:8080/"
        },
        "id": "1kut03AVJ4ET",
        "outputId": "78b49396-c39b-4db4-9fc5-fa2d4ca11708"
      },
      "execution_count": 2,
      "outputs": [
        {
          "output_type": "stream",
          "name": "stdout",
          "text": [
            "fatal: not a git repository (or any of the parent directories): .git\n"
          ]
        }
      ]
    },
    {
      "cell_type": "code",
      "source": [
        "!git checkout tags/v3.5.1"
      ],
      "metadata": {
        "colab": {
          "base_uri": "https://localhost:8080/"
        },
        "id": "9ThPsaEkKDIk",
        "outputId": "da3b7955-3522-4e83-a83e-755f4807cf62"
      },
      "execution_count": 3,
      "outputs": [
        {
          "output_type": "stream",
          "name": "stdout",
          "text": [
            "fatal: not a git repository (or any of the parent directories): .git\n"
          ]
        }
      ]
    },
    {
      "cell_type": "code",
      "source": [
        "!pip install -r requirements.txt"
      ],
      "metadata": {
        "colab": {
          "base_uri": "https://localhost:8080/"
        },
        "id": "oS4pQxDBKIAD",
        "outputId": "699dcc75-f53d-4011-f895-551c1895fad2"
      },
      "execution_count": 4,
      "outputs": [
        {
          "output_type": "stream",
          "name": "stdout",
          "text": [
            "\u001b[31mERROR: Could not open requirements file: [Errno 2] No such file or directory: 'requirements.txt'\u001b[0m\u001b[31m\n",
            "\u001b[0m"
          ]
        }
      ]
    }
  ]
}